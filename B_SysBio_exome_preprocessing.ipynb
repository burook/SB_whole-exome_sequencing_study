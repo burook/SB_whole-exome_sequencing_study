{
 "cells": [
  {
   "cell_type": "code",
   "execution_count": null,
   "metadata": {},
   "outputs": [],
   "source": []
  },
  {
   "cell_type": "markdown",
   "metadata": {},
   "source": [
    "## BWA"
   ]
  },
  {
   "cell_type": "markdown",
   "metadata": {},
   "source": [
    "BWA is an aligner recommended by GATK best practices pipeline. \n",
    "\n",
    "First, the genome needs to be indexed (bwa index).\n",
    "Indexed genome is already prepated and saved in erisone in the following directory. "
   ]
  },
  {
   "cell_type": "code",
   "execution_count": 4,
   "metadata": {},
   "outputs": [
    {
     "name": "stdout",
     "output_type": "stream",
     "text": [
      "total 416\r\n",
      "drwxrwxr-x. 2 526 datamgr 4096 Apr  2  2014 version0.5.x\r\n",
      "drwxrwxr-x. 2 526 datamgr 4096 Apr  2  2014 version0.6.0\r\n",
      "lrwxrwxrwx. 1 526 datamgr   26 Jun 23  2013 genome.fa.amb -> version0.6.0/genome.fa.amb\r\n",
      "lrwxrwxrwx. 1 526 datamgr   26 Jun 23  2013 genome.fa.pac -> version0.6.0/genome.fa.pac\r\n",
      "lrwxrwxrwx. 1 526 datamgr   22 Jun 23  2013 genome.fa -> version0.6.0/genome.fa\r\n",
      "lrwxrwxrwx. 1 526 datamgr   26 Jun 23  2013 genome.fa.bwt -> version0.6.0/genome.fa.bwt\r\n",
      "lrwxrwxrwx. 1 526 datamgr   26 Jun 23  2013 genome.fa.ann -> version0.6.0/genome.fa.ann\r\n",
      "lrwxrwxrwx. 1 526 datamgr   25 Jun 23  2013 genome.fa.sa -> version0.6.0/genome.fa.sa\r\n"
     ]
    }
   ],
   "source": [
    "! ls -lt /pub/genome_references/UCSC/Homo_sapiens/UCSC/hg19/Sequence/BWAIndex/"
   ]
  },
  {
   "cell_type": "markdown",
   "metadata": {},
   "source": [
    "Let's index it with samtools and picard for down stream analysis"
   ]
  },
  {
   "cell_type": "code",
   "execution_count": null,
   "metadata": {},
   "outputs": [],
   "source": [
    "%%bash\n",
    "\n",
    "module load picard\n",
    "\n",
    "cd /data/humgen/burook/ref\n",
    "cp /pub/genome_references/UCSC/Homo_sapiens/UCSC/hg19/Sequence/BWAIndex/genome.fa .\n",
    "cp /pub/genome_references/UCSC/Homo_sapiens/UCSC/hg19/Sequence/BWAIndex/* .\n",
    "\n",
    "samtools faidx genome.fa\n",
    "\n",
    "java -jar /apps/software/picard/2.6.0-Java-1.8.0_161/picard.jar CreateSequenceDictionary R=genome.fa O=genome.dict\n"
   ]
  },
  {
   "cell_type": "markdown",
   "metadata": {},
   "source": [
    "Let's also copy reference genomes so we can decompress them (we could not make some down stream analysis work with the compressed references)."
   ]
  },
  {
   "cell_type": "code",
   "execution_count": null,
   "metadata": {},
   "outputs": [],
   "source": [
    "%%bash\n",
    "\n",
    "cd /data/humgen/burook/ref\n",
    "refloc2=/pub/genome_references/gatk-bundle/1.5/hg19\n",
    "\n",
    "cp ${refloc2}/1000G_omni2.5.hg19.vcf.gz .\n",
    "cp ${refloc2}/1000G_omni2.5.hg19.vcf.idx.gz .\n",
    "gunzip 1000G_omni2.5.hg19.vcf.idx.gz \n",
    "gunzip 1000G_omni2.5.hg19.vcf.gz\n",
    "\n",
    "cp ${refloc2}/dbsnp_135.hg19.vcf.gz .\n",
    "cp ${refloc2}/dbsnp_135.hg19.vcf.idx.gz .\n",
    "gunzip dbsnp_135.hg19.vcf.idx.gz \n",
    "gunzip dbsnp_135.hg19.vcf.gz\n",
    "\n",
    "cp ${refloc2}/hapmap_3.3.hg19.vcf.gz .\n",
    "cp ${refloc2}/hapmap_3.3.hg19.vcf.idx.gz .\n",
    "gunzip hapmap_3.3.hg19.vcf.idx.gz \n",
    "gunzip hapmap_3.3.hg19.vcf.gz\n",
    "\n",
    "cp ${refloc2}/Mills_and_1000G_gold_standard.indels.hg19.vcf.gz .\n",
    "cp ${refloc2}/Mills_and_1000G_gold_standard.indels.hg19.vcf.idx.gz .\n",
    "gunzip Mills_and_1000G_gold_standard.indels.hg19.vcf.idx.gz \n",
    "gunzip Mills_and_1000G_gold_standard.indels.hg19.vcf.gz\n",
    "\n"
   ]
  },
  {
   "cell_type": "markdown",
   "metadata": {},
   "source": [
    "### Map read to reference genome (bwa mem)"
   ]
  },
  {
   "cell_type": "markdown",
   "metadata": {},
   "source": [
    "For a pair of pair-end fastq files, the following script maps reads to a given reference genome and returns a sam file. (save it to a file named bwa_map.sh)"
   ]
  },
  {
   "cell_type": "code",
   "execution_count": null,
   "metadata": {},
   "outputs": [],
   "source": [
    "#!/bin/bash\n",
    "\n",
    "header=$(zcat $1 | head -n 1)\n",
    "id=$(echo $header | head -n 1 | cut -f 1-4 -d\":\" | sed 's/@//' | sed 's/:/_/g')\n",
    "sm=$(echo $header | head -n 1 | grep -Eo \"[ATGCN]+$\")\n",
    "echo \"Read Group @RG\\tID:$id\\tSM:$id\"_\"$sm\\tLB:$id\"_\"$sm\\tPL:ILLUMINA\"\n",
    "\n",
    "refloc1=/data/humgen/burook/ref\n",
    "\n",
    "\n",
    "bwa mem \\\n",
    "    -M \\\n",
    "    -t 8 \\\n",
    "    -R $(echo \"@RG\\tID:$id\\tSM:$id\"_\"$sm\\tLB:$id\"_\"$sm\\tPL:ILLUMINA\") \\\n",
    "    ${refloc1}/genome.fa \\\n",
    "    $1 $2 | samtools view -Sb -  >  $3.bam\n"
   ]
  },
  {
   "cell_type": "markdown",
   "metadata": {},
   "source": [
    "We need to use this script to map all fastq results found in the Trimmomatic results folder. Note we are using our lab's node (hna001)."
   ]
  },
  {
   "cell_type": "code",
   "execution_count": null,
   "metadata": {},
   "outputs": [],
   "source": [
    "%%bash\n",
    "# Now submit it as follows\n",
    "\n",
    "dir3=/data/humgen/burook/sysbio_exome/trimmomatic_results1\n",
    "dir4=/data/humgen/burook/sysbio_exome/bwa_mapped\n",
    "\n",
    "for f1 in ${dir3}/*R1_001.pe.fastq.gz\n",
    "do\n",
    "    # f1 and f2 are inpute files for forward and reverse reads\n",
    "    f2=${dir3}/$(basename $f1 _R1_001.pe.fastq.gz)_R2_001.pe.fastq.gz\n",
    "    fout=${dir4}/$(basename $f1 _R1_001.pe.fastq.gz)_mapped_bwa\n",
    "    \n",
    "    bsub -m \"hna001\" -n 8 -M 8000 -o \"tmp1.out\" -e \"tmp1.err\" \"sh bwa_map.sh $f1 $f2 $fout\"\n",
    "\n",
    "    sleep 1\n",
    "done\n"
   ]
  },
  {
   "cell_type": "markdown",
   "metadata": {},
   "source": [
    "### Mark duplicates (using Picard)\n",
    "\n",
    "(save the following in a file named mark_duplicates.sh)"
   ]
  },
  {
   "cell_type": "code",
   "execution_count": null,
   "metadata": {},
   "outputs": [],
   "source": [
    "#!/bin/bash\n",
    "\n",
    "# input bam file\n",
    "f1=$1\n",
    "# prefix of the output file\n",
    "f2=$2\n",
    "# directory where input files are saved\n",
    "dir1=$3\n",
    "# directory where output files will be saved\n",
    "dir2=$4\n",
    "\n",
    "module load picard\n",
    "# on erisone the picard jar is located at $EBROOTPICARD\n",
    "# (its full path is /apps/software/picard/2.6.0-Java-1.8.0_161 )\n",
    "\n",
    "# Sorting the mapped file\n",
    "# The aligned reads need to be sorted for the next steps. This can be done with Picard.\n",
    "\n",
    "java -jar /apps/software/picard/2.6.0-Java-1.8.0_161/picard.jar SortSam \\\n",
    "     INPUT=${f1} \\\n",
    "     OUTPUT=${dir2}/${f2}_mapped_sorted.bam \\\n",
    "     SORT_ORDER=coordinate\n",
    "\n",
    "# Mark duplicates\n",
    "java -jar /apps/software/picard/2.6.0-Java-1.8.0_161/picard.jar MarkDuplicates \\\n",
    "      INPUT=${dir2}/${f2}_mapped_sorted.bam \\\n",
    "      OUTPUT=${dir2}/${f2}_marked_duplicates.bam \\\n",
    "      METRICS_FILE=${dir2}/${f2}_marked_dup_metrics.txt \\\n",
    "      CREATE_INDEX=TRUE \\\n",
    "      ASSUME_SORTED=TRUE\n"
   ]
  },
  {
   "cell_type": "markdown",
   "metadata": {},
   "source": [
    "Now call this script for individual bam files."
   ]
  },
  {
   "cell_type": "code",
   "execution_count": null,
   "metadata": {},
   "outputs": [],
   "source": [
    "%%bash\n",
    "\n",
    "# input data directory\n",
    "dir1=/data/humgen/burook/sysbio_exome/bwa_mapped\n",
    "# output data directory\n",
    "dir2=/data/humgen/burook/sysbio_exome/picard_mdupl/\n",
    "\n",
    "for f1 in ${dir1}/*.bam\n",
    "do\n",
    "    # f1 is the input sam file\n",
    "    f2=$(basename $f1 _mapped_bwa.bam)\n",
    "    \n",
    "    bsub -m \"hna001\" -n 8 -M 8000 -o \"tmp2.out\" -e \"tmp2.err\" \"sh mark_duplicates.sh $f1 $f2 $dir1 $dir2\"\n",
    "\n",
    "    sleep 1\n",
    "done\n"
   ]
  },
  {
   "cell_type": "code",
   "execution_count": null,
   "metadata": {},
   "outputs": [],
   "source": [
    "\n",
    "# let's see some stats for some samples\n",
    "samtools flagstat test_marked_duplicates.bam\n",
    "\n"
   ]
  },
  {
   "cell_type": "markdown",
   "metadata": {},
   "source": [
    "### Base Quality Score Recalibration (BQSR)\n",
    "save the following in a file named base_recalibration.sh"
   ]
  },
  {
   "cell_type": "code",
   "execution_count": null,
   "metadata": {},
   "outputs": [],
   "source": [
    "#!/bin/bash\n",
    "\n",
    "# input bam file\n",
    "f1=$1\n",
    "# prefix of the output file\n",
    "f2=$2\n",
    "# directory where input files are saved\n",
    "dir1=$3\n",
    "# directory where output files will be saved\n",
    "dir2=$4\n",
    "\n",
    "cd ${dir2}\n",
    "\n",
    "module load GATK\n",
    "# on erisone the GATK jar is located at $EBROOTGATK\n",
    "# (its full path is /apps/software/GATK/3.8-0-Java-1.8.0_161 )\n",
    "\n",
    "refloc1=/data/humgen/burook/ref\n",
    "refloc2=/pub/genome_references/gatk-bundle/1.5/hg19\n",
    "\n",
    "# Base recalibratin is done in two passes\n",
    "\n",
    "# Base recalibration (first pass)\n",
    "\n",
    "java -jar /apps/software/GATK/3.8-0-Java-1.8.0_161/GenomeAnalysisTK.jar -T BaseRecalibrator \\\n",
    "   -I ${f1} \\\n",
    "   -R ${refloc1}/genome.fa \\\n",
    "   -knownSites ${refloc1}/1000G_omni2.5.hg19.vcf \\\n",
    "   -knownSites ${refloc1}/dbsnp_135.hg19.vcf \\\n",
    "   -knownSites ${refloc1}/hapmap_3.3.hg19.vcf \\\n",
    "   -knownSites ${refloc1}/Mills_and_1000G_gold_standard.indels.hg19.vcf \\\n",
    "   --out ${f2}_recal_data.table\n",
    "\n",
    "# Base recalibration (second pass)\n",
    "\n",
    "java -jar /apps/software/GATK/3.8-0-Java-1.8.0_161/GenomeAnalysisTK.jar -T BaseRecalibrator \\\n",
    "   -I ${f1} \\\n",
    "   -R ${refloc1}/genome.fa \\\n",
    "   -knownSites ${refloc1}/1000G_omni2.5.hg19.vcf \\\n",
    "   -knownSites ${refloc1}/dbsnp_135.hg19.vcf \\\n",
    "   -knownSites ${refloc1}/hapmap_3.3.hg19.vcf \\\n",
    "   -knownSites ${refloc1}/Mills_and_1000G_gold_standard.indels.hg19.vcf \\\n",
    "   -BQSR ${f2}_recal_data.table \\\n",
    "   --out ${f2}_recal_data2.table\n",
    "\n",
    "# Print reads\n",
    "\n",
    "java -jar /apps/software/GATK/3.8-0-Java-1.8.0_161/GenomeAnalysisTK.jar -T PrintReads \\\n",
    "   -R ${refloc1}/genome.fa \\\n",
    "   -I ${f1} \\\n",
    "   -BQSR ${f2}_recal_data.table \\\n",
    "   --out ${f2}_recal3.bam\n",
    "\n",
    "# Analyze covariates\n",
    "\n",
    "module load R\n",
    "\n",
    "java -jar /apps/software/GATK/3.8-0-Java-1.8.0_161/GenomeAnalysisTK.jar -T AnalyzeCovariates \\\n",
    "   -R ${refloc1}/genome.fa \\\n",
    "   -before ${f2}_recal_data.table \\\n",
    "   -after ${f2}_recal_data2.table \\\n",
    "   -plots ${f2}_AnalyzeCovariates.pdf \\\n",
    "   -csv ${f2}_AnalyzeCovariates.csv\n",
    "   "
   ]
  },
  {
   "cell_type": "markdown",
   "metadata": {},
   "source": [
    "run this script for individual bam files"
   ]
  },
  {
   "cell_type": "code",
   "execution_count": null,
   "metadata": {},
   "outputs": [],
   "source": [
    "%%bash\n",
    "\n",
    "# input data directory\n",
    "dir1=/data/humgen/burook/sysbio_exome/picard_mdupl/\n",
    "# output data directory\n",
    "dir2=/data/humgen/burook/sysbio_exome/gatk_BQSR\n",
    "\n",
    "#for f1 in ${dir1}/*marked_duplicates.bam \n",
    "for f1 in ${dir1}/*mapped_bwa.bam_marked_duplicates.bam \n",
    "do\n",
    "    # f1 is the input sam file\n",
    "    #f2=$(basename $f1 _marked_duplicates.bam)\n",
    "    f2=$(basename $f1 _mapped_bwa.bam_marked_duplicates.bam)\n",
    "    \n",
    "    bsub -m \"hna001\" -n 8 -M 8000 -o \"tmp3.out\" -e \"tmp3.err\" \"sh base_recalibration.sh $f1 $f2 $dir1 $dir2\"\n",
    "\n",
    "    sleep 1\n",
    "done\n"
   ]
  },
  {
   "cell_type": "code",
   "execution_count": null,
   "metadata": {},
   "outputs": [],
   "source": []
  }
 ],
 "metadata": {
  "kernelspec": {
   "display_name": "Python3.6 (Anaconda5.2.0)",
   "language": "python",
   "name": "python3.6_anaconda5.2.0"
  },
  "language_info": {
   "codemirror_mode": {
    "name": "ipython",
    "version": 3
   },
   "file_extension": ".py",
   "mimetype": "text/x-python",
   "name": "python",
   "nbconvert_exporter": "python",
   "pygments_lexer": "ipython3",
   "version": "3.6.5"
  }
 },
 "nbformat": 4,
 "nbformat_minor": 2
}
