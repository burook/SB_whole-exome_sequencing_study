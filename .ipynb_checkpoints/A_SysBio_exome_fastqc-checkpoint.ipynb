{
 "cells": [
  {
   "attachments": {},
   "cell_type": "markdown",
   "metadata": {},
   "source": [
    "# Quality Control and  Pre-processing\n",
    "\n",
    "We start from raw reads obtained from the sequencer as FASTQ files.\n",
    "The first crucial step in WES analysis is to check the quality of the raw reads. There are many sources of errors of sequence reads (including ...).\n",
    "\n",
    "Problematic bases and reads need to be trimmed or filtered. Thus, the first step is to assess the quality of the reads (using FastQC). We then use Trimmomatic for trimming and cropping (removing low quality bases, clipping adapter sequences).\n"
   ]
  },
  {
   "cell_type": "code",
   "execution_count": null,
   "metadata": {},
   "outputs": [],
   "source": [
    "# number of fastq files\n",
    "! find /data/humgen/guffantilab/exome/SystemsBio/input/Exome/EXOME -type f -name '*.fastq.*' | sort | uniq | wc -l"
   ]
  },
  {
   "cell_type": "markdown",
   "metadata": {},
   "source": [
    "Hence, since they are paired reads, there are 307 samples."
   ]
  },
  {
   "cell_type": "code",
   "execution_count": 4,
   "metadata": {},
   "outputs": [],
   "source": [
    "%%bash\n",
    "# copy the vcf files into one folder\n",
    "cd /data/humgen/burook/sysbio_exome\n",
    "find /data/humgen/guffantilab/exome/SystemsBio/input/Exome/EXOME -type f -name '*.fastq.*' -exec cp -t /data/humgen/burook/sysbio_exome/raw/ {} +"
   ]
  },
  {
   "cell_type": "markdown",
   "metadata": {},
   "source": [
    "### FastQC analysis"
   ]
  },
  {
   "cell_type": "markdown",
   "metadata": {},
   "source": [
    "Save the following into a file (~/WES_analysis/fastqc_analysis1.sh)."
   ]
  },
  {
   "cell_type": "code",
   "execution_count": null,
   "metadata": {},
   "outputs": [],
   "source": [
    "#!/bin/sh\n",
    "\n",
    "# FastQC is aleady available on erisone\n",
    "module load FastQC/0.11.8-Java-1.8\n",
    "\n",
    "# directory where raw data is saved\n",
    "dir1=/data/humgen/burook/sysbio_exome/raw/\n",
    "# directory where results will be saved\n",
    "dir2=/data/humgen/burook/sysbio_exome/fastq_result1\n",
    "\n",
    "cd ${dir1}\n",
    "\n",
    "for file in $(ls $dir1)\n",
    "do\n",
    "    fastqc $file -o $dir2\n",
    "done"
   ]
  },
  {
   "cell_type": "markdown",
   "metadata": {},
   "source": [
    "Now run this file on bash. (by opening a terminal on Jupyter)"
   ]
  },
  {
   "cell_type": "code",
   "execution_count": null,
   "metadata": {},
   "outputs": [],
   "source": [
    "! ~/WES_analysis/fastqc_analysis1.sh"
   ]
  },
  {
   "cell_type": "markdown",
   "metadata": {},
   "source": [
    "A single result file for each individual fastq file is saved. Now, let's use MultiQC for aggregating the results into one file.\n",
    "Note: Only 540 (out of 614) fastq files could be read/processed by fastQC."
   ]
  },
  {
   "cell_type": "markdown",
   "metadata": {},
   "source": [
    "### MultiQC analysis"
   ]
  },
  {
   "cell_type": "markdown",
   "metadata": {},
   "source": [
    "Run the following in a Terminal."
   ]
  },
  {
   "cell_type": "code",
   "execution_count": null,
   "metadata": {},
   "outputs": [],
   "source": [
    "%%bash\n",
    "\n",
    "# let's install MultiQC in conda\n",
    "module load anaconda2\n",
    "conda create --name conda_test python=2.7\n",
    "source activate conda_test\n",
    "conda install -c bioconda multiqc\n",
    "\n",
    "# cd to the folder where multiqc results should be saved\n",
    "cd /data/humgen/burook/sysbio_exome/fastq_result1_multiqc/\n",
    "multiqc /data/humgen/burook/sysbio_exome/fastq_result1"
   ]
  },
  {
   "cell_type": "markdown",
   "metadata": {},
   "source": [
    "### Trimmomatic "
   ]
  },
  {
   "cell_type": "markdown",
   "metadata": {},
   "source": [
    "Save the following in a text file (~/WES_analysis/trimmomatic_analysis.sh)."
   ]
  },
  {
   "cell_type": "code",
   "execution_count": null,
   "metadata": {},
   "outputs": [],
   "source": [
    "#!/bin/bash\n",
    "\n",
    "# directory where raw data is saved\n",
    "dir1=/data/humgen/burook/sysbio_exome/raw/\n",
    "# directory where results will be saved\n",
    "dir2=/data/humgen/burook/sysbio_exome/trimmomatic_results1\n",
    "\n",
    "cd ${dir1}\n",
    "\n",
    "for f1 in *R1_001.fastq.gz\n",
    "do\n",
    "    # f1 and f2 are inpute files for forward and reverse reads\n",
    "    f2=$(basename $f1 _R1_001.fastq.gz)_R2_001.fastq.gz\n",
    "    # the following four are output files (forward and revers for paired and single)\n",
    "    f1p=$(basename $f1 _R1_001.fastq.gz)_R1_001.pe.fastq.gz \n",
    "    f1s=$(basename $f1 _R1_001.fastq.gz)_R1_001.se.fastq.gz\n",
    "    f2p=$(basename $f1 _R1_001.fastq.gz)_R2_001.pe.fastq.gz\n",
    "    f2s=$(basename $f1 _R1_001.fastq.gz)_R2_001.se.fastq.gz\n",
    "    \n",
    "    java -jar /PHShome/bm363/bin/trimmomatic/trimmomatic-0.39.jar PE -threads 24 \\\n",
    "        ${f1} ${f2} \\\n",
    "        ${dir2}/${f1p} ${dir2}/${f1s} ${dir2}/${f2p} ${dir2}/${f2s} \\\n",
    "        ILLUMINACLIP:/PHShome/bm363/bin/trimmomatic/adapters/TruSeq3-PE.fa:2:30:10:2:keepBothReads \\\n",
    "        LEADING:3 TRAILING:3 MINLEN:36\n",
    "done\n"
   ]
  },
  {
   "cell_type": "markdown",
   "metadata": {},
   "source": [
    "Run this file on a terminal (opened on Jupyter). Note that there are four output files. The single-read file is one that would be produced if only the corresponding pair is trimmed but not the read itself."
   ]
  },
  {
   "cell_type": "code",
   "execution_count": null,
   "metadata": {},
   "outputs": [],
   "source": []
  },
  {
   "cell_type": "markdown",
   "metadata": {},
   "source": [
    "\n",
    "\n"
   ]
  },
  {
   "cell_type": "code",
   "execution_count": null,
   "metadata": {},
   "outputs": [],
   "source": [
    "\n",
    "\n"
   ]
  }
 ],
 "metadata": {
  "kernelspec": {
   "display_name": "Python3.6 (Anaconda5.2.0)",
   "language": "python",
   "name": "python3.6_anaconda5.2.0"
  },
  "language_info": {
   "codemirror_mode": {
    "name": "ipython",
    "version": 3
   },
   "file_extension": ".py",
   "mimetype": "text/x-python",
   "name": "python",
   "nbconvert_exporter": "python",
   "pygments_lexer": "ipython3",
   "version": "3.6.5"
  }
 },
 "nbformat": 4,
 "nbformat_minor": 2
}
