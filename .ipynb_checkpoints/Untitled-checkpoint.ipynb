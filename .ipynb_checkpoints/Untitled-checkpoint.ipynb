{
 "cells": [
  {
   "cell_type": "markdown",
   "metadata": {},
   "source": [
    "Download and install necessary tools."
   ]
  },
  {
   "cell_type": "code",
   "execution_count": null,
   "metadata": {},
   "outputs": [],
   "source": [
    "# FastQC is aleady available\n",
    "\n",
    "module load FastQC/0.11.8-Java-1.8"
   ]
  },
  {
   "cell_type": "markdown",
   "metadata": {},
   "source": []
  },
  {
   "cell_type": "code",
   "execution_count": 1,
   "metadata": {},
   "outputs": [
    {
     "name": "stdout",
     "output_type": "stream",
     "text": [
      "wget: /opt/anaconda/3-5.2.0/lib/libuuid.so.1: no version information available (required by wget)\n",
      "--2020-01-15 10:39:03--  ftp://ftp.sra.ebi.ac.uk/vol1/fastq/SRR098/SRR098401/SRR098401_1.fastq.gz\n",
      "           => ‘SRR098401_1.fastq.gz’\n",
      "Resolving ftp.sra.ebi.ac.uk (ftp.sra.ebi.ac.uk)... 193.62.192.7\n",
      "Connecting to ftp.sra.ebi.ac.uk (ftp.sra.ebi.ac.uk)|193.62.192.7|:21... connected.\n",
      "Logging in as anonymous ... \n",
      "Error in server greeting.\n",
      "Retrying.\n",
      "\n",
      "--2020-01-15 10:39:05--  ftp://ftp.sra.ebi.ac.uk/vol1/fastq/SRR098/SRR098401/SRR098401_1.fastq.gz\n",
      "  (try: 2) => ‘SRR098401_1.fastq.gz’\n",
      "Connecting to ftp.sra.ebi.ac.uk (ftp.sra.ebi.ac.uk)|193.62.192.7|:21... connected.\n",
      "Logging in as anonymous ... Logged in!\n",
      "==> SYST ... done.    ==> PWD ... done.\n",
      "==> TYPE I ... done.  ==> CWD (1) /vol1/fastq/SRR098/SRR098401 ... done.\n",
      "==> SIZE SRR098401_1.fastq.gz ... 7495738881\n",
      "==> PASV ... done.    ==> RETR SRR098401_1.fastq.gz ... done.\n",
      "Length: 7495738881 (7.0G) (unauthoritative)\n",
      "\n",
      "100%[====================================>] 7,495,738,881 8.96MB/s   in 31m 52s\n",
      "\n",
      "2020-01-15 11:10:58 (3.74 MB/s) - ‘SRR098401_1.fastq.gz’ saved [7495738881]\n",
      "\n"
     ]
    }
   ],
   "source": [
    "%%bash\n",
    "# let's download a fastq file for a single file from !000G for testing our codes\n",
    "wget ftp://ftp.sra.ebi.ac.uk/vol1/fastq/SRR098/SRR098401/SRR098401_1.fastq.gz\n",
    "gunzip SRR098401_1.fastq.gz\n"
   ]
  },
  {
   "cell_type": "code",
   "execution_count": null,
   "metadata": {},
   "outputs": [],
   "source": [
    "%%bash\n",
    "module load FastQC/0.11.8-Java-1.8\n",
    "# see options for fastqc with the following command\n",
    "fastqc -h\n",
    "# run fastqc for the single 1000G sample\n",
    "fastqc SRR098401_1.fastq\n"
   ]
  },
  {
   "cell_type": "code",
   "execution_count": null,
   "metadata": {},
   "outputs": [],
   "source": [
    "%%bash\n",
    "module load Bowtie2/2.3.4.2-foss-2018b\n",
    "bowtie2-build hg38.fa reference"
   ]
  },
  {
   "cell_type": "code",
   "execution_count": 2,
   "metadata": {},
   "outputs": [
    {
     "name": "stderr",
     "output_type": "stream",
     "text": [
      "bash: line 1: module: command not found\n",
      "bash: line 3: fastqc: command not found\n"
     ]
    }
   ],
   "source": [
    "%%bash\n",
    "module load FastQC/0.11.8-Java-1.8\n",
    "# run fastqc for a single read\n",
    "fastqc /data/humgen/guffantilab/exome/SystemsBio/input/Exome/EXOME/19087_HFCF7BGXY/Sample_201009_19087_HFCF7BGXY/201009_S3_R1_001.fastq.gz --extract -o result1 \n"
   ]
  },
  {
   "cell_type": "code",
   "execution_count": null,
   "metadata": {},
   "outputs": [],
   "source": []
  }
 ],
 "metadata": {
  "kernelspec": {
   "display_name": "Python3.6 (Anaconda5.2.0)",
   "language": "python",
   "name": "python3.6_anaconda5.2.0"
  },
  "language_info": {
   "codemirror_mode": {
    "name": "ipython",
    "version": 3
   },
   "file_extension": ".py",
   "mimetype": "text/x-python",
   "name": "python",
   "nbconvert_exporter": "python",
   "pygments_lexer": "ipython3",
   "version": "3.6.5"
  }
 },
 "nbformat": 4,
 "nbformat_minor": 2
}
