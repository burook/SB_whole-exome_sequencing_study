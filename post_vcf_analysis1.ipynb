{
 "cells": [
  {
   "cell_type": "markdown",
   "metadata": {},
   "source": [
    "## Install hail"
   ]
  },
  {
   "cell_type": "code",
   "execution_count": null,
   "metadata": {},
   "outputs": [],
   "source": [
    "%%bash\n",
    "# install hail in a conda env.\n",
    "#conda create -n hail python'>=3.6,<3.8'\n",
    "#conda activate hail\n",
    "#pip install hail\n"
   ]
  },
  {
   "cell_type": "code",
   "execution_count": 47,
   "metadata": {},
   "outputs": [],
   "source": [
    "# let's also install rpy2 for R\n",
    "#conda install -c r rpy2"
   ]
  },
  {
   "cell_type": "markdown",
   "metadata": {},
   "source": [
    "## Setup"
   ]
  },
  {
   "cell_type": "code",
   "execution_count": 1,
   "metadata": {},
   "outputs": [
    {
     "name": "stderr",
     "output_type": "stream",
     "text": [
      "Running on Apache Spark version 2.4.1\n",
      "SparkUI available at http://da02:4040\n",
      "Welcome to\n",
      "     __  __     <>__\n",
      "    / /_/ /__  __/ /\n",
      "   / __  / _ `/ / /\n",
      "  /_/ /_/\\_,_/_/_/   version 0.2.39-ef87446bd1c7\n",
      "LOGGING: writing to /PHShome/bm363/WES_analysis/notebooks_codes/hail-20200606-2125-0.2.39-ef87446bd1c7.log\n"
     ]
    },
    {
     "data": {
      "text/html": [
       "\n",
       "    <div class=\"bk-root\">\n",
       "        <a href=\"https://bokeh.pydata.org\" target=\"_blank\" class=\"bk-logo bk-logo-small bk-logo-notebook\"></a>\n",
       "        <span id=\"1001\">Loading BokehJS ...</span>\n",
       "    </div>"
      ]
     },
     "metadata": {},
     "output_type": "display_data"
    },
    {
     "data": {
      "application/javascript": [
       "\n",
       "(function(root) {\n",
       "  function now() {\n",
       "    return new Date();\n",
       "  }\n",
       "\n",
       "  var force = true;\n",
       "\n",
       "  if (typeof root._bokeh_onload_callbacks === \"undefined\" || force === true) {\n",
       "    root._bokeh_onload_callbacks = [];\n",
       "    root._bokeh_is_loading = undefined;\n",
       "  }\n",
       "\n",
       "  var JS_MIME_TYPE = 'application/javascript';\n",
       "  var HTML_MIME_TYPE = 'text/html';\n",
       "  var EXEC_MIME_TYPE = 'application/vnd.bokehjs_exec.v0+json';\n",
       "  var CLASS_NAME = 'output_bokeh rendered_html';\n",
       "\n",
       "  /**\n",
       "   * Render data to the DOM node\n",
       "   */\n",
       "  function render(props, node) {\n",
       "    var script = document.createElement(\"script\");\n",
       "    node.appendChild(script);\n",
       "  }\n",
       "\n",
       "  /**\n",
       "   * Handle when an output is cleared or removed\n",
       "   */\n",
       "  function handleClearOutput(event, handle) {\n",
       "    var cell = handle.cell;\n",
       "\n",
       "    var id = cell.output_area._bokeh_element_id;\n",
       "    var server_id = cell.output_area._bokeh_server_id;\n",
       "    // Clean up Bokeh references\n",
       "    if (id != null && id in Bokeh.index) {\n",
       "      Bokeh.index[id].model.document.clear();\n",
       "      delete Bokeh.index[id];\n",
       "    }\n",
       "\n",
       "    if (server_id !== undefined) {\n",
       "      // Clean up Bokeh references\n",
       "      var cmd = \"from bokeh.io.state import curstate; print(curstate().uuid_to_server['\" + server_id + \"'].get_sessions()[0].document.roots[0]._id)\";\n",
       "      cell.notebook.kernel.execute(cmd, {\n",
       "        iopub: {\n",
       "          output: function(msg) {\n",
       "            var id = msg.content.text.trim();\n",
       "            if (id in Bokeh.index) {\n",
       "              Bokeh.index[id].model.document.clear();\n",
       "              delete Bokeh.index[id];\n",
       "            }\n",
       "          }\n",
       "        }\n",
       "      });\n",
       "      // Destroy server and session\n",
       "      var cmd = \"import bokeh.io.notebook as ion; ion.destroy_server('\" + server_id + \"')\";\n",
       "      cell.notebook.kernel.execute(cmd);\n",
       "    }\n",
       "  }\n",
       "\n",
       "  /**\n",
       "   * Handle when a new output is added\n",
       "   */\n",
       "  function handleAddOutput(event, handle) {\n",
       "    var output_area = handle.output_area;\n",
       "    var output = handle.output;\n",
       "\n",
       "    // limit handleAddOutput to display_data with EXEC_MIME_TYPE content only\n",
       "    if ((output.output_type != \"display_data\") || (!output.data.hasOwnProperty(EXEC_MIME_TYPE))) {\n",
       "      return\n",
       "    }\n",
       "\n",
       "    var toinsert = output_area.element.find(\".\" + CLASS_NAME.split(' ')[0]);\n",
       "\n",
       "    if (output.metadata[EXEC_MIME_TYPE][\"id\"] !== undefined) {\n",
       "      toinsert[toinsert.length - 1].firstChild.textContent = output.data[JS_MIME_TYPE];\n",
       "      // store reference to embed id on output_area\n",
       "      output_area._bokeh_element_id = output.metadata[EXEC_MIME_TYPE][\"id\"];\n",
       "    }\n",
       "    if (output.metadata[EXEC_MIME_TYPE][\"server_id\"] !== undefined) {\n",
       "      var bk_div = document.createElement(\"div\");\n",
       "      bk_div.innerHTML = output.data[HTML_MIME_TYPE];\n",
       "      var script_attrs = bk_div.children[0].attributes;\n",
       "      for (var i = 0; i < script_attrs.length; i++) {\n",
       "        toinsert[toinsert.length - 1].firstChild.setAttribute(script_attrs[i].name, script_attrs[i].value);\n",
       "      }\n",
       "      // store reference to server id on output_area\n",
       "      output_area._bokeh_server_id = output.metadata[EXEC_MIME_TYPE][\"server_id\"];\n",
       "    }\n",
       "  }\n",
       "\n",
       "  function register_renderer(events, OutputArea) {\n",
       "\n",
       "    function append_mime(data, metadata, element) {\n",
       "      // create a DOM node to render to\n",
       "      var toinsert = this.create_output_subarea(\n",
       "        metadata,\n",
       "        CLASS_NAME,\n",
       "        EXEC_MIME_TYPE\n",
       "      );\n",
       "      this.keyboard_manager.register_events(toinsert);\n",
       "      // Render to node\n",
       "      var props = {data: data, metadata: metadata[EXEC_MIME_TYPE]};\n",
       "      render(props, toinsert[toinsert.length - 1]);\n",
       "      element.append(toinsert);\n",
       "      return toinsert\n",
       "    }\n",
       "\n",
       "    /* Handle when an output is cleared or removed */\n",
       "    events.on('clear_output.CodeCell', handleClearOutput);\n",
       "    events.on('delete.Cell', handleClearOutput);\n",
       "\n",
       "    /* Handle when a new output is added */\n",
       "    events.on('output_added.OutputArea', handleAddOutput);\n",
       "\n",
       "    /**\n",
       "     * Register the mime type and append_mime function with output_area\n",
       "     */\n",
       "    OutputArea.prototype.register_mime_type(EXEC_MIME_TYPE, append_mime, {\n",
       "      /* Is output safe? */\n",
       "      safe: true,\n",
       "      /* Index of renderer in `output_area.display_order` */\n",
       "      index: 0\n",
       "    });\n",
       "  }\n",
       "\n",
       "  // register the mime type if in Jupyter Notebook environment and previously unregistered\n",
       "  if (root.Jupyter !== undefined) {\n",
       "    var events = require('base/js/events');\n",
       "    var OutputArea = require('notebook/js/outputarea').OutputArea;\n",
       "\n",
       "    if (OutputArea.prototype.mime_types().indexOf(EXEC_MIME_TYPE) == -1) {\n",
       "      register_renderer(events, OutputArea);\n",
       "    }\n",
       "  }\n",
       "\n",
       "  \n",
       "  if (typeof (root._bokeh_timeout) === \"undefined\" || force === true) {\n",
       "    root._bokeh_timeout = Date.now() + 5000;\n",
       "    root._bokeh_failed_load = false;\n",
       "  }\n",
       "\n",
       "  var NB_LOAD_WARNING = {'data': {'text/html':\n",
       "     \"<div style='background-color: #fdd'>\\n\"+\n",
       "     \"<p>\\n\"+\n",
       "     \"BokehJS does not appear to have successfully loaded. If loading BokehJS from CDN, this \\n\"+\n",
       "     \"may be due to a slow or bad network connection. Possible fixes:\\n\"+\n",
       "     \"</p>\\n\"+\n",
       "     \"<ul>\\n\"+\n",
       "     \"<li>re-rerun `output_notebook()` to attempt to load from CDN again, or</li>\\n\"+\n",
       "     \"<li>use INLINE resources instead, as so:</li>\\n\"+\n",
       "     \"</ul>\\n\"+\n",
       "     \"<code>\\n\"+\n",
       "     \"from bokeh.resources import INLINE\\n\"+\n",
       "     \"output_notebook(resources=INLINE)\\n\"+\n",
       "     \"</code>\\n\"+\n",
       "     \"</div>\"}};\n",
       "\n",
       "  function display_loaded() {\n",
       "    var el = document.getElementById(\"1001\");\n",
       "    if (el != null) {\n",
       "      el.textContent = \"BokehJS is loading...\";\n",
       "    }\n",
       "    if (root.Bokeh !== undefined) {\n",
       "      if (el != null) {\n",
       "        el.textContent = \"BokehJS \" + root.Bokeh.version + \" successfully loaded.\";\n",
       "      }\n",
       "    } else if (Date.now() < root._bokeh_timeout) {\n",
       "      setTimeout(display_loaded, 100)\n",
       "    }\n",
       "  }\n",
       "\n",
       "\n",
       "  function run_callbacks() {\n",
       "    try {\n",
       "      root._bokeh_onload_callbacks.forEach(function(callback) {\n",
       "        if (callback != null)\n",
       "          callback();\n",
       "      });\n",
       "    } finally {\n",
       "      delete root._bokeh_onload_callbacks\n",
       "    }\n",
       "    console.debug(\"Bokeh: all callbacks have finished\");\n",
       "  }\n",
       "\n",
       "  function load_libs(css_urls, js_urls, callback) {\n",
       "    if (css_urls == null) css_urls = [];\n",
       "    if (js_urls == null) js_urls = [];\n",
       "\n",
       "    root._bokeh_onload_callbacks.push(callback);\n",
       "    if (root._bokeh_is_loading > 0) {\n",
       "      console.debug(\"Bokeh: BokehJS is being loaded, scheduling callback at\", now());\n",
       "      return null;\n",
       "    }\n",
       "    if (js_urls == null || js_urls.length === 0) {\n",
       "      run_callbacks();\n",
       "      return null;\n",
       "    }\n",
       "    console.debug(\"Bokeh: BokehJS not loaded, scheduling load and callback at\", now());\n",
       "    root._bokeh_is_loading = css_urls.length + js_urls.length;\n",
       "\n",
       "    function on_load() {\n",
       "      root._bokeh_is_loading--;\n",
       "      if (root._bokeh_is_loading === 0) {\n",
       "        console.debug(\"Bokeh: all BokehJS libraries/stylesheets loaded\");\n",
       "        run_callbacks()\n",
       "      }\n",
       "    }\n",
       "\n",
       "    function on_error() {\n",
       "      console.error(\"failed to load \" + url);\n",
       "    }\n",
       "\n",
       "    for (var i = 0; i < css_urls.length; i++) {\n",
       "      var url = css_urls[i];\n",
       "      const element = document.createElement(\"link\");\n",
       "      element.onload = on_load;\n",
       "      element.onerror = on_error;\n",
       "      element.rel = \"stylesheet\";\n",
       "      element.type = \"text/css\";\n",
       "      element.href = url;\n",
       "      console.debug(\"Bokeh: injecting link tag for BokehJS stylesheet: \", url);\n",
       "      document.body.appendChild(element);\n",
       "    }\n",
       "\n",
       "    for (var i = 0; i < js_urls.length; i++) {\n",
       "      var url = js_urls[i];\n",
       "      var element = document.createElement('script');\n",
       "      element.onload = on_load;\n",
       "      element.onerror = on_error;\n",
       "      element.async = false;\n",
       "      element.src = url;\n",
       "      console.debug(\"Bokeh: injecting script tag for BokehJS library: \", url);\n",
       "      document.head.appendChild(element);\n",
       "    }\n",
       "  };var element = document.getElementById(\"1001\");\n",
       "  if (element == null) {\n",
       "    console.error(\"Bokeh: ERROR: autoload.js configured with elementid '1001' but no matching script tag was found. \")\n",
       "    return false;\n",
       "  }\n",
       "\n",
       "  function inject_raw_css(css) {\n",
       "    const element = document.createElement(\"style\");\n",
       "    element.appendChild(document.createTextNode(css));\n",
       "    document.body.appendChild(element);\n",
       "  }\n",
       "\n",
       "  var js_urls = [\"https://cdn.pydata.org/bokeh/release/bokeh-1.2.0.min.js\", \"https://cdn.pydata.org/bokeh/release/bokeh-widgets-1.2.0.min.js\", \"https://cdn.pydata.org/bokeh/release/bokeh-tables-1.2.0.min.js\", \"https://cdn.pydata.org/bokeh/release/bokeh-gl-1.2.0.min.js\"];\n",
       "  var css_urls = [\"https://cdn.pydata.org/bokeh/release/bokeh-1.2.0.min.css\", \"https://cdn.pydata.org/bokeh/release/bokeh-widgets-1.2.0.min.css\", \"https://cdn.pydata.org/bokeh/release/bokeh-tables-1.2.0.min.css\"];\n",
       "\n",
       "  var inline_js = [\n",
       "    function(Bokeh) {\n",
       "      Bokeh.set_log_level(\"info\");\n",
       "    },\n",
       "    \n",
       "    function(Bokeh) {\n",
       "      \n",
       "    },\n",
       "    function(Bokeh) {} // ensure no trailing comma for IE\n",
       "  ];\n",
       "\n",
       "  function run_inline_js() {\n",
       "    \n",
       "    if ((root.Bokeh !== undefined) || (force === true)) {\n",
       "      for (var i = 0; i < inline_js.length; i++) {\n",
       "        inline_js[i].call(root, root.Bokeh);\n",
       "      }if (force === true) {\n",
       "        display_loaded();\n",
       "      }} else if (Date.now() < root._bokeh_timeout) {\n",
       "      setTimeout(run_inline_js, 100);\n",
       "    } else if (!root._bokeh_failed_load) {\n",
       "      console.log(\"Bokeh: BokehJS failed to load within specified timeout.\");\n",
       "      root._bokeh_failed_load = true;\n",
       "    } else if (force !== true) {\n",
       "      var cell = $(document.getElementById(\"1001\")).parents('.cell').data().cell;\n",
       "      cell.output_area.append_execute_result(NB_LOAD_WARNING)\n",
       "    }\n",
       "\n",
       "  }\n",
       "\n",
       "  if (root._bokeh_is_loading === 0) {\n",
       "    console.debug(\"Bokeh: BokehJS loaded, going straight to plotting\");\n",
       "    run_inline_js();\n",
       "  } else {\n",
       "    load_libs(css_urls, js_urls, function() {\n",
       "      console.debug(\"Bokeh: BokehJS plotting callback run at\", now());\n",
       "      run_inline_js();\n",
       "    });\n",
       "  }\n",
       "}(window));"
      ],
      "application/vnd.bokehjs_load.v0+json": "\n(function(root) {\n  function now() {\n    return new Date();\n  }\n\n  var force = true;\n\n  if (typeof root._bokeh_onload_callbacks === \"undefined\" || force === true) {\n    root._bokeh_onload_callbacks = [];\n    root._bokeh_is_loading = undefined;\n  }\n\n  \n\n  \n  if (typeof (root._bokeh_timeout) === \"undefined\" || force === true) {\n    root._bokeh_timeout = Date.now() + 5000;\n    root._bokeh_failed_load = false;\n  }\n\n  var NB_LOAD_WARNING = {'data': {'text/html':\n     \"<div style='background-color: #fdd'>\\n\"+\n     \"<p>\\n\"+\n     \"BokehJS does not appear to have successfully loaded. If loading BokehJS from CDN, this \\n\"+\n     \"may be due to a slow or bad network connection. Possible fixes:\\n\"+\n     \"</p>\\n\"+\n     \"<ul>\\n\"+\n     \"<li>re-rerun `output_notebook()` to attempt to load from CDN again, or</li>\\n\"+\n     \"<li>use INLINE resources instead, as so:</li>\\n\"+\n     \"</ul>\\n\"+\n     \"<code>\\n\"+\n     \"from bokeh.resources import INLINE\\n\"+\n     \"output_notebook(resources=INLINE)\\n\"+\n     \"</code>\\n\"+\n     \"</div>\"}};\n\n  function display_loaded() {\n    var el = document.getElementById(\"1001\");\n    if (el != null) {\n      el.textContent = \"BokehJS is loading...\";\n    }\n    if (root.Bokeh !== undefined) {\n      if (el != null) {\n        el.textContent = \"BokehJS \" + root.Bokeh.version + \" successfully loaded.\";\n      }\n    } else if (Date.now() < root._bokeh_timeout) {\n      setTimeout(display_loaded, 100)\n    }\n  }\n\n\n  function run_callbacks() {\n    try {\n      root._bokeh_onload_callbacks.forEach(function(callback) {\n        if (callback != null)\n          callback();\n      });\n    } finally {\n      delete root._bokeh_onload_callbacks\n    }\n    console.debug(\"Bokeh: all callbacks have finished\");\n  }\n\n  function load_libs(css_urls, js_urls, callback) {\n    if (css_urls == null) css_urls = [];\n    if (js_urls == null) js_urls = [];\n\n    root._bokeh_onload_callbacks.push(callback);\n    if (root._bokeh_is_loading > 0) {\n      console.debug(\"Bokeh: BokehJS is being loaded, scheduling callback at\", now());\n      return null;\n    }\n    if (js_urls == null || js_urls.length === 0) {\n      run_callbacks();\n      return null;\n    }\n    console.debug(\"Bokeh: BokehJS not loaded, scheduling load and callback at\", now());\n    root._bokeh_is_loading = css_urls.length + js_urls.length;\n\n    function on_load() {\n      root._bokeh_is_loading--;\n      if (root._bokeh_is_loading === 0) {\n        console.debug(\"Bokeh: all BokehJS libraries/stylesheets loaded\");\n        run_callbacks()\n      }\n    }\n\n    function on_error() {\n      console.error(\"failed to load \" + url);\n    }\n\n    for (var i = 0; i < css_urls.length; i++) {\n      var url = css_urls[i];\n      const element = document.createElement(\"link\");\n      element.onload = on_load;\n      element.onerror = on_error;\n      element.rel = \"stylesheet\";\n      element.type = \"text/css\";\n      element.href = url;\n      console.debug(\"Bokeh: injecting link tag for BokehJS stylesheet: \", url);\n      document.body.appendChild(element);\n    }\n\n    for (var i = 0; i < js_urls.length; i++) {\n      var url = js_urls[i];\n      var element = document.createElement('script');\n      element.onload = on_load;\n      element.onerror = on_error;\n      element.async = false;\n      element.src = url;\n      console.debug(\"Bokeh: injecting script tag for BokehJS library: \", url);\n      document.head.appendChild(element);\n    }\n  };var element = document.getElementById(\"1001\");\n  if (element == null) {\n    console.error(\"Bokeh: ERROR: autoload.js configured with elementid '1001' but no matching script tag was found. \")\n    return false;\n  }\n\n  function inject_raw_css(css) {\n    const element = document.createElement(\"style\");\n    element.appendChild(document.createTextNode(css));\n    document.body.appendChild(element);\n  }\n\n  var js_urls = [\"https://cdn.pydata.org/bokeh/release/bokeh-1.2.0.min.js\", \"https://cdn.pydata.org/bokeh/release/bokeh-widgets-1.2.0.min.js\", \"https://cdn.pydata.org/bokeh/release/bokeh-tables-1.2.0.min.js\", \"https://cdn.pydata.org/bokeh/release/bokeh-gl-1.2.0.min.js\"];\n  var css_urls = [\"https://cdn.pydata.org/bokeh/release/bokeh-1.2.0.min.css\", \"https://cdn.pydata.org/bokeh/release/bokeh-widgets-1.2.0.min.css\", \"https://cdn.pydata.org/bokeh/release/bokeh-tables-1.2.0.min.css\"];\n\n  var inline_js = [\n    function(Bokeh) {\n      Bokeh.set_log_level(\"info\");\n    },\n    \n    function(Bokeh) {\n      \n    },\n    function(Bokeh) {} // ensure no trailing comma for IE\n  ];\n\n  function run_inline_js() {\n    \n    if ((root.Bokeh !== undefined) || (force === true)) {\n      for (var i = 0; i < inline_js.length; i++) {\n        inline_js[i].call(root, root.Bokeh);\n      }if (force === true) {\n        display_loaded();\n      }} else if (Date.now() < root._bokeh_timeout) {\n      setTimeout(run_inline_js, 100);\n    } else if (!root._bokeh_failed_load) {\n      console.log(\"Bokeh: BokehJS failed to load within specified timeout.\");\n      root._bokeh_failed_load = true;\n    } else if (force !== true) {\n      var cell = $(document.getElementById(\"1001\")).parents('.cell').data().cell;\n      cell.output_area.append_execute_result(NB_LOAD_WARNING)\n    }\n\n  }\n\n  if (root._bokeh_is_loading === 0) {\n    console.debug(\"Bokeh: BokehJS loaded, going straight to plotting\");\n    run_inline_js();\n  } else {\n    load_libs(css_urls, js_urls, function() {\n      console.debug(\"Bokeh: BokehJS plotting callback run at\", now());\n      run_inline_js();\n    });\n  }\n}(window));"
     },
     "metadata": {},
     "output_type": "display_data"
    }
   ],
   "source": [
    "import hail as hl\n",
    "hl.init(default_reference='GRCh37')\n",
    "\n",
    "from hail.plot import show, output_notebook\n",
    "from pprint import pprint\n",
    "hl.plot.output_notebook()"
   ]
  },
  {
   "cell_type": "code",
   "execution_count": 2,
   "metadata": {},
   "outputs": [],
   "source": [
    "# let's change the working directory to where the final vcf files are saved\n",
    "import os\n",
    "os.chdir(\"/data/humgen/guffantilab/exome/SystemsBio/gatk_merged_vcf\")"
   ]
  },
  {
   "cell_type": "code",
   "execution_count": 1,
   "metadata": {},
   "outputs": [],
   "source": [
    "# for running some R codes as well\n",
    "%load_ext rpy2.ipython"
   ]
  },
  {
   "cell_type": "code",
   "execution_count": 2,
   "metadata": {},
   "outputs": [
    {
     "name": "stderr",
     "output_type": "stream",
     "text": [
      "/PHShome/bm363/.conda/envs/hail/lib/python3.7/site-packages/rpy2/rinterface/__init__.py:146: RRuntimeWarning: ── \u001b[1mAttaching packages\u001b[22m ─────────────────────────────────────── tidyverse 1.2.1 ──\n",
      "\n",
      "  warnings.warn(x, RRuntimeWarning)\n",
      "/PHShome/bm363/.conda/envs/hail/lib/python3.7/site-packages/rpy2/rinterface/__init__.py:146: RRuntimeWarning: \u001b[32m✔\u001b[39m \u001b[34mggplot2\u001b[39m 3.2.1     \u001b[32m✔\u001b[39m \u001b[34mpurrr  \u001b[39m 0.3.4\n",
      "\u001b[32m✔\u001b[39m \u001b[34mtibble \u001b[39m 3.0.1     \u001b[32m✔\u001b[39m \u001b[34mdplyr  \u001b[39m 0.8.5\n",
      "\u001b[32m✔\u001b[39m \u001b[34mtidyr  \u001b[39m 1.0.2     \u001b[32m✔\u001b[39m \u001b[34mstringr\u001b[39m 1.3.1\n",
      "\u001b[32m✔\u001b[39m \u001b[34mreadr  \u001b[39m 1.1.1     \u001b[32m✔\u001b[39m \u001b[34mforcats\u001b[39m 0.3.0\n",
      "\n",
      "  warnings.warn(x, RRuntimeWarning)\n",
      "/PHShome/bm363/.conda/envs/hail/lib/python3.7/site-packages/rpy2/rinterface/__init__.py:146: RRuntimeWarning: ── \u001b[1mConflicts\u001b[22m ────────────────────────────────────────── tidyverse_conflicts() ──\n",
      "\u001b[31m✖\u001b[39m \u001b[34mdplyr\u001b[39m::\u001b[32mfilter()\u001b[39m masks \u001b[34mstats\u001b[39m::filter()\n",
      "\u001b[31m✖\u001b[39m \u001b[34mdplyr\u001b[39m::\u001b[32mlag()\u001b[39m    masks \u001b[34mstats\u001b[39m::lag()\n",
      "\n",
      "  warnings.warn(x, RRuntimeWarning)\n"
     ]
    }
   ],
   "source": [
    "%%R\n",
    "library(tidyverse)"
   ]
  },
  {
   "cell_type": "markdown",
   "metadata": {},
   "source": [
    "## Load genotype data"
   ]
  },
  {
   "cell_type": "code",
   "execution_count": 3,
   "metadata": {},
   "outputs": [
    {
     "name": "stderr",
     "output_type": "stream",
     "text": [
      "2020-06-03 10:41:38 Hail: INFO: Coerced sorted dataset\n",
      "2020-06-03 10:41:49 Hail: INFO: wrote matrix table with 374446 rows and 232 columns in 74 partitions to /data/humgen/guffantilab/exome/SystemsBio/gatk_merged_vcf/SysBio_indels_recalibrated_b37.mt\n"
     ]
    }
   ],
   "source": [
    "# convert the vcf file to Hail MatrixTable format\n",
    "# (the following line is run run only once)\n",
    "\n",
    "#hl.import_vcf('/data/humgen/guffantilab/exome/SystemsBio/gatk_merged_vcf/SysBio_indels_recalibrated_b37.vcf',reference_genome='GRCh37').write('/data/humgen/guffantilab/exome/SystemsBio/gatk_merged_vcf/SysBio_indels_recalibrated_b37.mt', overwrite=True)\n"
   ]
  },
  {
   "cell_type": "markdown",
   "metadata": {},
   "source": [
    "Let's load the VCF data and convert it to Hail MatrixTable format (Hail's native file format for faster processing)."
   ]
  },
  {
   "cell_type": "code",
   "execution_count": 3,
   "metadata": {},
   "outputs": [],
   "source": [
    "# now let's read this file\n",
    "mt = hl.read_matrix_table('/data/humgen/guffantilab/exome/SystemsBio/gatk_merged_vcf/SysBio_indels_recalibrated_b37.mt')\n"
   ]
  },
  {
   "cell_type": "code",
   "execution_count": 4,
   "metadata": {},
   "outputs": [
    {
     "name": "stdout",
     "output_type": "stream",
     "text": [
      "264756 variants, 232 samples\n"
     ]
    }
   ],
   "source": [
    "# filter variants to only those with PASS entry in the filters column\n",
    "mt_pass = mt.filter_rows(hl.len(mt.filters) == 0)\n",
    "# number of variants and samples\n",
    "print('%d variants, %d samples' % mt_pass.count())"
   ]
  },
  {
   "cell_type": "markdown",
   "metadata": {},
   "source": [
    "Note that this field is computed with GATK's ApplyVQSR tool. It produces filter criteria with multiple thresholds."
   ]
  },
  {
   "cell_type": "code",
   "execution_count": 7,
   "metadata": {},
   "outputs": [
    {
     "name": "stdout",
     "output_type": "stream",
     "text": [
      " 264756 PASS\n",
      "   3636 VQSRTrancheINDEL90.00to99.00\n",
      "   6294 VQSRTrancheINDEL99.00to99.90\n",
      "    946 VQSRTrancheINDEL99.90to100.00\n",
      "  28183 VQSRTrancheSNP90.00to99.00\n",
      "  50844 VQSRTrancheSNP99.00to99.90\n",
      "  19787 VQSRTrancheSNP99.90to100.00\n"
     ]
    }
   ],
   "source": [
    "%%bash\n",
    "cd /data/humgen/guffantilab/exome/SystemsBio/gatk_merged_vcf\n",
    "grep -v '#' SysBio_indels_recalibrated_b37.vcf | cut -f7 | sort | uniq -c"
   ]
  },
  {
   "cell_type": "code",
   "execution_count": 5,
   "metadata": {},
   "outputs": [
    {
     "name": "stderr",
     "output_type": "stream",
     "text": [
      "2020-06-03 21:20:39 Hail: INFO: merging 74 files totalling 272.7M...\n",
      "2020-06-03 21:20:41 Hail: INFO: while writing:\n",
      "    /data/humgen/guffantilab/exome/SystemsBio/gatk_merged_vcf/SysBio_indels_recalibrated_b37_pass.vcf.bgz\n",
      "  merge time: 1.795s\n"
     ]
    }
   ],
   "source": [
    "# let's export this as vcf file (may be needed for other tools)\n",
    "hl.export_vcf(mt_pass, '/data/humgen/guffantilab/exome/SystemsBio/gatk_merged_vcf/SysBio_indels_recalibrated_b37_pass.vcf.bgz')"
   ]
  },
  {
   "cell_type": "markdown",
   "metadata": {},
   "source": [
    "## Exploring variants"
   ]
  },
  {
   "cell_type": "code",
   "execution_count": 6,
   "metadata": {},
   "outputs": [
    {
     "name": "stdout",
     "output_type": "stream",
     "text": [
      "----------------------------------------\n",
      "Global fields:\n",
      "    None\n",
      "----------------------------------------\n",
      "Column fields:\n",
      "    's': str\n",
      "----------------------------------------\n",
      "Row fields:\n",
      "    'locus': locus<GRCh37>\n",
      "    'alleles': array<str>\n",
      "    'rsid': str\n",
      "    'qual': float64\n",
      "    'filters': set<str>\n",
      "    'info': struct {\n",
      "        AC: array<int32>, \n",
      "        AF: array<float64>, \n",
      "        AN: int32, \n",
      "        BaseQRankSum: float64, \n",
      "        ClippingRankSum: float64, \n",
      "        DB: bool, \n",
      "        DP: int32, \n",
      "        DS: bool, \n",
      "        END: int32, \n",
      "        ExcessHet: float64, \n",
      "        FS: float64, \n",
      "        HaplotypeScore: float64, \n",
      "        InbreedingCoeff: float64, \n",
      "        MLEAC: array<int32>, \n",
      "        MLEAF: array<float64>, \n",
      "        MQ: float64, \n",
      "        MQRankSum: float64, \n",
      "        NEGATIVE_TRAIN_SITE: bool, \n",
      "        POSITIVE_TRAIN_SITE: bool, \n",
      "        QD: float64, \n",
      "        RAW_MQ: float64, \n",
      "        ReadPosRankSum: float64, \n",
      "        ReverseComplementedAlleles: bool, \n",
      "        SOR: float64, \n",
      "        SwappedAlleles: bool, \n",
      "        VQSLOD: float64, \n",
      "        culprit: str\n",
      "    }\n",
      "----------------------------------------\n",
      "Entry fields:\n",
      "    'AD': array<int32>\n",
      "    'DP': int32\n",
      "    'GQ': int32\n",
      "    'GT': call\n",
      "    'MIN_DP': int32\n",
      "    'PGT': call\n",
      "    'PID': str\n",
      "    'PL': array<int32>\n",
      "    'RGQ': int32\n",
      "    'SB': array<int32>\n",
      "----------------------------------------\n",
      "Column key: ['s']\n",
      "Row key: ['locus', 'alleles']\n",
      "----------------------------------------\n"
     ]
    }
   ],
   "source": [
    "mt_pass.describe(widget=False)"
   ]
  },
  {
   "cell_type": "markdown",
   "metadata": {},
   "source": [
    "- ### Summary of variant counts"
   ]
  },
  {
   "cell_type": "code",
   "execution_count": 7,
   "metadata": {},
   "outputs": [
    {
     "data": {
      "text/html": [
       "<p><b>Variant summary:</b></p><ul><li><p>Total variants: 264756</p></li><li><p>Alleles per variant:</p><table><thead style=\"font-weight: bold;\"><tr><th>Number of alleles</th><th>Count</th></tr></thead><tbody><tr><td>2</td><td>260567</td></tr><tr><td>3</td><td>2729</td></tr><tr><td>4</td><td>762</td></tr><tr><td>5</td><td>357</td></tr><tr><td>6</td><td>192</td></tr><tr><td>7</td><td>149</td></tr></tbody></table></li><li><p>Counts by allele type:</p><table><thead style=\"font-weight: bold;\"><tr><th>Allele type</th><th>Count</th></tr></thead><tbody><tr><td>SNP</td><td>250500</td></tr><tr><td>Deletion</td><td>12604</td></tr><tr><td>Insertion</td><td>8185</td></tr><tr><td>Star</td><td>304</td></tr></tbody></table></li><li><p>Transitions/Transversions:</p><table><thead style=\"font-weight: bold;\"><tr><th>Metric</th><th>Value</th></tr></thead><tbody><tr><td>Transitions</td><td>185578</td></tr><tr><td>Transversions</td><td>64922</td></tr><tr><td>Ratio</td><td>2.86</td></tr></tbody></table></li><li><p>Variants per contig:</p><table><thead style=\"font-weight: bold;\"><tr><th>Contig</th><th>Count</th></tr></thead><tbody><tr><td>1</td><td>25961</td></tr><tr><td>2</td><td>19152</td></tr><tr><td>3</td><td>14683</td></tr><tr><td>4</td><td>10518</td></tr><tr><td>5</td><td>11926</td></tr><tr><td>6</td><td>14113</td></tr><tr><td>7</td><td>13026</td></tr><tr><td>8</td><td>10086</td></tr><tr><td>9</td><td>11437</td></tr><tr><td>10</td><td>10724</td></tr><tr><td>11</td><td>17201</td></tr><tr><td>12</td><td>13471</td></tr><tr><td>13</td><td>4669</td></tr><tr><td>14</td><td>9140</td></tr><tr><td>15</td><td>8728</td></tr><tr><td>16</td><td>13258</td></tr><tr><td>17</td><td>15411</td></tr><tr><td>18</td><td>4310</td></tr><tr><td>19</td><td>18663</td></tr><tr><td>20</td><td>7324</td></tr><tr><td>21</td><td>3389</td></tr><tr><td>22</td><td>6405</td></tr><tr><td>X</td><td>1138</td></tr><tr><td>Y</td><td>18</td></tr><tr><td>MT</td><td>5</td></tr></tbody></table></li></ul>"
      ],
      "text/plain": [
       "==============================\n",
       "Number of variants: 264756\n",
       "==============================\n",
       "Alleles per variant\n",
       "-------------------\n",
       "  2 alleles: 260567 variants\n",
       "  3 alleles: 2729 variants\n",
       "  4 alleles: 762 variants\n",
       "  5 alleles: 357 variants\n",
       "  6 alleles: 192 variants\n",
       "  7 alleles: 149 variants\n",
       "==============================\n",
       "Variants per contig\n",
       "-------------------\n",
       "   1: 25961 variants\n",
       "   2: 19152 variants\n",
       "   3: 14683 variants\n",
       "   4: 10518 variants\n",
       "   5: 11926 variants\n",
       "   6: 14113 variants\n",
       "   7: 13026 variants\n",
       "   8: 10086 variants\n",
       "   9: 11437 variants\n",
       "  10: 10724 variants\n",
       "  11: 17201 variants\n",
       "  12: 13471 variants\n",
       "  13: 4669 variants\n",
       "  14: 9140 variants\n",
       "  15: 8728 variants\n",
       "  16: 13258 variants\n",
       "  17: 15411 variants\n",
       "  18: 4310 variants\n",
       "  19: 18663 variants\n",
       "  20: 7324 variants\n",
       "  21: 3389 variants\n",
       "  22: 6405 variants\n",
       "   X: 1138 variants\n",
       "   Y: 18 variants\n",
       "  MT: 5 variants\n",
       "==============================\n",
       "Allele type distribution\n",
       "------------------------\n",
       "        SNP: 250500 alternate alleles (Ti: 185578, Tv: 64922, ratio: 2.86)\n",
       "   Deletion: 12604 alternate alleles\n",
       "  Insertion: 8185 alternate alleles\n",
       "       Star: 304 alternate alleles\n",
       "=============================="
      ]
     },
     "metadata": {},
     "output_type": "display_data"
    }
   ],
   "source": [
    "hl.summarize_variants(mt_pass)"
   ]
  },
  {
   "cell_type": "markdown",
   "metadata": {},
   "source": [
    "- ### filter out multi-allelic variants"
   ]
  },
  {
   "cell_type": "code",
   "execution_count": 8,
   "metadata": {},
   "outputs": [
    {
     "data": {
      "text/plain": [
       "4189"
      ]
     },
     "execution_count": 8,
     "metadata": {},
     "output_type": "execute_result"
    }
   ],
   "source": [
    "# number of multi-alletic variants\n",
    "mt_pass.filter_rows(hl.len(mt_pass.alleles)>2).count_rows()"
   ]
  },
  {
   "cell_type": "code",
   "execution_count": 5,
   "metadata": {},
   "outputs": [],
   "source": [
    "mt_pass = mt_pass.filter_rows(hl.len(mt_pass.alleles)==2)\n",
    "\n",
    "# note that we could instead just split multiallelic variants \n",
    "#mt_pass = hl.split_multi_hts(mt_pass)"
   ]
  },
  {
   "cell_type": "code",
   "execution_count": 10,
   "metadata": {},
   "outputs": [
    {
     "data": {
      "text/plain": [
       "[(['G', 'A'], 64749),\n",
       " (['C', 'T'], 64551),\n",
       " (['A', 'G'], 27661),\n",
       " (['T', 'C'], 27603),\n",
       " (['C', 'G'], 11598),\n",
       " (['G', 'C'], 11403),\n",
       " (['C', 'A'], 9849),\n",
       " (['G', 'T'], 9748),\n",
       " (['T', 'G'], 5991),\n",
       " (['A', 'C'], 5917),\n",
       " (['T', 'A'], 4575),\n",
       " (['A', 'T'], 4544)]"
      ]
     },
     "execution_count": 10,
     "metadata": {},
     "output_type": "execute_result"
    }
   ],
   "source": [
    "# counts of individual variants\n",
    "snv_counts = mt_pass.aggregate_rows(\n",
    "    hl.array(\n",
    "        hl.agg.filter(\n",
    "            hl.is_snp(mt_pass.alleles[0],mt_pass.alleles[1]),\n",
    "            hl.agg.counter(mt_pass.alleles))))\n",
    "sorted(snv_counts,\n",
    "      key=lambda x: -x[1])"
   ]
  },
  {
   "cell_type": "markdown",
   "metadata": {},
   "source": [
    "- ### Quality metrics of variants"
   ]
  },
  {
   "cell_type": "markdown",
   "metadata": {},
   "source": [
    "The most relevant (for QC) variables includes:\n",
    "- DP: read depth (coverage) of a site\n",
    "- GQ: genotype quality\n",
    "- QD: QUAL/(depth of non-reference reads)\n",
    "- MQ: mapping quality of reads\n"
   ]
  },
  {
   "cell_type": "code",
   "execution_count": 11,
   "metadata": {},
   "outputs": [
    {
     "data": {
      "text/html": [
       "<p>60451544 records.</p><b>DP</b> (<i>int32</i>):<ul><table><tbody><tr><td>Non-missing</td><td>60451525 (100.00%)</td></tr><tr><td>Missing</td><td>19 (0.00%)</td></tr><tr><td>Minimum</td><td>0</td></tr><tr><td>Maximum</td><td>1118</td></tr><tr><td>Mean</td><td>39.06</td></tr><tr><td>Std Dev</td><td>21.38</td></tr></tbody></table></ul>"
      ],
      "text/plain": [
       "\n",
       "60451544 records.\n",
       "\n",
       "- DP (int32):\n",
       "  Non-missing: 60451525 (100.00%)\n",
       "      Missing: 19 (0.00%)\n",
       "      Minimum: 0\n",
       "      Maximum: 1118\n",
       "         Mean: 39.06\n",
       "      Std Dev: 21.38"
      ]
     },
     "metadata": {},
     "output_type": "display_data"
    }
   ],
   "source": [
    "mt_pass.DP.summarize()"
   ]
  },
  {
   "cell_type": "code",
   "execution_count": 13,
   "metadata": {},
   "outputs": [
    {
     "data": {
      "text/html": [
       "\n",
       "\n",
       "\n",
       "\n",
       "\n",
       "\n",
       "  <div class=\"bk-root\" id=\"f402689d-01a4-4fc4-b2ab-8324f283763c\" data-root-id=\"1133\"></div>\n"
      ]
     },
     "metadata": {},
     "output_type": "display_data"
    },
    {
     "data": {
      "application/javascript": [
       "(function(root) {\n",
       "  function embed_document(root) {\n",
       "    \n",
       "  var docs_json = {\"158f6d19-6e44-48a2-9029-2fed9bb68182\":{\"roots\":{\"references\":[{\"attributes\":{\"background_fill_color\":{\"value\":\"#EEEEEE\"},\"below\":[{\"id\":\"1144\",\"type\":\"LinearAxis\"}],\"center\":[{\"id\":\"1148\",\"type\":\"Grid\"},{\"id\":\"1153\",\"type\":\"Grid\"},{\"id\":\"1178\",\"type\":\"Legend\"}],\"left\":[{\"id\":\"1149\",\"type\":\"LinearAxis\"}],\"renderers\":[{\"id\":\"1170\",\"type\":\"GlyphRenderer\"},{\"id\":\"1183\",\"type\":\"GlyphRenderer\"}],\"title\":{\"id\":\"1134\",\"type\":\"Title\"},\"toolbar\":{\"id\":\"1160\",\"type\":\"Toolbar\"},\"x_range\":{\"id\":\"1136\",\"type\":\"Range1d\"},\"x_scale\":{\"id\":\"1140\",\"type\":\"LinearScale\"},\"y_range\":{\"id\":\"1138\",\"type\":\"DataRange1d\"},\"y_scale\":{\"id\":\"1142\",\"type\":\"LinearScale\"}},\"id\":\"1133\",\"subtype\":\"Figure\",\"type\":\"Plot\"},{\"attributes\":{\"callback\":null,\"end\":210.0,\"start\":-10.0},\"id\":\"1136\",\"type\":\"Range1d\"},{\"attributes\":{},\"id\":\"1155\",\"type\":\"WheelZoomTool\"},{\"attributes\":{\"dimension\":1,\"ticker\":{\"id\":\"1150\",\"type\":\"BasicTicker\"}},\"id\":\"1153\",\"type\":\"Grid\"},{\"attributes\":{},\"id\":\"1174\",\"type\":\"BasicTickFormatter\"},{\"attributes\":{\"callback\":null,\"data\":{\"left\":[0.0,1.0,2.0,3.0,4.0,5.0,6.0,7.0,8.0,9.0,10.0,11.0,12.0,13.0,14.0,15.0,16.0,17.0,18.0,19.0,20.0,21.0,22.0,23.0,24.0,25.0,26.0,27.0,28.0,29.0,30.0,31.0,32.0,33.0,34.0,35.0,36.0,37.0,38.0,39.0,40.0,41.0,42.0,43.0,44.0,45.0,46.0,47.0,48.0,49.0,50.0,51.0,52.0,53.0,54.0,55.0,56.0,57.0,58.0,59.0,60.0,61.0,62.0,63.0,64.0,65.0,66.0,67.0,68.0,69.0,70.0,71.0,72.0,73.0,74.0,75.0,76.0,77.0,78.0,79.0,80.0,81.0,82.0,83.0,84.0,85.0,86.0,87.0,88.0,89.0,90.0,91.0,92.0,93.0,94.0,95.0,96.0,97.0,98.0,99.0,100.0,101.0,102.0,103.0,104.0,105.0,106.0,107.0,108.0,109.0,110.0,111.0,112.0,113.0,114.0,115.0,116.0,117.0,118.0,119.0,120.0,121.0,122.0,123.0,124.0,125.0,126.0,127.0,128.0,129.0,130.0,131.0,132.0,133.0,134.0,135.0,136.0,137.0,138.0,139.0,140.0,141.0,142.0,143.0,144.0,145.0,146.0,147.0,148.0,149.0,150.0,151.0,152.0,153.0,154.0,155.0,156.0,157.0,158.0,159.0,160.0,161.0,162.0,163.0,164.0,165.0,166.0,167.0,168.0,169.0,170.0,171.0,172.0,173.0,174.0,175.0,176.0,177.0,178.0,179.0,180.0,181.0,182.0,183.0,184.0,185.0,186.0,187.0,188.0,189.0,190.0,191.0,192.0,193.0,194.0,195.0,196.0,197.0,198.0,199.0],\"right\":[1.0,2.0,3.0,4.0,5.0,6.0,7.0,8.0,9.0,10.0,11.0,12.0,13.0,14.0,15.0,16.0,17.0,18.0,19.0,20.0,21.0,22.0,23.0,24.0,25.0,26.0,27.0,28.0,29.0,30.0,31.0,32.0,33.0,34.0,35.0,36.0,37.0,38.0,39.0,40.0,41.0,42.0,43.0,44.0,45.0,46.0,47.0,48.0,49.0,50.0,51.0,52.0,53.0,54.0,55.0,56.0,57.0,58.0,59.0,60.0,61.0,62.0,63.0,64.0,65.0,66.0,67.0,68.0,69.0,70.0,71.0,72.0,73.0,74.0,75.0,76.0,77.0,78.0,79.0,80.0,81.0,82.0,83.0,84.0,85.0,86.0,87.0,88.0,89.0,90.0,91.0,92.0,93.0,94.0,95.0,96.0,97.0,98.0,99.0,100.0,101.0,102.0,103.0,104.0,105.0,106.0,107.0,108.0,109.0,110.0,111.0,112.0,113.0,114.0,115.0,116.0,117.0,118.0,119.0,120.0,121.0,122.0,123.0,124.0,125.0,126.0,127.0,128.0,129.0,130.0,131.0,132.0,133.0,134.0,135.0,136.0,137.0,138.0,139.0,140.0,141.0,142.0,143.0,144.0,145.0,146.0,147.0,148.0,149.0,150.0,151.0,152.0,153.0,154.0,155.0,156.0,157.0,158.0,159.0,160.0,161.0,162.0,163.0,164.0,165.0,166.0,167.0,168.0,169.0,170.0,171.0,172.0,173.0,174.0,175.0,176.0,177.0,178.0,179.0,180.0,181.0,182.0,183.0,184.0,185.0,186.0,187.0,188.0,189.0,190.0,191.0,192.0,193.0,194.0,195.0,196.0,197.0,198.0,199.0,200.0],\"top\":[31770,44436,68346,93857,119230,146203,170936,196247,220492,244938,265662,287034,306735,327057,346067,362550,378232,395722,411518,425978,549695,589647,545269,485253,522615,539694,503570,526442,548875,531594,549069,574970,567309,2610926,4882726,5873012,5668459,4965392,4172685,3351380,2586105,2037281,1655918,1358018,1088952,838730,614560,456157,355418,289935,243011,204199,178714,159026,145007,135015,127089,120617,114451,109616,106970,102990,99899,97873,95656,92427,89897,88688,85979,84119,82368,80863,78423,76396,74611,72274,71018,69173,67494,65559,63796,61999,60256,59193,57347,55713,54361,53539,51138,50167,49177,47924,46455,44688,44504,42858,41487,40282,39811,39109,38322,36805,35944,35220,34669,33179,32227,31767,30756,30008,29496,28605,28390,27679,26823,26363,25633,25092,24543,23658,23251,22704,22203,21563,21309,21194,20133,20058,19474,18708,18281,17901,17536,17096,16532,16303,16121,15615,15380,14910,14742,14293,13700,13684,13172,12954,12801,12285,11885,11818,11550,11392,10907,10635,10452,10353,10043,9807,9335,9249,9034,8899,8751,8355,7913,7807,7882,7293,7332,7087,7073,6706,6730,6407,6276,6124,5920,5791,5733,5517,5376,5156,5069,4862,4756,4645,4570,4405,4163,4019,4023,4052,3801,3733,3500,3405,3344,3185,3124,6112]},\"selected\":{\"id\":\"1190\",\"type\":\"Selection\"},\"selection_policy\":{\"id\":\"1191\",\"type\":\"UnionRenderers\"}},\"id\":\"1167\",\"type\":\"ColumnDataSource\"},{\"attributes\":{\"source\":{\"id\":\"1167\",\"type\":\"ColumnDataSource\"}},\"id\":\"1171\",\"type\":\"CDSView\"},{\"attributes\":{\"bottom\":{\"value\":0},\"fill_alpha\":{\"value\":0.1},\"fill_color\":{\"value\":\"#1f77b4\"},\"left\":{\"value\":200.0},\"line_alpha\":{\"value\":0.1},\"line_color\":{\"value\":\"#1f77b4\"},\"right\":{\"value\":201.0},\"top\":{\"value\":101195}},\"id\":\"1182\",\"type\":\"Quad\"},{\"attributes\":{},\"id\":\"1190\",\"type\":\"Selection\"},{\"attributes\":{\"bottom\":{\"value\":0},\"fill_alpha\":{\"value\":0.1},\"fill_color\":{\"value\":\"#1f77b4\"},\"left\":{\"field\":\"left\"},\"line_alpha\":{\"value\":0.1},\"line_color\":{\"value\":\"#1f77b4\"},\"right\":{\"field\":\"right\"},\"top\":{\"field\":\"top\"}},\"id\":\"1169\",\"type\":\"Quad\"},{\"attributes\":{},\"id\":\"1157\",\"type\":\"SaveTool\"},{\"attributes\":{\"data_source\":{\"id\":\"1180\",\"type\":\"ColumnDataSource\"},\"glyph\":{\"id\":\"1181\",\"type\":\"Quad\"},\"hover_glyph\":null,\"muted_glyph\":null,\"nonselection_glyph\":{\"id\":\"1182\",\"type\":\"Quad\"},\"selection_glyph\":null,\"view\":{\"id\":\"1184\",\"type\":\"CDSView\"}},\"id\":\"1183\",\"type\":\"GlyphRenderer\"},{\"attributes\":{},\"id\":\"1140\",\"type\":\"LinearScale\"},{\"attributes\":{\"label\":{\"value\":\"DP\"},\"renderers\":[{\"id\":\"1170\",\"type\":\"GlyphRenderer\"}]},\"id\":\"1179\",\"type\":\"LegendItem\"},{\"attributes\":{\"bottom_units\":\"screen\",\"fill_alpha\":{\"value\":0.5},\"fill_color\":{\"value\":\"lightgrey\"},\"left_units\":\"screen\",\"level\":\"overlay\",\"line_alpha\":{\"value\":1.0},\"line_color\":{\"value\":\"black\"},\"line_dash\":[4,4],\"line_width\":{\"value\":2},\"render_mode\":\"css\",\"right_units\":\"screen\",\"top_units\":\"screen\"},\"id\":\"1177\",\"type\":\"BoxAnnotation\"},{\"attributes\":{\"data_source\":{\"id\":\"1167\",\"type\":\"ColumnDataSource\"},\"glyph\":{\"id\":\"1168\",\"type\":\"Quad\"},\"hover_glyph\":null,\"muted_glyph\":null,\"nonselection_glyph\":{\"id\":\"1169\",\"type\":\"Quad\"},\"selection_glyph\":null,\"view\":{\"id\":\"1171\",\"type\":\"CDSView\"}},\"id\":\"1170\",\"type\":\"GlyphRenderer\"},{\"attributes\":{\"axis_label\":\"DP\",\"formatter\":{\"id\":\"1174\",\"type\":\"BasicTickFormatter\"},\"ticker\":{\"id\":\"1145\",\"type\":\"BasicTicker\"}},\"id\":\"1144\",\"type\":\"LinearAxis\"},{\"attributes\":{},\"id\":\"1159\",\"type\":\"HelpTool\"},{\"attributes\":{\"callback\":null},\"id\":\"1138\",\"type\":\"DataRange1d\"},{\"attributes\":{\"active_drag\":\"auto\",\"active_inspect\":\"auto\",\"active_multi\":null,\"active_scroll\":\"auto\",\"active_tap\":\"auto\",\"tools\":[{\"id\":\"1154\",\"type\":\"PanTool\"},{\"id\":\"1155\",\"type\":\"WheelZoomTool\"},{\"id\":\"1156\",\"type\":\"BoxZoomTool\"},{\"id\":\"1157\",\"type\":\"SaveTool\"},{\"id\":\"1158\",\"type\":\"ResetTool\"},{\"id\":\"1159\",\"type\":\"HelpTool\"}]},\"id\":\"1160\",\"type\":\"Toolbar\"},{\"attributes\":{\"bottom\":{\"value\":0},\"fill_color\":{\"value\":\"#1f77b4\"},\"left\":{\"field\":\"left\"},\"right\":{\"field\":\"right\"},\"top\":{\"field\":\"top\"}},\"id\":\"1168\",\"type\":\"Quad\"},{\"attributes\":{},\"id\":\"1150\",\"type\":\"BasicTicker\"},{\"attributes\":{},\"id\":\"1176\",\"type\":\"BasicTickFormatter\"},{\"attributes\":{},\"id\":\"1211\",\"type\":\"Selection\"},{\"attributes\":{\"items\":[{\"id\":\"1179\",\"type\":\"LegendItem\"},{\"id\":\"1193\",\"type\":\"LegendItem\"}]},\"id\":\"1178\",\"type\":\"Legend\"},{\"attributes\":{\"axis_label\":\"Frequency\",\"formatter\":{\"id\":\"1176\",\"type\":\"BasicTickFormatter\"},\"ticker\":{\"id\":\"1150\",\"type\":\"BasicTicker\"}},\"id\":\"1149\",\"type\":\"LinearAxis\"},{\"attributes\":{\"bottom\":{\"value\":0},\"fill_color\":{\"value\":\"green\"},\"left\":{\"value\":200.0},\"right\":{\"value\":201.0},\"top\":{\"value\":101195}},\"id\":\"1181\",\"type\":\"Quad\"},{\"attributes\":{\"text\":\"DP Histogram\"},\"id\":\"1134\",\"type\":\"Title\"},{\"attributes\":{},\"id\":\"1191\",\"type\":\"UnionRenderers\"},{\"attributes\":{},\"id\":\"1158\",\"type\":\"ResetTool\"},{\"attributes\":{\"source\":{\"id\":\"1180\",\"type\":\"ColumnDataSource\"}},\"id\":\"1184\",\"type\":\"CDSView\"},{\"attributes\":{},\"id\":\"1212\",\"type\":\"UnionRenderers\"},{\"attributes\":{\"ticker\":{\"id\":\"1145\",\"type\":\"BasicTicker\"}},\"id\":\"1148\",\"type\":\"Grid\"},{\"attributes\":{\"callback\":null,\"data\":{},\"selected\":{\"id\":\"1211\",\"type\":\"Selection\"},\"selection_policy\":{\"id\":\"1212\",\"type\":\"UnionRenderers\"}},\"id\":\"1180\",\"type\":\"ColumnDataSource\"},{\"attributes\":{\"label\":{\"value\":\"Outliers Above\"},\"renderers\":[{\"id\":\"1183\",\"type\":\"GlyphRenderer\"}]},\"id\":\"1193\",\"type\":\"LegendItem\"},{\"attributes\":{},\"id\":\"1154\",\"type\":\"PanTool\"},{\"attributes\":{\"overlay\":{\"id\":\"1177\",\"type\":\"BoxAnnotation\"}},\"id\":\"1156\",\"type\":\"BoxZoomTool\"},{\"attributes\":{},\"id\":\"1145\",\"type\":\"BasicTicker\"},{\"attributes\":{},\"id\":\"1142\",\"type\":\"LinearScale\"}],\"root_ids\":[\"1133\"]},\"title\":\"Bokeh Application\",\"version\":\"1.2.0\"}};\n",
       "  var render_items = [{\"docid\":\"158f6d19-6e44-48a2-9029-2fed9bb68182\",\"roots\":{\"1133\":\"f402689d-01a4-4fc4-b2ab-8324f283763c\"}}];\n",
       "  root.Bokeh.embed.embed_items_notebook(docs_json, render_items);\n",
       "\n",
       "  }\n",
       "  if (root.Bokeh !== undefined) {\n",
       "    embed_document(root);\n",
       "  } else {\n",
       "    var attempts = 0;\n",
       "    var timer = setInterval(function(root) {\n",
       "      if (root.Bokeh !== undefined) {\n",
       "        embed_document(root);\n",
       "        clearInterval(timer);\n",
       "      }\n",
       "      attempts++;\n",
       "      if (attempts > 100) {\n",
       "        console.log(\"Bokeh: ERROR: Unable to run BokehJS code because BokehJS library is missing\");\n",
       "        clearInterval(timer);\n",
       "      }\n",
       "    }, 10, root)\n",
       "  }\n",
       "})(window);"
      ],
      "application/vnd.bokehjs_exec.v0+json": ""
     },
     "metadata": {
      "application/vnd.bokehjs_exec.v0+json": {
       "id": "1133"
      }
     },
     "output_type": "display_data"
    }
   ],
   "source": [
    "p = hl.plot.histogram(mt_pass.DP, range=(0,200), bins=200, title='DP Histogram', legend='DP')\n",
    "show(p)"
   ]
  },
  {
   "cell_type": "code",
   "execution_count": 14,
   "metadata": {},
   "outputs": [
    {
     "data": {
      "text/html": [
       "<p>60451544 records.</p><b>GQ</b> (<i>int32</i>):<ul><table><tbody><tr><td>Non-missing</td><td>60414859 (99.94%)</td></tr><tr><td>Missing</td><td>36685 (0.06%)</td></tr><tr><td>Minimum</td><td>0</td></tr><tr><td>Maximum</td><td>99</td></tr><tr><td>Mean</td><td>89.94</td></tr><tr><td>Std Dev</td><td>20.24</td></tr></tbody></table></ul>"
      ],
      "text/plain": [
       "\n",
       "60451544 records.\n",
       "\n",
       "- GQ (int32):\n",
       "  Non-missing: 60414859 (99.94%)\n",
       "      Missing: 36685 (0.06%)\n",
       "      Minimum: 0\n",
       "      Maximum: 99\n",
       "         Mean: 89.94\n",
       "      Std Dev: 20.24"
      ]
     },
     "metadata": {},
     "output_type": "display_data"
    }
   ],
   "source": [
    "mt_pass.GQ.summarize()"
   ]
  },
  {
   "cell_type": "code",
   "execution_count": 15,
   "metadata": {},
   "outputs": [
    {
     "data": {
      "text/html": [
       "\n",
       "\n",
       "\n",
       "\n",
       "\n",
       "\n",
       "  <div class=\"bk-root\" id=\"a769696c-afb5-4e3a-a9cc-04b646d25615\" data-root-id=\"1274\"></div>\n"
      ]
     },
     "metadata": {},
     "output_type": "display_data"
    },
    {
     "data": {
      "application/javascript": [
       "(function(root) {\n",
       "  function embed_document(root) {\n",
       "    \n",
       "  var docs_json = {\"9aaf1570-b49f-4946-b6ba-be32879d623d\":{\"roots\":{\"references\":[{\"attributes\":{\"background_fill_color\":{\"value\":\"#EEEEEE\"},\"below\":[{\"id\":\"1285\",\"type\":\"LinearAxis\"}],\"center\":[{\"id\":\"1289\",\"type\":\"Grid\"},{\"id\":\"1294\",\"type\":\"Grid\"},{\"id\":\"1319\",\"type\":\"Legend\"}],\"left\":[{\"id\":\"1290\",\"type\":\"LinearAxis\"}],\"renderers\":[{\"id\":\"1311\",\"type\":\"GlyphRenderer\"}],\"title\":{\"id\":\"1275\",\"type\":\"Title\"},\"toolbar\":{\"id\":\"1301\",\"type\":\"Toolbar\"},\"x_range\":{\"id\":\"1277\",\"type\":\"Range1d\"},\"x_scale\":{\"id\":\"1281\",\"type\":\"LinearScale\"},\"y_range\":{\"id\":\"1279\",\"type\":\"DataRange1d\"},\"y_scale\":{\"id\":\"1283\",\"type\":\"LinearScale\"}},\"id\":\"1274\",\"subtype\":\"Figure\",\"type\":\"Plot\"},{\"attributes\":{\"data_source\":{\"id\":\"1308\",\"type\":\"ColumnDataSource\"},\"glyph\":{\"id\":\"1309\",\"type\":\"Quad\"},\"hover_glyph\":null,\"muted_glyph\":null,\"nonselection_glyph\":{\"id\":\"1310\",\"type\":\"Quad\"},\"selection_glyph\":null,\"view\":{\"id\":\"1312\",\"type\":\"CDSView\"}},\"id\":\"1311\",\"type\":\"GlyphRenderer\"},{\"attributes\":{\"text\":\"GQ Histogram\"},\"id\":\"1275\",\"type\":\"Title\"},{\"attributes\":{\"callback\":null},\"id\":\"1279\",\"type\":\"DataRange1d\"},{\"attributes\":{},\"id\":\"1299\",\"type\":\"ResetTool\"},{\"attributes\":{},\"id\":\"1296\",\"type\":\"WheelZoomTool\"},{\"attributes\":{},\"id\":\"1298\",\"type\":\"SaveTool\"},{\"attributes\":{\"label\":{\"value\":\"GQ\"},\"renderers\":[{\"id\":\"1311\",\"type\":\"GlyphRenderer\"}]},\"id\":\"1320\",\"type\":\"LegendItem\"},{\"attributes\":{\"axis_label\":\"GQ\",\"formatter\":{\"id\":\"1315\",\"type\":\"BasicTickFormatter\"},\"ticker\":{\"id\":\"1286\",\"type\":\"BasicTicker\"}},\"id\":\"1285\",\"type\":\"LinearAxis\"},{\"attributes\":{\"ticker\":{\"id\":\"1286\",\"type\":\"BasicTicker\"}},\"id\":\"1289\",\"type\":\"Grid\"},{\"attributes\":{},\"id\":\"1286\",\"type\":\"BasicTicker\"},{\"attributes\":{},\"id\":\"1347\",\"type\":\"UnionRenderers\"},{\"attributes\":{\"callback\":null,\"end\":105.0,\"start\":-5.0},\"id\":\"1277\",\"type\":\"Range1d\"},{\"attributes\":{\"dimension\":1,\"ticker\":{\"id\":\"1291\",\"type\":\"BasicTicker\"}},\"id\":\"1294\",\"type\":\"Grid\"},{\"attributes\":{},\"id\":\"1283\",\"type\":\"LinearScale\"},{\"attributes\":{\"overlay\":{\"id\":\"1318\",\"type\":\"BoxAnnotation\"}},\"id\":\"1297\",\"type\":\"BoxZoomTool\"},{\"attributes\":{\"active_drag\":\"auto\",\"active_inspect\":\"auto\",\"active_multi\":null,\"active_scroll\":\"auto\",\"active_tap\":\"auto\",\"tools\":[{\"id\":\"1295\",\"type\":\"PanTool\"},{\"id\":\"1296\",\"type\":\"WheelZoomTool\"},{\"id\":\"1297\",\"type\":\"BoxZoomTool\"},{\"id\":\"1298\",\"type\":\"SaveTool\"},{\"id\":\"1299\",\"type\":\"ResetTool\"},{\"id\":\"1300\",\"type\":\"HelpTool\"}]},\"id\":\"1301\",\"type\":\"Toolbar\"},{\"attributes\":{\"axis_label\":\"Frequency\",\"formatter\":{\"id\":\"1317\",\"type\":\"BasicTickFormatter\"},\"ticker\":{\"id\":\"1291\",\"type\":\"BasicTicker\"}},\"id\":\"1290\",\"type\":\"LinearAxis\"},{\"attributes\":{\"items\":[{\"id\":\"1320\",\"type\":\"LegendItem\"}]},\"id\":\"1319\",\"type\":\"Legend\"},{\"attributes\":{\"bottom\":{\"value\":0},\"fill_alpha\":{\"value\":0.1},\"fill_color\":{\"value\":\"#1f77b4\"},\"left\":{\"field\":\"left\"},\"line_alpha\":{\"value\":0.1},\"line_color\":{\"value\":\"#1f77b4\"},\"right\":{\"field\":\"right\"},\"top\":{\"field\":\"top\"}},\"id\":\"1310\",\"type\":\"Quad\"},{\"attributes\":{},\"id\":\"1346\",\"type\":\"Selection\"},{\"attributes\":{\"callback\":null,\"data\":{\"left\":[0.0,1.0,2.0,3.0,4.0,5.0,6.0,7.0,8.0,9.0,10.0,11.0,12.0,13.0,14.0,15.0,16.0,17.0,18.0,19.0,20.0,21.0,22.0,23.0,24.0,25.0,26.0,27.0,28.0,29.0,30.0,31.0,32.0,33.0,34.0,35.0,36.0,37.0,38.0,39.0,40.0,41.0,42.0,43.0,44.0,45.0,46.0,47.0,48.0,49.0,50.0,51.0,52.0,53.0,54.0,55.0,56.0,57.0,58.0,59.0,60.0,61.0,62.0,63.0,64.0,65.0,66.0,67.0,68.0,69.0,70.0,71.0,72.0,73.0,74.0,75.0,76.0,77.0,78.0,79.0,80.0,81.0,82.0,83.0,84.0,85.0,86.0,87.0,88.0,89.0,90.0,91.0,92.0,93.0,94.0,95.0,96.0,97.0,98.0,99.0],\"right\":[1.0,2.0,3.0,4.0,5.0,6.0,7.0,8.0,9.0,10.0,11.0,12.0,13.0,14.0,15.0,16.0,17.0,18.0,19.0,20.0,21.0,22.0,23.0,24.0,25.0,26.0,27.0,28.0,29.0,30.0,31.0,32.0,33.0,34.0,35.0,36.0,37.0,38.0,39.0,40.0,41.0,42.0,43.0,44.0,45.0,46.0,47.0,48.0,49.0,50.0,51.0,52.0,53.0,54.0,55.0,56.0,57.0,58.0,59.0,60.0,61.0,62.0,63.0,64.0,65.0,66.0,67.0,68.0,69.0,70.0,71.0,72.0,73.0,74.0,75.0,76.0,77.0,78.0,79.0,80.0,81.0,82.0,83.0,84.0,85.0,86.0,87.0,88.0,89.0,90.0,91.0,92.0,93.0,94.0,95.0,96.0,97.0,98.0,99.0,100.0],\"top\":[83834,3751,3608,56150,4217,3853,86646,4608,4386,117684,4831,4652,149525,5164,5297,181767,5476,5774,211066,5943,6340,241016,6428,6817,267647,7022,7191,293517,7306,7609,316991,7946,8196,339225,8025,8387,360528,8522,9001,380834,8975,9642,399837,9300,10208,417290,9622,10844,435346,10162,11302,451599,10654,11916,466127,10820,12766,480727,10909,12977,1336978,18723,20296,371361,12546,14241,185409,10440,12722,147728,28484,31496,1122142,14356,17241,328269,11587,14664,180972,10950,35066,1182606,15795,19478,358814,12607,16029,197043,11606,15223,1235777,16681,20708,387614,12674,16562,209636,11531,15465,46685536]},\"selected\":{\"id\":\"1346\",\"type\":\"Selection\"},\"selection_policy\":{\"id\":\"1347\",\"type\":\"UnionRenderers\"}},\"id\":\"1308\",\"type\":\"ColumnDataSource\"},{\"attributes\":{},\"id\":\"1295\",\"type\":\"PanTool\"},{\"attributes\":{},\"id\":\"1315\",\"type\":\"BasicTickFormatter\"},{\"attributes\":{\"source\":{\"id\":\"1308\",\"type\":\"ColumnDataSource\"}},\"id\":\"1312\",\"type\":\"CDSView\"},{\"attributes\":{},\"id\":\"1300\",\"type\":\"HelpTool\"},{\"attributes\":{\"bottom_units\":\"screen\",\"fill_alpha\":{\"value\":0.5},\"fill_color\":{\"value\":\"lightgrey\"},\"left_units\":\"screen\",\"level\":\"overlay\",\"line_alpha\":{\"value\":1.0},\"line_color\":{\"value\":\"black\"},\"line_dash\":[4,4],\"line_width\":{\"value\":2},\"render_mode\":\"css\",\"right_units\":\"screen\",\"top_units\":\"screen\"},\"id\":\"1318\",\"type\":\"BoxAnnotation\"},{\"attributes\":{},\"id\":\"1281\",\"type\":\"LinearScale\"},{\"attributes\":{\"bottom\":{\"value\":0},\"fill_color\":{\"value\":\"#1f77b4\"},\"left\":{\"field\":\"left\"},\"right\":{\"field\":\"right\"},\"top\":{\"field\":\"top\"}},\"id\":\"1309\",\"type\":\"Quad\"},{\"attributes\":{},\"id\":\"1317\",\"type\":\"BasicTickFormatter\"},{\"attributes\":{},\"id\":\"1291\",\"type\":\"BasicTicker\"}],\"root_ids\":[\"1274\"]},\"title\":\"Bokeh Application\",\"version\":\"1.2.0\"}};\n",
       "  var render_items = [{\"docid\":\"9aaf1570-b49f-4946-b6ba-be32879d623d\",\"roots\":{\"1274\":\"a769696c-afb5-4e3a-a9cc-04b646d25615\"}}];\n",
       "  root.Bokeh.embed.embed_items_notebook(docs_json, render_items);\n",
       "\n",
       "  }\n",
       "  if (root.Bokeh !== undefined) {\n",
       "    embed_document(root);\n",
       "  } else {\n",
       "    var attempts = 0;\n",
       "    var timer = setInterval(function(root) {\n",
       "      if (root.Bokeh !== undefined) {\n",
       "        embed_document(root);\n",
       "        clearInterval(timer);\n",
       "      }\n",
       "      attempts++;\n",
       "      if (attempts > 100) {\n",
       "        console.log(\"Bokeh: ERROR: Unable to run BokehJS code because BokehJS library is missing\");\n",
       "        clearInterval(timer);\n",
       "      }\n",
       "    }, 10, root)\n",
       "  }\n",
       "})(window);"
      ],
      "application/vnd.bokehjs_exec.v0+json": ""
     },
     "metadata": {
      "application/vnd.bokehjs_exec.v0+json": {
       "id": "1274"
      }
     },
     "output_type": "display_data"
    }
   ],
   "source": [
    "p = hl.plot.histogram(mt_pass.GQ, range=(0,100), bins=100, title='GQ Histogram', legend='GQ')\n",
    "show(p)"
   ]
  },
  {
   "cell_type": "code",
   "execution_count": 16,
   "metadata": {},
   "outputs": [
    {
     "data": {
      "text/html": [
       "\n",
       "\n",
       "\n",
       "\n",
       "\n",
       "\n",
       "  <div class=\"bk-root\" id=\"bb5b5949-8cba-419e-84f8-a7d698f99446\" data-root-id=\"1397\"></div>\n"
      ]
     },
     "metadata": {},
     "output_type": "display_data"
    },
    {
     "data": {
      "application/javascript": [
       "(function(root) {\n",
       "  function embed_document(root) {\n",
       "    \n",
       "  var docs_json = {\"9ce1d663-0416-4863-bc3e-3e8d129e4e10\":{\"roots\":{\"references\":[{\"attributes\":{\"background_fill_color\":{\"value\":\"#EEEEEE\"},\"below\":[{\"id\":\"1408\",\"type\":\"LinearAxis\"}],\"center\":[{\"id\":\"1412\",\"type\":\"Grid\"},{\"id\":\"1417\",\"type\":\"Grid\"},{\"id\":\"1442\",\"type\":\"Legend\"}],\"left\":[{\"id\":\"1413\",\"type\":\"LinearAxis\"}],\"renderers\":[{\"id\":\"1434\",\"type\":\"GlyphRenderer\"},{\"id\":\"1447\",\"type\":\"GlyphRenderer\"}],\"title\":{\"id\":\"1398\",\"type\":\"Title\"},\"toolbar\":{\"id\":\"1424\",\"type\":\"Toolbar\"},\"x_range\":{\"id\":\"1400\",\"type\":\"Range1d\"},\"x_scale\":{\"id\":\"1404\",\"type\":\"LinearScale\"},\"y_range\":{\"id\":\"1402\",\"type\":\"DataRange1d\"},\"y_scale\":{\"id\":\"1406\",\"type\":\"LinearScale\"}},\"id\":\"1397\",\"subtype\":\"Figure\",\"type\":\"Plot\"},{\"attributes\":{\"bottom\":{\"value\":0},\"fill_color\":{\"value\":\"green\"},\"left\":{\"value\":65.0},\"right\":{\"value\":66.0},\"top\":{\"value\":908}},\"id\":\"1445\",\"type\":\"Quad\"},{\"attributes\":{\"callback\":null,\"data\":{},\"selected\":{\"id\":\"1493\",\"type\":\"Selection\"},\"selection_policy\":{\"id\":\"1494\",\"type\":\"UnionRenderers\"}},\"id\":\"1444\",\"type\":\"ColumnDataSource\"},{\"attributes\":{},\"id\":\"1404\",\"type\":\"LinearScale\"},{\"attributes\":{},\"id\":\"1493\",\"type\":\"Selection\"},{\"attributes\":{\"bottom_units\":\"screen\",\"fill_alpha\":{\"value\":0.5},\"fill_color\":{\"value\":\"lightgrey\"},\"left_units\":\"screen\",\"level\":\"overlay\",\"line_alpha\":{\"value\":1.0},\"line_color\":{\"value\":\"black\"},\"line_dash\":[4,4],\"line_width\":{\"value\":2},\"render_mode\":\"css\",\"right_units\":\"screen\",\"top_units\":\"screen\"},\"id\":\"1441\",\"type\":\"BoxAnnotation\"},{\"attributes\":{\"dimension\":1,\"ticker\":{\"id\":\"1414\",\"type\":\"BasicTicker\"}},\"id\":\"1417\",\"type\":\"Grid\"},{\"attributes\":{\"callback\":null,\"end\":68.25,\"start\":-3.25},\"id\":\"1400\",\"type\":\"Range1d\"},{\"attributes\":{\"label\":{\"value\":\"MQ\"},\"renderers\":[{\"id\":\"1434\",\"type\":\"GlyphRenderer\"}]},\"id\":\"1443\",\"type\":\"LegendItem\"},{\"attributes\":{},\"id\":\"1438\",\"type\":\"BasicTickFormatter\"},{\"attributes\":{},\"id\":\"1419\",\"type\":\"WheelZoomTool\"},{\"attributes\":{\"axis_label\":\"Frequency\",\"formatter\":{\"id\":\"1440\",\"type\":\"BasicTickFormatter\"},\"ticker\":{\"id\":\"1414\",\"type\":\"BasicTicker\"}},\"id\":\"1413\",\"type\":\"LinearAxis\"},{\"attributes\":{\"overlay\":{\"id\":\"1441\",\"type\":\"BoxAnnotation\"}},\"id\":\"1420\",\"type\":\"BoxZoomTool\"},{\"attributes\":{},\"id\":\"1406\",\"type\":\"LinearScale\"},{\"attributes\":{\"bottom\":{\"value\":0},\"fill_alpha\":{\"value\":0.1},\"fill_color\":{\"value\":\"#1f77b4\"},\"left\":{\"field\":\"left\"},\"line_alpha\":{\"value\":0.1},\"line_color\":{\"value\":\"#1f77b4\"},\"right\":{\"field\":\"right\"},\"top\":{\"field\":\"top\"}},\"id\":\"1433\",\"type\":\"Quad\"},{\"attributes\":{\"bottom\":{\"value\":0},\"fill_color\":{\"value\":\"#1f77b4\"},\"left\":{\"field\":\"left\"},\"right\":{\"field\":\"right\"},\"top\":{\"field\":\"top\"}},\"id\":\"1432\",\"type\":\"Quad\"},{\"attributes\":{},\"id\":\"1409\",\"type\":\"BasicTicker\"},{\"attributes\":{},\"id\":\"1422\",\"type\":\"ResetTool\"},{\"attributes\":{},\"id\":\"1494\",\"type\":\"UnionRenderers\"},{\"attributes\":{\"ticker\":{\"id\":\"1409\",\"type\":\"BasicTicker\"}},\"id\":\"1412\",\"type\":\"Grid\"},{\"attributes\":{\"source\":{\"id\":\"1444\",\"type\":\"ColumnDataSource\"}},\"id\":\"1448\",\"type\":\"CDSView\"},{\"attributes\":{},\"id\":\"1414\",\"type\":\"BasicTicker\"},{\"attributes\":{},\"id\":\"1421\",\"type\":\"SaveTool\"},{\"attributes\":{\"axis_label\":\"MQ\",\"formatter\":{\"id\":\"1438\",\"type\":\"BasicTickFormatter\"},\"ticker\":{\"id\":\"1409\",\"type\":\"BasicTicker\"}},\"id\":\"1408\",\"type\":\"LinearAxis\"},{\"attributes\":{},\"id\":\"1454\",\"type\":\"Selection\"},{\"attributes\":{},\"id\":\"1455\",\"type\":\"UnionRenderers\"},{\"attributes\":{\"callback\":null,\"data\":{\"left\":[0.0,1.0,2.0,3.0,4.0,5.0,6.0,7.0,8.0,9.0,10.0,11.0,12.0,13.0,14.0,15.0,16.0,17.0,18.0,19.0,20.0,21.0,22.0,23.0,24.0,25.0,26.0,27.0,28.0,29.0,30.0,31.0,32.0,33.0,34.0,35.0,36.0,37.0,38.0,39.0,40.0,41.0,42.0,43.0,44.0,45.0,46.0,47.0,48.0,49.0,50.0,51.0,52.0,53.0,54.0,55.0,56.0,57.0,58.0,59.0,60.0,61.0,62.0,63.0,64.0],\"right\":[1.0,2.0,3.0,4.0,5.0,6.0,7.0,8.0,9.0,10.0,11.0,12.0,13.0,14.0,15.0,16.0,17.0,18.0,19.0,20.0,21.0,22.0,23.0,24.0,25.0,26.0,27.0,28.0,29.0,30.0,31.0,32.0,33.0,34.0,35.0,36.0,37.0,38.0,39.0,40.0,41.0,42.0,43.0,44.0,45.0,46.0,47.0,48.0,49.0,50.0,51.0,52.0,53.0,54.0,55.0,56.0,57.0,58.0,59.0,60.0,61.0,62.0,63.0,64.0,65.0],\"top\":[0,0,0,0,0,0,0,0,0,0,0,0,0,0,0,0,0,0,0,1,1,1,0,2,4,1,12,2,1,4,1,3,4,2,3,2,9,6,6,5,9,4,14,6,10,12,4,12,21,5,26,25,19,22,32,25,49,49,67,652,258287,77,64,56,42]},\"selected\":{\"id\":\"1454\",\"type\":\"Selection\"},\"selection_policy\":{\"id\":\"1455\",\"type\":\"UnionRenderers\"}},\"id\":\"1431\",\"type\":\"ColumnDataSource\"},{\"attributes\":{\"callback\":null},\"id\":\"1402\",\"type\":\"DataRange1d\"},{\"attributes\":{\"active_drag\":\"auto\",\"active_inspect\":\"auto\",\"active_multi\":null,\"active_scroll\":\"auto\",\"active_tap\":\"auto\",\"tools\":[{\"id\":\"1418\",\"type\":\"PanTool\"},{\"id\":\"1419\",\"type\":\"WheelZoomTool\"},{\"id\":\"1420\",\"type\":\"BoxZoomTool\"},{\"id\":\"1421\",\"type\":\"SaveTool\"},{\"id\":\"1422\",\"type\":\"ResetTool\"},{\"id\":\"1423\",\"type\":\"HelpTool\"}]},\"id\":\"1424\",\"type\":\"Toolbar\"},{\"attributes\":{},\"id\":\"1423\",\"type\":\"HelpTool\"},{\"attributes\":{},\"id\":\"1418\",\"type\":\"PanTool\"},{\"attributes\":{\"source\":{\"id\":\"1431\",\"type\":\"ColumnDataSource\"}},\"id\":\"1435\",\"type\":\"CDSView\"},{\"attributes\":{\"data_source\":{\"id\":\"1431\",\"type\":\"ColumnDataSource\"},\"glyph\":{\"id\":\"1432\",\"type\":\"Quad\"},\"hover_glyph\":null,\"muted_glyph\":null,\"nonselection_glyph\":{\"id\":\"1433\",\"type\":\"Quad\"},\"selection_glyph\":null,\"view\":{\"id\":\"1435\",\"type\":\"CDSView\"}},\"id\":\"1434\",\"type\":\"GlyphRenderer\"},{\"attributes\":{\"items\":[{\"id\":\"1443\",\"type\":\"LegendItem\"},{\"id\":\"1457\",\"type\":\"LegendItem\"}]},\"id\":\"1442\",\"type\":\"Legend\"},{\"attributes\":{\"bottom\":{\"value\":0},\"fill_alpha\":{\"value\":0.1},\"fill_color\":{\"value\":\"#1f77b4\"},\"left\":{\"value\":65.0},\"line_alpha\":{\"value\":0.1},\"line_color\":{\"value\":\"#1f77b4\"},\"right\":{\"value\":66.0},\"top\":{\"value\":908}},\"id\":\"1446\",\"type\":\"Quad\"},{\"attributes\":{\"label\":{\"value\":\"Outliers Above\"},\"renderers\":[{\"id\":\"1447\",\"type\":\"GlyphRenderer\"}]},\"id\":\"1457\",\"type\":\"LegendItem\"},{\"attributes\":{\"text\":\"MQ Histogram\"},\"id\":\"1398\",\"type\":\"Title\"},{\"attributes\":{},\"id\":\"1440\",\"type\":\"BasicTickFormatter\"},{\"attributes\":{\"data_source\":{\"id\":\"1444\",\"type\":\"ColumnDataSource\"},\"glyph\":{\"id\":\"1445\",\"type\":\"Quad\"},\"hover_glyph\":null,\"muted_glyph\":null,\"nonselection_glyph\":{\"id\":\"1446\",\"type\":\"Quad\"},\"selection_glyph\":null,\"view\":{\"id\":\"1448\",\"type\":\"CDSView\"}},\"id\":\"1447\",\"type\":\"GlyphRenderer\"}],\"root_ids\":[\"1397\"]},\"title\":\"Bokeh Application\",\"version\":\"1.2.0\"}};\n",
       "  var render_items = [{\"docid\":\"9ce1d663-0416-4863-bc3e-3e8d129e4e10\",\"roots\":{\"1397\":\"bb5b5949-8cba-419e-84f8-a7d698f99446\"}}];\n",
       "  root.Bokeh.embed.embed_items_notebook(docs_json, render_items);\n",
       "\n",
       "  }\n",
       "  if (root.Bokeh !== undefined) {\n",
       "    embed_document(root);\n",
       "  } else {\n",
       "    var attempts = 0;\n",
       "    var timer = setInterval(function(root) {\n",
       "      if (root.Bokeh !== undefined) {\n",
       "        embed_document(root);\n",
       "        clearInterval(timer);\n",
       "      }\n",
       "      attempts++;\n",
       "      if (attempts > 100) {\n",
       "        console.log(\"Bokeh: ERROR: Unable to run BokehJS code because BokehJS library is missing\");\n",
       "        clearInterval(timer);\n",
       "      }\n",
       "    }, 10, root)\n",
       "  }\n",
       "})(window);"
      ],
      "application/vnd.bokehjs_exec.v0+json": ""
     },
     "metadata": {
      "application/vnd.bokehjs_exec.v0+json": {
       "id": "1397"
      }
     },
     "output_type": "display_data"
    }
   ],
   "source": [
    "p = hl.plot.histogram(mt_pass.info.MQ, range=(0,65), bins=65, title='MQ Histogram', legend='MQ')\n",
    "show(p)"
   ]
  },
  {
   "cell_type": "code",
   "execution_count": 17,
   "metadata": {},
   "outputs": [
    {
     "data": {
      "text/html": [
       "\n",
       "\n",
       "\n",
       "\n",
       "\n",
       "\n",
       "  <div class=\"bk-root\" id=\"4d1ddacb-457c-450a-b2b3-34738eac8353\" data-root-id=\"1556\"></div>\n"
      ]
     },
     "metadata": {},
     "output_type": "display_data"
    },
    {
     "data": {
      "application/javascript": [
       "(function(root) {\n",
       "  function embed_document(root) {\n",
       "    \n",
       "  var docs_json = {\"ec1e3bb8-2cc2-42b9-ab6f-27028cd3b71c\":{\"roots\":{\"references\":[{\"attributes\":{\"background_fill_color\":{\"value\":\"#EEEEEE\"},\"below\":[{\"id\":\"1567\",\"type\":\"LinearAxis\"}],\"center\":[{\"id\":\"1571\",\"type\":\"Grid\"},{\"id\":\"1576\",\"type\":\"Grid\"},{\"id\":\"1601\",\"type\":\"Legend\"}],\"left\":[{\"id\":\"1572\",\"type\":\"LinearAxis\"}],\"renderers\":[{\"id\":\"1593\",\"type\":\"GlyphRenderer\"},{\"id\":\"1606\",\"type\":\"GlyphRenderer\"}],\"title\":{\"id\":\"1557\",\"type\":\"Title\"},\"toolbar\":{\"id\":\"1583\",\"type\":\"Toolbar\"},\"x_range\":{\"id\":\"1559\",\"type\":\"Range1d\"},\"x_scale\":{\"id\":\"1563\",\"type\":\"LinearScale\"},\"y_range\":{\"id\":\"1561\",\"type\":\"DataRange1d\"},\"y_scale\":{\"id\":\"1565\",\"type\":\"LinearScale\"}},\"id\":\"1556\",\"subtype\":\"Figure\",\"type\":\"Plot\"},{\"attributes\":{\"bottom\":{\"value\":0},\"fill_alpha\":{\"value\":0.1},\"fill_color\":{\"value\":\"#1f77b4\"},\"left\":{\"field\":\"left\"},\"line_alpha\":{\"value\":0.1},\"line_color\":{\"value\":\"#1f77b4\"},\"right\":{\"field\":\"right\"},\"top\":{\"field\":\"top\"}},\"id\":\"1592\",\"type\":\"Quad\"},{\"attributes\":{},\"id\":\"1577\",\"type\":\"PanTool\"},{\"attributes\":{\"bottom\":{\"value\":0},\"fill_color\":{\"value\":\"#1f77b4\"},\"left\":{\"field\":\"left\"},\"right\":{\"field\":\"right\"},\"top\":{\"field\":\"top\"}},\"id\":\"1591\",\"type\":\"Quad\"},{\"attributes\":{\"bottom\":{\"value\":0},\"fill_color\":{\"value\":\"green\"},\"left\":{\"value\":40.0},\"right\":{\"value\":41.0},\"top\":{\"value\":1}},\"id\":\"1604\",\"type\":\"Quad\"},{\"attributes\":{},\"id\":\"1614\",\"type\":\"UnionRenderers\"},{\"attributes\":{\"data_source\":{\"id\":\"1590\",\"type\":\"ColumnDataSource\"},\"glyph\":{\"id\":\"1591\",\"type\":\"Quad\"},\"hover_glyph\":null,\"muted_glyph\":null,\"nonselection_glyph\":{\"id\":\"1592\",\"type\":\"Quad\"},\"selection_glyph\":null,\"view\":{\"id\":\"1594\",\"type\":\"CDSView\"}},\"id\":\"1593\",\"type\":\"GlyphRenderer\"},{\"attributes\":{},\"id\":\"1568\",\"type\":\"BasicTicker\"},{\"attributes\":{\"callback\":null,\"end\":42.0,\"start\":-2.0},\"id\":\"1559\",\"type\":\"Range1d\"},{\"attributes\":{},\"id\":\"1581\",\"type\":\"ResetTool\"},{\"attributes\":{\"source\":{\"id\":\"1590\",\"type\":\"ColumnDataSource\"}},\"id\":\"1594\",\"type\":\"CDSView\"},{\"attributes\":{\"callback\":null,\"data\":{\"left\":[0.0,1.0,2.0,3.0,4.0,5.0,6.0,7.0,8.0,9.0,10.0,11.0,12.0,13.0,14.0,15.0,16.0,17.0,18.0,19.0,20.0,21.0,22.0,23.0,24.0,25.0,26.0,27.0,28.0,29.0,30.0,31.0,32.0,33.0,34.0,35.0,36.0,37.0,38.0,39.0],\"right\":[1.0,2.0,3.0,4.0,5.0,6.0,7.0,8.0,9.0,10.0,11.0,12.0,13.0,14.0,15.0,16.0,17.0,18.0,19.0,20.0,21.0,22.0,23.0,24.0,25.0,26.0,27.0,28.0,29.0,30.0,31.0,32.0,33.0,34.0,35.0,36.0,37.0,38.0,39.0,40.0],\"top\":[493,714,682,723,937,1322,1981,2946,4811,8195,14110,23667,35083,40881,36233,25931,16656,11088,7303,5163,3733,2892,2187,1767,1479,1355,1175,1035,963,924,833,826,833,834,757,27,14,6,6,1]},\"selected\":{\"id\":\"1613\",\"type\":\"Selection\"},\"selection_policy\":{\"id\":\"1614\",\"type\":\"UnionRenderers\"}},\"id\":\"1590\",\"type\":\"ColumnDataSource\"},{\"attributes\":{},\"id\":\"1580\",\"type\":\"SaveTool\"},{\"attributes\":{\"overlay\":{\"id\":\"1600\",\"type\":\"BoxAnnotation\"}},\"id\":\"1579\",\"type\":\"BoxZoomTool\"},{\"attributes\":{\"dimension\":1,\"ticker\":{\"id\":\"1573\",\"type\":\"BasicTicker\"}},\"id\":\"1576\",\"type\":\"Grid\"},{\"attributes\":{\"source\":{\"id\":\"1603\",\"type\":\"ColumnDataSource\"}},\"id\":\"1607\",\"type\":\"CDSView\"},{\"attributes\":{},\"id\":\"1578\",\"type\":\"WheelZoomTool\"},{\"attributes\":{\"active_drag\":\"auto\",\"active_inspect\":\"auto\",\"active_multi\":null,\"active_scroll\":\"auto\",\"active_tap\":\"auto\",\"tools\":[{\"id\":\"1577\",\"type\":\"PanTool\"},{\"id\":\"1578\",\"type\":\"WheelZoomTool\"},{\"id\":\"1579\",\"type\":\"BoxZoomTool\"},{\"id\":\"1580\",\"type\":\"SaveTool\"},{\"id\":\"1581\",\"type\":\"ResetTool\"},{\"id\":\"1582\",\"type\":\"HelpTool\"}]},\"id\":\"1583\",\"type\":\"Toolbar\"},{\"attributes\":{\"callback\":null},\"id\":\"1561\",\"type\":\"DataRange1d\"},{\"attributes\":{},\"id\":\"1663\",\"type\":\"UnionRenderers\"},{\"attributes\":{\"bottom_units\":\"screen\",\"fill_alpha\":{\"value\":0.5},\"fill_color\":{\"value\":\"lightgrey\"},\"left_units\":\"screen\",\"level\":\"overlay\",\"line_alpha\":{\"value\":1.0},\"line_color\":{\"value\":\"black\"},\"line_dash\":[4,4],\"line_width\":{\"value\":2},\"render_mode\":\"css\",\"right_units\":\"screen\",\"top_units\":\"screen\"},\"id\":\"1600\",\"type\":\"BoxAnnotation\"},{\"attributes\":{},\"id\":\"1582\",\"type\":\"HelpTool\"},{\"attributes\":{},\"id\":\"1565\",\"type\":\"LinearScale\"},{\"attributes\":{\"axis_label\":\"QD\",\"formatter\":{\"id\":\"1597\",\"type\":\"BasicTickFormatter\"},\"ticker\":{\"id\":\"1568\",\"type\":\"BasicTicker\"}},\"id\":\"1567\",\"type\":\"LinearAxis\"},{\"attributes\":{\"data_source\":{\"id\":\"1603\",\"type\":\"ColumnDataSource\"},\"glyph\":{\"id\":\"1604\",\"type\":\"Quad\"},\"hover_glyph\":null,\"muted_glyph\":null,\"nonselection_glyph\":{\"id\":\"1605\",\"type\":\"Quad\"},\"selection_glyph\":null,\"view\":{\"id\":\"1607\",\"type\":\"CDSView\"}},\"id\":\"1606\",\"type\":\"GlyphRenderer\"},{\"attributes\":{\"bottom\":{\"value\":0},\"fill_alpha\":{\"value\":0.1},\"fill_color\":{\"value\":\"#1f77b4\"},\"left\":{\"value\":40.0},\"line_alpha\":{\"value\":0.1},\"line_color\":{\"value\":\"#1f77b4\"},\"right\":{\"value\":41.0},\"top\":{\"value\":1}},\"id\":\"1605\",\"type\":\"Quad\"},{\"attributes\":{\"text\":\"QD Histogram\"},\"id\":\"1557\",\"type\":\"Title\"},{\"attributes\":{\"callback\":null,\"data\":{},\"selected\":{\"id\":\"1662\",\"type\":\"Selection\"},\"selection_policy\":{\"id\":\"1663\",\"type\":\"UnionRenderers\"}},\"id\":\"1603\",\"type\":\"ColumnDataSource\"},{\"attributes\":{},\"id\":\"1563\",\"type\":\"LinearScale\"},{\"attributes\":{\"label\":{\"value\":\"Outliers Above\"},\"renderers\":[{\"id\":\"1606\",\"type\":\"GlyphRenderer\"}]},\"id\":\"1616\",\"type\":\"LegendItem\"},{\"attributes\":{},\"id\":\"1599\",\"type\":\"BasicTickFormatter\"},{\"attributes\":{},\"id\":\"1573\",\"type\":\"BasicTicker\"},{\"attributes\":{\"label\":{\"value\":\"QD\"},\"renderers\":[{\"id\":\"1593\",\"type\":\"GlyphRenderer\"}]},\"id\":\"1602\",\"type\":\"LegendItem\"},{\"attributes\":{\"items\":[{\"id\":\"1602\",\"type\":\"LegendItem\"},{\"id\":\"1616\",\"type\":\"LegendItem\"}]},\"id\":\"1601\",\"type\":\"Legend\"},{\"attributes\":{\"axis_label\":\"Frequency\",\"formatter\":{\"id\":\"1599\",\"type\":\"BasicTickFormatter\"},\"ticker\":{\"id\":\"1573\",\"type\":\"BasicTicker\"}},\"id\":\"1572\",\"type\":\"LinearAxis\"},{\"attributes\":{\"ticker\":{\"id\":\"1568\",\"type\":\"BasicTicker\"}},\"id\":\"1571\",\"type\":\"Grid\"},{\"attributes\":{},\"id\":\"1613\",\"type\":\"Selection\"},{\"attributes\":{},\"id\":\"1597\",\"type\":\"BasicTickFormatter\"},{\"attributes\":{},\"id\":\"1662\",\"type\":\"Selection\"}],\"root_ids\":[\"1556\"]},\"title\":\"Bokeh Application\",\"version\":\"1.2.0\"}};\n",
       "  var render_items = [{\"docid\":\"ec1e3bb8-2cc2-42b9-ab6f-27028cd3b71c\",\"roots\":{\"1556\":\"4d1ddacb-457c-450a-b2b3-34738eac8353\"}}];\n",
       "  root.Bokeh.embed.embed_items_notebook(docs_json, render_items);\n",
       "\n",
       "  }\n",
       "  if (root.Bokeh !== undefined) {\n",
       "    embed_document(root);\n",
       "  } else {\n",
       "    var attempts = 0;\n",
       "    var timer = setInterval(function(root) {\n",
       "      if (root.Bokeh !== undefined) {\n",
       "        embed_document(root);\n",
       "        clearInterval(timer);\n",
       "      }\n",
       "      attempts++;\n",
       "      if (attempts > 100) {\n",
       "        console.log(\"Bokeh: ERROR: Unable to run BokehJS code because BokehJS library is missing\");\n",
       "        clearInterval(timer);\n",
       "      }\n",
       "    }, 10, root)\n",
       "  }\n",
       "})(window);"
      ],
      "application/vnd.bokehjs_exec.v0+json": ""
     },
     "metadata": {
      "application/vnd.bokehjs_exec.v0+json": {
       "id": "1556"
      }
     },
     "output_type": "display_data"
    }
   ],
   "source": [
    "p = hl.plot.histogram(mt_pass.info.QD, range=(0,40), bins=40, title='QD Histogram', legend='QD')\n",
    "show(p)"
   ]
  },
  {
   "cell_type": "code",
   "execution_count": 6,
   "metadata": {},
   "outputs": [],
   "source": [
    "# let's run the generic variable qc to compute variable QC stats\n",
    "mt_pass = hl.variant_qc(mt_pass)"
   ]
  },
  {
   "cell_type": "code",
   "execution_count": 19,
   "metadata": {},
   "outputs": [
    {
     "data": {
      "text/html": [
       "<table><thead style=\"font-weight: bold;\"><tr><td>locus</td><td>alleles</td><td>variant_qc.dp_stats.mean</td><td>variant_qc.dp_stats.stdev</td><td>variant_qc.dp_stats.min</td><td>variant_qc.dp_stats.max</td><td>variant_qc.gq_stats.mean</td><td>variant_qc.gq_stats.stdev</td><td>variant_qc.gq_stats.min</td><td>variant_qc.gq_stats.max</td><td>variant_qc.AC</td><td>variant_qc.AF</td><td>variant_qc.AN</td><td>variant_qc.homozygote_count</td><td>variant_qc.call_rate</td><td>variant_qc.n_called</td><td>variant_qc.n_not_called</td><td>variant_qc.n_filtered</td><td>variant_qc.n_het</td><td>variant_qc.n_non_ref</td><td>variant_qc.het_freq_hwe</td><td>variant_qc.p_value_hwe</td></tr>\n",
       "<tr><td>locus&lt;GRCh37&gt;</td><td>array&lt;str&gt;</td><td>float64</td><td>float64</td><td>float64</td><td>float64</td><td>float64</td><td>float64</td><td>float64</td><td>float64</td><td>array&lt;int32&gt;</td><td>array&lt;float64&gt;</td><td>int32</td><td>array&lt;int32&gt;</td><td>float64</td><td>int64</td><td>int64</td><td>int64</td><td>int64</td><td>int64</td><td>float64</td><td>float64</td></tr>\n",
       "</thead><tbody><tr><td>1:865584</td><td>[&quot;G&quot;,&quot;A&quot;]</td><td>3.22e+01</td><td>6.23e+00</td><td>1.10e+01</td><td>4.90e+01</td><td>8.66e+01</td><td>1.61e+01</td><td>3.00e+01</td><td>9.90e+01</td><td>[461,3]</td><td>[9.94e-01,6.47e-03]</td><td>464</td><td>[229,0]</td><td>1.00e+00</td><td>232</td><td>0</td><td>0</td><td>3</td><td>3</td><td>1.29e-02</td><td>5.03e-01</td></tr>\n",
       "<tr><td>1:865628</td><td>[&quot;G&quot;,&quot;A&quot;]</td><td>3.68e+01</td><td>3.49e+00</td><td>2.40e+01</td><td>5.80e+01</td><td>9.83e+01</td><td>4.35e+00</td><td>6.60e+01</td><td>9.90e+01</td><td>[461,3]</td><td>[9.94e-01,6.47e-03]</td><td>464</td><td>[229,0]</td><td>1.00e+00</td><td>232</td><td>0</td><td>0</td><td>3</td><td>3</td><td>1.29e-02</td><td>5.03e-01</td></tr>\n",
       "<tr><td>1:865694</td><td>[&quot;C&quot;,&quot;T&quot;]</td><td>3.30e+01</td><td>6.46e+00</td><td>1.20e+01</td><td>4.60e+01</td><td>8.48e+01</td><td>1.73e+01</td><td>3.00e+01</td><td>9.90e+01</td><td>[444,20]</td><td>[9.57e-01,4.31e-02]</td><td>464</td><td>[212,0]</td><td>1.00e+00</td><td>232</td><td>0</td><td>0</td><td>20</td><td>20</td><td>8.27e-02</td><td>6.74e-01</td></tr>\n",
       "<tr><td>1:865705</td><td>[&quot;C&quot;,&quot;T&quot;]</td><td>3.03e+01</td><td>6.95e+00</td><td>1.00e+01</td><td>4.90e+01</td><td>7.90e+01</td><td>1.85e+01</td><td>6.00e+00</td><td>9.90e+01</td><td>[463,1]</td><td>[9.98e-01,2.16e-03]</td><td>464</td><td>[231,0]</td><td>1.00e+00</td><td>232</td><td>0</td><td>0</td><td>1</td><td>1</td><td>4.31e-03</td><td>5.00e-01</td></tr>\n",
       "<tr><td>1:866422</td><td>[&quot;C&quot;,&quot;T&quot;]</td><td>3.77e+01</td><td>6.28e+00</td><td>2.20e+01</td><td>9.20e+01</td><td>9.81e+01</td><td>5.38e+00</td><td>5.20e+01</td><td>9.90e+01</td><td>[460,4]</td><td>[9.91e-01,8.62e-03]</td><td>464</td><td>[228,0]</td><td>1.00e+00</td><td>232</td><td>0</td><td>0</td><td>4</td><td>4</td><td>1.71e-02</td><td>5.06e-01</td></tr>\n",
       "<tr><td>1:871173</td><td>[&quot;C&quot;,&quot;T&quot;]</td><td>3.33e+01</td><td>6.33e+00</td><td>1.00e+01</td><td>4.90e+01</td><td>8.95e+01</td><td>1.56e+01</td><td>2.20e+01</td><td>9.90e+01</td><td>[463,1]</td><td>[9.98e-01,2.16e-03]</td><td>464</td><td>[231,0]</td><td>1.00e+00</td><td>232</td><td>0</td><td>0</td><td>1</td><td>1</td><td>4.31e-03</td><td>5.00e-01</td></tr>\n",
       "<tr><td>1:871215</td><td>[&quot;C&quot;,&quot;G&quot;]</td><td>3.85e+01</td><td>7.97e+00</td><td>1.30e+01</td><td>9.40e+01</td><td>9.80e+01</td><td>5.78e+00</td><td>3.60e+01</td><td>9.90e+01</td><td>[444,20]</td><td>[9.57e-01,4.31e-02]</td><td>464</td><td>[212,0]</td><td>1.00e+00</td><td>232</td><td>0</td><td>0</td><td>20</td><td>20</td><td>8.27e-02</td><td>6.74e-01</td></tr>\n",
       "<tr><td>1:871239</td><td>[&quot;C&quot;,&quot;T&quot;]</td><td>3.70e+01</td><td>4.31e+00</td><td>1.00e+01</td><td>5.00e+01</td><td>9.67e+01</td><td>8.52e+00</td><td>3.00e+01</td><td>9.90e+01</td><td>[463,1]</td><td>[9.98e-01,2.16e-03]</td><td>464</td><td>[231,0]</td><td>1.00e+00</td><td>232</td><td>0</td><td>0</td><td>1</td><td>1</td><td>4.31e-03</td><td>5.00e-01</td></tr>\n",
       "<tr><td>1:874483</td><td>[&quot;A&quot;,&quot;C&quot;]</td><td>3.73e+01</td><td>3.68e+00</td><td>3.30e+01</td><td>6.40e+01</td><td>9.90e+01</td><td>0.00e+00</td><td>9.90e+01</td><td>9.90e+01</td><td>[463,1]</td><td>[9.98e-01,2.16e-03]</td><td>464</td><td>[231,0]</td><td>1.00e+00</td><td>232</td><td>0</td><td>0</td><td>1</td><td>1</td><td>4.31e-03</td><td>5.00e-01</td></tr>\n",
       "<tr><td>1:874665</td><td>[&quot;G&quot;,&quot;A&quot;]</td><td>1.93e+01</td><td>7.82e+00</td><td>4.00e+00</td><td>4.30e+01</td><td>5.33e+01</td><td>2.20e+01</td><td>5.00e+00</td><td>9.90e+01</td><td>[456,8]</td><td>[9.83e-01,1.72e-02]</td><td>464</td><td>[224,0]</td><td>1.00e+00</td><td>232</td><td>0</td><td>0</td><td>8</td><td>8</td><td>3.40e-02</td><td>5.30e-01</td></tr>\n",
       "</tbody></table><p style=\"background: #fdd; padding: 0.4em;\">showing top 10 rows</p>\n"
      ],
      "text/plain": [
       "+---------------+------------+--------------------------+---------------------------+-------------------------+-------------------------+--------------------------+\n",
       "| locus         | alleles    | variant_qc.dp_stats.mean | variant_qc.dp_stats.stdev | variant_qc.dp_stats.min | variant_qc.dp_stats.max | variant_qc.gq_stats.mean |\n",
       "+---------------+------------+--------------------------+---------------------------+-------------------------+-------------------------+--------------------------+\n",
       "| locus<GRCh37> | array<str> |                  float64 |                   float64 |                 float64 |                 float64 |                  float64 |\n",
       "+---------------+------------+--------------------------+---------------------------+-------------------------+-------------------------+--------------------------+\n",
       "| 1:865584      | [\"G\",\"A\"]  |                 3.22e+01 |                  6.23e+00 |                1.10e+01 |                4.90e+01 |                 8.66e+01 |\n",
       "| 1:865628      | [\"G\",\"A\"]  |                 3.68e+01 |                  3.49e+00 |                2.40e+01 |                5.80e+01 |                 9.83e+01 |\n",
       "| 1:865694      | [\"C\",\"T\"]  |                 3.30e+01 |                  6.46e+00 |                1.20e+01 |                4.60e+01 |                 8.48e+01 |\n",
       "| 1:865705      | [\"C\",\"T\"]  |                 3.03e+01 |                  6.95e+00 |                1.00e+01 |                4.90e+01 |                 7.90e+01 |\n",
       "| 1:866422      | [\"C\",\"T\"]  |                 3.77e+01 |                  6.28e+00 |                2.20e+01 |                9.20e+01 |                 9.81e+01 |\n",
       "| 1:871173      | [\"C\",\"T\"]  |                 3.33e+01 |                  6.33e+00 |                1.00e+01 |                4.90e+01 |                 8.95e+01 |\n",
       "| 1:871215      | [\"C\",\"G\"]  |                 3.85e+01 |                  7.97e+00 |                1.30e+01 |                9.40e+01 |                 9.80e+01 |\n",
       "| 1:871239      | [\"C\",\"T\"]  |                 3.70e+01 |                  4.31e+00 |                1.00e+01 |                5.00e+01 |                 9.67e+01 |\n",
       "| 1:874483      | [\"A\",\"C\"]  |                 3.73e+01 |                  3.68e+00 |                3.30e+01 |                6.40e+01 |                 9.90e+01 |\n",
       "| 1:874665      | [\"G\",\"A\"]  |                 1.93e+01 |                  7.82e+00 |                4.00e+00 |                4.30e+01 |                 5.33e+01 |\n",
       "+---------------+------------+--------------------------+---------------------------+-------------------------+-------------------------+--------------------------+\n",
       "\n",
       "+---------------------------+-------------------------+-------------------------+---------------+---------------------+---------------+-----------------------------+\n",
       "| variant_qc.gq_stats.stdev | variant_qc.gq_stats.min | variant_qc.gq_stats.max | variant_qc.AC | variant_qc.AF       | variant_qc.AN | variant_qc.homozygote_count |\n",
       "+---------------------------+-------------------------+-------------------------+---------------+---------------------+---------------+-----------------------------+\n",
       "|                   float64 |                 float64 |                 float64 | array<int32>  | array<float64>      |         int32 | array<int32>                |\n",
       "+---------------------------+-------------------------+-------------------------+---------------+---------------------+---------------+-----------------------------+\n",
       "|                  1.61e+01 |                3.00e+01 |                9.90e+01 | [461,3]       | [9.94e-01,6.47e-03] |           464 | [229,0]                     |\n",
       "|                  4.35e+00 |                6.60e+01 |                9.90e+01 | [461,3]       | [9.94e-01,6.47e-03] |           464 | [229,0]                     |\n",
       "|                  1.73e+01 |                3.00e+01 |                9.90e+01 | [444,20]      | [9.57e-01,4.31e-02] |           464 | [212,0]                     |\n",
       "|                  1.85e+01 |                6.00e+00 |                9.90e+01 | [463,1]       | [9.98e-01,2.16e-03] |           464 | [231,0]                     |\n",
       "|                  5.38e+00 |                5.20e+01 |                9.90e+01 | [460,4]       | [9.91e-01,8.62e-03] |           464 | [228,0]                     |\n",
       "|                  1.56e+01 |                2.20e+01 |                9.90e+01 | [463,1]       | [9.98e-01,2.16e-03] |           464 | [231,0]                     |\n",
       "|                  5.78e+00 |                3.60e+01 |                9.90e+01 | [444,20]      | [9.57e-01,4.31e-02] |           464 | [212,0]                     |\n",
       "|                  8.52e+00 |                3.00e+01 |                9.90e+01 | [463,1]       | [9.98e-01,2.16e-03] |           464 | [231,0]                     |\n",
       "|                  0.00e+00 |                9.90e+01 |                9.90e+01 | [463,1]       | [9.98e-01,2.16e-03] |           464 | [231,0]                     |\n",
       "|                  2.20e+01 |                5.00e+00 |                9.90e+01 | [456,8]       | [9.83e-01,1.72e-02] |           464 | [224,0]                     |\n",
       "+---------------------------+-------------------------+-------------------------+---------------+---------------------+---------------+-----------------------------+\n",
       "\n",
       "+----------------------+---------------------+-------------------------+-----------------------+------------------+----------------------+-------------------------+\n",
       "| variant_qc.call_rate | variant_qc.n_called | variant_qc.n_not_called | variant_qc.n_filtered | variant_qc.n_het | variant_qc.n_non_ref | variant_qc.het_freq_hwe |\n",
       "+----------------------+---------------------+-------------------------+-----------------------+------------------+----------------------+-------------------------+\n",
       "|              float64 |               int64 |                   int64 |                 int64 |            int64 |                int64 |                 float64 |\n",
       "+----------------------+---------------------+-------------------------+-----------------------+------------------+----------------------+-------------------------+\n",
       "|             1.00e+00 |                 232 |                       0 |                     0 |                3 |                    3 |                1.29e-02 |\n",
       "|             1.00e+00 |                 232 |                       0 |                     0 |                3 |                    3 |                1.29e-02 |\n",
       "|             1.00e+00 |                 232 |                       0 |                     0 |               20 |                   20 |                8.27e-02 |\n",
       "|             1.00e+00 |                 232 |                       0 |                     0 |                1 |                    1 |                4.31e-03 |\n",
       "|             1.00e+00 |                 232 |                       0 |                     0 |                4 |                    4 |                1.71e-02 |\n",
       "|             1.00e+00 |                 232 |                       0 |                     0 |                1 |                    1 |                4.31e-03 |\n",
       "|             1.00e+00 |                 232 |                       0 |                     0 |               20 |                   20 |                8.27e-02 |\n",
       "|             1.00e+00 |                 232 |                       0 |                     0 |                1 |                    1 |                4.31e-03 |\n",
       "|             1.00e+00 |                 232 |                       0 |                     0 |                1 |                    1 |                4.31e-03 |\n",
       "|             1.00e+00 |                 232 |                       0 |                     0 |                8 |                    8 |                3.40e-02 |\n",
       "+----------------------+---------------------+-------------------------+-----------------------+------------------+----------------------+-------------------------+\n",
       "\n",
       "+------------------------+\n",
       "| variant_qc.p_value_hwe |\n",
       "+------------------------+\n",
       "|                float64 |\n",
       "+------------------------+\n",
       "|               5.03e-01 |\n",
       "|               5.03e-01 |\n",
       "|               6.74e-01 |\n",
       "|               5.00e-01 |\n",
       "|               5.06e-01 |\n",
       "|               5.00e-01 |\n",
       "|               6.74e-01 |\n",
       "|               5.00e-01 |\n",
       "|               5.00e-01 |\n",
       "|               5.30e-01 |\n",
       "+------------------------+\n",
       "showing top 10 rows"
      ]
     },
     "metadata": {},
     "output_type": "display_data"
    }
   ],
   "source": [
    "mt_pass.variant_qc.show()"
   ]
  },
  {
   "cell_type": "markdown",
   "metadata": {},
   "source": [
    "### Load pheno data"
   ]
  },
  {
   "cell_type": "code",
   "execution_count": 8,
   "metadata": {},
   "outputs": [
    {
     "name": "stderr",
     "output_type": "stream",
     "text": [
      "2020-06-06 21:27:04 Hail: INFO: Reading table to impute column types\n",
      "2020-06-06 21:27:04 Hail: INFO: Loading 177 fields. Counts by type:\n",
      "  92 fields: imputed int32\n",
      "  45 fields: imputed float64\n",
      "  31 fields: imputed str\n",
      "  9 fields: str (no non-missing values for imputation)\n"
     ]
    }
   ],
   "source": [
    "# let's import pheno data and incorporate it with the MatrixTable data\n",
    "pheno1 = hl.import_table('/data/humgen/guffantilab/exome/SystemsBio/gatk_merged_vcf/SB_pheno1.txt',\n",
    "                        impute=True,\n",
    "                        key='sid')"
   ]
  },
  {
   "cell_type": "code",
   "execution_count": 7,
   "metadata": {},
   "outputs": [
    {
     "ename": "NameError",
     "evalue": "name 'pheno1' is not defined",
     "output_type": "error",
     "traceback": [
      "\u001b[0;31m---------------------------------------------------------------------------\u001b[0m",
      "\u001b[0;31mNameError\u001b[0m                                 Traceback (most recent call last)",
      "\u001b[0;32m<ipython-input-7-f4432a0add14>\u001b[0m in \u001b[0;36m<module>\u001b[0;34m\u001b[0m\n\u001b[1;32m      1\u001b[0m \u001b[0;31m# now incorporate it to the genotype data\u001b[0m\u001b[0;34m\u001b[0m\u001b[0;34m\u001b[0m\u001b[0;34m\u001b[0m\u001b[0m\n\u001b[0;32m----> 2\u001b[0;31m \u001b[0mmt_pass\u001b[0m \u001b[0;34m=\u001b[0m \u001b[0mmt_pass\u001b[0m\u001b[0;34m.\u001b[0m\u001b[0mannotate_cols\u001b[0m\u001b[0;34m(\u001b[0m\u001b[0mpheno\u001b[0m \u001b[0;34m=\u001b[0m \u001b[0mpheno1\u001b[0m\u001b[0;34m[\u001b[0m\u001b[0mmt_pass\u001b[0m\u001b[0;34m.\u001b[0m\u001b[0ms\u001b[0m\u001b[0;34m]\u001b[0m\u001b[0;34m)\u001b[0m\u001b[0;34m\u001b[0m\u001b[0;34m\u001b[0m\u001b[0m\n\u001b[0m",
      "\u001b[0;31mNameError\u001b[0m: name 'pheno1' is not defined"
     ]
    }
   ],
   "source": [
    "# now incorporate it to the genotype data\n",
    "mt_pass = mt_pass.annotate_cols(pheno = pheno1[mt_pass.s])"
   ]
  },
  {
   "cell_type": "code",
   "execution_count": 23,
   "metadata": {},
   "outputs": [
    {
     "data": {
      "text/plain": [
       "{'Negative': 117, 'Positive': 112, None: 3}"
      ]
     },
     "execution_count": 23,
     "metadata": {},
     "output_type": "execute_result"
    }
   ],
   "source": [
    "mt_pass.aggregate_cols(hl.agg.counter(mt_pass.pheno.PTSD_status))"
   ]
  },
  {
   "cell_type": "code",
   "execution_count": 24,
   "metadata": {},
   "outputs": [
    {
     "name": "stdout",
     "output_type": "stream",
     "text": [
      "{'max': 113.0,\n",
      " 'mean': 35.956331877729255,\n",
      " 'min': 0.0,\n",
      " 'n': 229,\n",
      " 'stdev': 34.876172927562784,\n",
      " 'sum': 8234.0}\n"
     ]
    }
   ],
   "source": [
    "pprint(mt_pass.aggregate_cols(hl.agg.stats(mt_pass.pheno.CAPSTOT_cur)))"
   ]
  },
  {
   "cell_type": "code",
   "execution_count": 25,
   "metadata": {},
   "outputs": [
    {
     "data": {
      "text/html": [
       "<table><thead style=\"font-weight: bold;\"><tr><td>ID</td><td>sid</td><td>CAPSB_LT</td><td>CAPSC_LT</td><td>CAPSD_LT</td><td>CAPS_2clusters_LT</td><td>CAPS_3clusters_LT</td><td>CAPSB_cur</td><td>CAPSC_cur</td><td>CAPSD_cur</td><td>CAPSTOT_cur</td><td>CAPS_2clusters_cur</td><td>CAPS_3clusters_cur</td><td>PTSD_status</td><td>sumETI_Gen_Trauma</td><td>sumETI_Phy_Abuse</td><td>sumETI_Emo_abuse</td><td>sumETI_Sex_Abuse</td><td>ETISR_Total</td><td>MCS</td><td>mcslite</td><td>BDI_total</td><td>BDI_cut18</td><td>PCLB</td><td>PCLC</td><td>PCLD</td><td>PCLCLUST</td><td>PCLSCORE</td><td>PCLDIAG</td><td>sclsom</td><td>SCLOC</td><td>SCLINT</td><td>SCLDEP</td><td>SCLANX</td><td>SCLHOS</td><td>SCLPHOB</td><td>SCLPAR</td><td>SCLPSY</td><td>SCLGSI</td><td>SCLPST</td><td>SCLPSDI</td><td>PTSD_duration</td><td>PDEQRV</td><td>PDEQEV</td><td>AUDIT</td><td>pdirv</td><td>pdiev</td><td>SASSR</td><td>SASWKSCH</td><td>SASSOCLS</td><td>SASEXFAM</td><td>SASMAR</td><td>SASPARNT</td><td>SASFAMUN</td><td>PSS</td><td>PANAS_PA</td><td>PANAS_NA</td><td>PSQI</td><td>meanERS</td><td>sumERS</td><td>STAXI1</td><td>ASI</td><td>AGG_PHYS</td><td>AGG_MENT</td><td>PF_T</td><td>RP_T</td><td>BP_T</td><td>GH_T</td><td>VT_T</td><td>RE_T</td><td>SF_T</td><td>MH_T</td><td>LES6pos</td><td>LES6neg</td><td>LES12pos</td><td>LES12neg</td><td>LES12TOT</td><td>LES6TOT</td><td>DRRI_D_score</td><td>DRRI_E_score</td><td>DRRI_J_score</td><td>DRRI_K2_score</td><td>DRRI_L_score</td><td>DRRI_M_score</td><td>sos</td><td>CAPSTOT_LT</td><td>STAXI2</td><td>emotional_abuse_score</td><td>physical_abuse_score</td><td>sexual_abuse_score</td><td>emontional_neglect_score</td><td>physical_neglect_score</td><td>DES_score</td><td>HIT6_score</td><td>PTCI_score</td><td>TimeP.x</td><td>Date.x</td><td>DemoAge</td><td>DemoGend</td><td>DemoOccupation</td><td>DemoEdu</td><td>DemoEth</td><td>DemoEth_Hispanic</td><td>DemoEth_Not_Hisp</td><td>DemoEth_Asian</td><td>DemoEth_Black</td><td>DemoEth_White</td><td>DemoEth_NativeAm</td><td>DemoEth_Other</td><td>DemoRel</td><td>DemoRel_Married</td><td>DemoRel_Living</td><td>DemoRel_SteadyRel</td><td>DemoRel_Divorced</td><td>DemoRel_Widow</td><td>DemoRel_Single</td><td>DemoChi</td><td>DemoChi2</td><td>DemoChi3</td><td>DemoMilBranch</td><td>Army</td><td>Navy</td><td>AirForce</td><td>Marine</td><td>NatGuard</td><td>Reserve</td><td>DemoMilServiceTours</td><td>DemoMilService_Iraq</td><td>DemoMilServiceIraqFrom_1</td><td>DemoMilServiceIraqTo_1</td><td>DemoMilServiceIraqMOS_1</td><td>DemoMilServiceIraqFrom_2</td><td>DemoMilServiceIraqTo_2</td><td>DemoMilServiceIraqMOS_2</td><td>DemoMilServiceIraqFrom_3</td><td>DemoMilServiceIraqTo_3</td><td>DemoMilServiceIraqMOS_3</td><td>DemoMilService_Afgh</td><td>DemoMilServiceAfghFrom_1</td><td>DemoMilServiceAfghTo_1</td><td>DemoMilServiceAfghMOS_1</td><td>DemoMilServiceAfghFrom_2</td><td>DemoMilServiceAfghTo_2</td><td>DemoMilServiceAfghMOS_2</td><td>DemoMilServiceAfghFrom_3</td><td>DemoMilServiceAfghTo_3</td><td>DemoMilServiceAfghMOS_3</td><td>DemoMilService_Other</td><td>DemoMilServiceOtherTours</td><td>DemoLocationOtherSpecify</td><td>DemoMilServiceOtherFrom_1</td><td>DemoMilServiceOtherTo_1</td><td>DemoMilServiceOtherMOS_1</td><td>DemoMilServiceOtherFrom_2</td><td>DemoMilServiceOtherTo_2</td><td>DemoMilServiceOtherMOS_2</td><td>DemoMilServiceOtherFrom_3</td><td>DemoMilServiceOtherTo_3</td><td>DemoMilServiceOtherMOS_3</td><td>DemoMilServiceLocation_Iraq</td><td>DemoMilServiceIraqTours</td><td>DemoMilServiceLocation_Afgh</td><td>DemoMilServiceAfghanistanTours</td><td>DemoMilServiceLocation_Other</td><td>Eth_race</td><td>TimeP.y</td><td>Date.y</td><td>Body_Weight</td><td>BMI</td><td>Standing_Height</td><td>Waist_Circumference</td><td>Hip_Circumference</td><td>Waist_to_Hip_Ratio</td><td>Systolic_Blood_Pressure</td><td>Diastolic_Blood_Pressure</td><td>Pulse</td><td>ABM3C</td></tr>\n",
       "<tr><td>int32</td><td>str</td><td>int32</td><td>int32</td><td>int32</td><td>int32</td><td>int32</td><td>int32</td><td>int32</td><td>int32</td><td>int32</td><td>int32</td><td>int32</td><td>str</td><td>int32</td><td>int32</td><td>int32</td><td>int32</td><td>int32</td><td>int32</td><td>float64</td><td>int32</td><td>int32</td><td>int32</td><td>int32</td><td>int32</td><td>int32</td><td>int32</td><td>int32</td><td>float64</td><td>float64</td><td>float64</td><td>float64</td><td>float64</td><td>float64</td><td>float64</td><td>float64</td><td>float64</td><td>float64</td><td>int32</td><td>float64</td><td>float64</td><td>float64</td><td>float64</td><td>int32</td><td>float64</td><td>float64</td><td>float64</td><td>float64</td><td>float64</td><td>float64</td><td>float64</td><td>float64</td><td>float64</td><td>float64</td><td>int32</td><td>int32</td><td>float64</td><td>float64</td><td>int32</td><td>int32</td><td>float64</td><td>float64</td><td>float64</td><td>float64</td><td>float64</td><td>float64</td><td>float64</td><td>float64</td><td>float64</td><td>float64</td><td>float64</td><td>int32</td><td>int32</td><td>int32</td><td>int32</td><td>int32</td><td>int32</td><td>int32</td><td>int32</td><td>int32</td><td>int32</td><td>int32</td><td>int32</td><td>float64</td><td>int32</td><td>int32</td><td>int32</td><td>int32</td><td>int32</td><td>int32</td><td>int32</td><td>int32</td><td>int32</td><td>int32</td><td>int32</td><td>str</td><td>int32</td><td>int32</td><td>str</td><td>int32</td><td>str</td><td>int32</td><td>int32</td><td>int32</td><td>int32</td><td>int32</td><td>int32</td><td>int32</td><td>int32</td><td>int32</td><td>int32</td><td>int32</td><td>int32</td><td>int32</td><td>int32</td><td>int32</td><td>int32</td><td>int32</td><td>str</td><td>int32</td><td>int32</td><td>int32</td><td>int32</td><td>int32</td><td>int32</td><td>int32</td><td>int32</td><td>str</td><td>str</td><td>str</td><td>str</td><td>str</td><td>str</td><td>str</td><td>str</td><td>str</td><td>int32</td><td>str</td><td>str</td><td>str</td><td>str</td><td>str</td><td>str</td><td>str</td><td>str</td><td>str</td><td>int32</td><td>int32</td><td>str</td><td>str</td><td>str</td><td>str</td><td>str</td><td>str</td><td>str</td><td>str</td><td>str</td><td>str</td><td>str</td><td>int32</td><td>str</td><td>str</td><td>str</td><td>str</td><td>int32</td><td>str</td><td>float64</td><td>float64</td><td>int32</td><td>float64</td><td>float64</td><td>float64</td><td>int32</td><td>int32</td><td>int32</td><td>float64</td></tr>\n",
       "</thead><tbody><tr><td>201008</td><td>&quot;201008_S4&quot;</td><td>2</td><td>10</td><td>7</td><td>0</td><td>0</td><td>0</td><td>0</td><td>0</td><td>0</td><td>0</td><td>0</td><td>&quot;Negative&quot;</td><td>0</td><td>1</td><td>0</td><td>0</td><td>1</td><td>66</td><td>6.08e+01</td><td>2</td><td>0</td><td>1</td><td>0</td><td>0</td><td>1</td><td>28</td><td>0</td><td>8.30e-02</td><td>1.00e-01</td><td>6.67e-01</td><td>3.08e-01</td><td>2.00e-01</td><td>8.33e-01</td><td>2.86e-01</td><td>3.33e-01</td><td>3.00e-01</td><td>3.22e-01</td><td>20</td><td>1.45e+00</td><td>4.00e+00</td><td>1.20e+00</td><td>2.10e+00</td><td>3</td><td>1.92e+00</td><td>2.46e+00</td><td>1.77e+00</td><td>1.60e+00</td><td>2.22e+00</td><td>1.38e+00</td><td>1.89e+00</td><td>NA</td><td>1.50e+00</td><td>1.70e+00</td><td>40</td><td>15</td><td>6.00e+00</td><td>3.30e+00</td><td>33</td><td>15</td><td>7.00e+00</td><td>5.51e+01</td><td>5.72e+01</td><td>5.65e+01</td><td>5.72e+01</td><td>5.74e+01</td><td>5.12e+01</td><td>5.78e+01</td><td>5.61e+01</td><td>5.66e+01</td><td>5.84e+01</td><td>3</td><td>0</td><td>11</td><td>3</td><td>14</td><td>3</td><td>24</td><td>32</td><td>57</td><td>0</td><td>37</td><td>3</td><td>4.50e+00</td><td>19</td><td>NA</td><td>NA</td><td>NA</td><td>NA</td><td>NA</td><td>NA</td><td>NA</td><td>NA</td><td>NA</td><td>0</td><td>&quot;20-Apr-11&quot;</td><td>29</td><td>1</td><td>&quot;US ARMY&quot;</td><td>4</td><td>NA</td><td>0</td><td>NA</td><td>0</td><td>0</td><td>1</td><td>0</td><td>0</td><td>NA</td><td>0</td><td>0</td><td>1</td><td>0</td><td>0</td><td>0</td><td>0</td><td>NA</td><td>0</td><td>NA</td><td>1</td><td>0</td><td>0</td><td>0</td><td>0</td><td>0</td><td>2</td><td>1</td><td>&quot;11/24/2005&quot;</td><td>&quot;08/03/2009&quot;</td><td>&quot;70B&quot;</td><td>NA</td><td>NA</td><td>NA</td><td>NA</td><td>NA</td><td>NA</td><td>0</td><td>NA</td><td>NA</td><td>NA</td><td>NA</td><td>NA</td><td>NA</td><td>NA</td><td>NA</td><td>NA</td><td>0</td><td>NA</td><td>NA</td><td>NA</td><td>NA</td><td>NA</td><td>NA</td><td>NA</td><td>NA</td><td>NA</td><td>NA</td><td>NA</td><td>NA</td><td>NA</td><td>NA</td><td>NA</td><td>NA</td><td>&quot;White&quot;</td><td>0</td><td>&quot;2011-04-19&quot;</td><td>1.59e+02</td><td>2.61e+01</td><td>5</td><td>3.40e+01</td><td>3.55e+01</td><td>9.57e-01</td><td>120</td><td>74</td><td>62</td><td>1.66e+02</td></tr>\n",
       "<tr><td>201009</td><td>&quot;201009_S2&quot;</td><td>0</td><td>0</td><td>0</td><td>0</td><td>0</td><td>0</td><td>0</td><td>0</td><td>0</td><td>0</td><td>0</td><td>&quot;Negative&quot;</td><td>0</td><td>0</td><td>0</td><td>0</td><td>0</td><td>44</td><td>3.70e+01</td><td>0</td><td>0</td><td>0</td><td>0</td><td>0</td><td>0</td><td>17</td><td>0</td><td>0.00e+00</td><td>0.00e+00</td><td>0.00e+00</td><td>0.00e+00</td><td>0.00e+00</td><td>0.00e+00</td><td>0.00e+00</td><td>0.00e+00</td><td>0.00e+00</td><td>0.00e+00</td><td>0</td><td>NA</td><td>0.00e+00</td><td>1.00e+00</td><td>0.00e+00</td><td>0</td><td>8.00e-02</td><td>0.00e+00</td><td>1.06e+00</td><td>1.00e+00</td><td>1.00e+00</td><td>1.13e+00</td><td>1.11e+00</td><td>NA</td><td>1.00e+00</td><td>1.00e+00</td><td>41</td><td>10</td><td>0.00e+00</td><td>5.00e+00</td><td>50</td><td>15</td><td>0.00e+00</td><td>5.64e+01</td><td>6.00e+01</td><td>5.65e+01</td><td>5.72e+01</td><td>5.74e+01</td><td>6.20e+01</td><td>5.78e+01</td><td>5.61e+01</td><td>5.66e+01</td><td>6.45e+01</td><td>0</td><td>0</td><td>0</td><td>0</td><td>0</td><td>0</td><td>24</td><td>18</td><td>60</td><td>0</td><td>17</td><td>1</td><td>5.00e+00</td><td>0</td><td>NA</td><td>NA</td><td>NA</td><td>NA</td><td>NA</td><td>NA</td><td>NA</td><td>NA</td><td>NA</td><td>0</td><td>&quot;10-Jan-11&quot;</td><td>36</td><td>1</td><td>&quot;ACCOUNTANT&quot;</td><td>5</td><td>NA</td><td>0</td><td>NA</td><td>0</td><td>0</td><td>1</td><td>0</td><td>0</td><td>NA</td><td>0</td><td>0</td><td>0</td><td>0</td><td>0</td><td>1</td><td>0</td><td>NA</td><td>NA</td><td>NA</td><td>1</td><td>0</td><td>0</td><td>0</td><td>0</td><td>0</td><td>1</td><td>1</td><td>&quot;03/07/2005&quot;</td><td>&quot;01/17/2006&quot;</td><td>&quot;42A  92G&quot;</td><td>NA</td><td>NA</td><td>NA</td><td>NA</td><td>NA</td><td>NA</td><td>0</td><td>NA</td><td>NA</td><td>NA</td><td>NA</td><td>NA</td><td>NA</td><td>NA</td><td>NA</td><td>NA</td><td>0</td><td>NA</td><td>NA</td><td>NA</td><td>NA</td><td>NA</td><td>NA</td><td>NA</td><td>NA</td><td>NA</td><td>NA</td><td>NA</td><td>NA</td><td>NA</td><td>NA</td><td>NA</td><td>NA</td><td>&quot;White&quot;</td><td>0</td><td>&quot;2011-01-24&quot;</td><td>1.57e+02</td><td>2.28e+01</td><td>5</td><td>3.01e+01</td><td>3.85e+01</td><td>7.81e-01</td><td>124</td><td>88</td><td>74</td><td>1.77e+02</td></tr>\n",
       "<tr><td>201009</td><td>&quot;201009_S3&quot;</td><td>0</td><td>0</td><td>0</td><td>0</td><td>0</td><td>0</td><td>0</td><td>0</td><td>0</td><td>0</td><td>0</td><td>&quot;Negative&quot;</td><td>0</td><td>0</td><td>0</td><td>0</td><td>0</td><td>44</td><td>3.70e+01</td><td>0</td><td>0</td><td>0</td><td>0</td><td>0</td><td>0</td><td>17</td><td>0</td><td>0.00e+00</td><td>0.00e+00</td><td>0.00e+00</td><td>0.00e+00</td><td>0.00e+00</td><td>0.00e+00</td><td>0.00e+00</td><td>0.00e+00</td><td>0.00e+00</td><td>0.00e+00</td><td>0</td><td>NA</td><td>0.00e+00</td><td>1.00e+00</td><td>0.00e+00</td><td>0</td><td>8.00e-02</td><td>0.00e+00</td><td>1.06e+00</td><td>1.00e+00</td><td>1.00e+00</td><td>1.13e+00</td><td>1.11e+00</td><td>NA</td><td>1.00e+00</td><td>1.00e+00</td><td>41</td><td>10</td><td>0.00e+00</td><td>5.00e+00</td><td>50</td><td>15</td><td>0.00e+00</td><td>5.64e+01</td><td>6.00e+01</td><td>5.65e+01</td><td>5.72e+01</td><td>5.74e+01</td><td>6.20e+01</td><td>5.78e+01</td><td>5.61e+01</td><td>5.66e+01</td><td>6.45e+01</td><td>0</td><td>0</td><td>0</td><td>0</td><td>0</td><td>0</td><td>24</td><td>18</td><td>60</td><td>0</td><td>17</td><td>1</td><td>5.00e+00</td><td>0</td><td>NA</td><td>NA</td><td>NA</td><td>NA</td><td>NA</td><td>NA</td><td>NA</td><td>NA</td><td>NA</td><td>0</td><td>&quot;10-Jan-11&quot;</td><td>36</td><td>1</td><td>&quot;ACCOUNTANT&quot;</td><td>5</td><td>NA</td><td>0</td><td>NA</td><td>0</td><td>0</td><td>1</td><td>0</td><td>0</td><td>NA</td><td>0</td><td>0</td><td>0</td><td>0</td><td>0</td><td>1</td><td>0</td><td>NA</td><td>NA</td><td>NA</td><td>1</td><td>0</td><td>0</td><td>0</td><td>0</td><td>0</td><td>1</td><td>1</td><td>&quot;03/07/2005&quot;</td><td>&quot;01/17/2006&quot;</td><td>&quot;42A  92G&quot;</td><td>NA</td><td>NA</td><td>NA</td><td>NA</td><td>NA</td><td>NA</td><td>0</td><td>NA</td><td>NA</td><td>NA</td><td>NA</td><td>NA</td><td>NA</td><td>NA</td><td>NA</td><td>NA</td><td>0</td><td>NA</td><td>NA</td><td>NA</td><td>NA</td><td>NA</td><td>NA</td><td>NA</td><td>NA</td><td>NA</td><td>NA</td><td>NA</td><td>NA</td><td>NA</td><td>NA</td><td>NA</td><td>NA</td><td>&quot;White&quot;</td><td>0</td><td>&quot;2011-01-24&quot;</td><td>1.57e+02</td><td>2.28e+01</td><td>5</td><td>3.01e+01</td><td>3.85e+01</td><td>7.81e-01</td><td>124</td><td>88</td><td>74</td><td>1.77e+02</td></tr>\n",
       "<tr><td>201011</td><td>&quot;201011_S3&quot;</td><td>18</td><td>42</td><td>30</td><td>1</td><td>1</td><td>17</td><td>34</td><td>24</td><td>75</td><td>1</td><td>1</td><td>&quot;Positive&quot;</td><td>0</td><td>0</td><td>0</td><td>0</td><td>0</td><td>87</td><td>7.87e+01</td><td>17</td><td>0</td><td>1</td><td>1</td><td>1</td><td>3</td><td>49</td><td>2</td><td>5.00e-01</td><td>9.00e-01</td><td>6.67e-01</td><td>6.92e-01</td><td>8.00e-01</td><td>5.00e-01</td><td>8.57e-01</td><td>1.67e-01</td><td>2.00e-01</td><td>6.00e-01</td><td>54</td><td>1.00e+00</td><td>6.00e+01</td><td>1.80e+00</td><td>1.00e+00</td><td>0</td><td>2.62e+00</td><td>1.00e+00</td><td>2.50e+00</td><td>NA</td><td>2.89e+00</td><td>2.13e+00</td><td>NA</td><td>NA</td><td>2.00e+00</td><td>2.60e+00</td><td>20</td><td>16</td><td>1.40e+01</td><td>3.00e+00</td><td>30</td><td>15</td><td>1.00e+00</td><td>3.77e+01</td><td>3.67e+01</td><td>3.93e+01</td><td>3.87e+01</td><td>3.71e+01</td><td>2.96e+01</td><td>4.78e+01</td><td>3.37e+01</td><td>2.63e+01</td><td>4.02e+01</td><td>0</td><td>1</td><td>0</td><td>4</td><td>4</td><td>1</td><td>NA</td><td>NA</td><td>NA</td><td>NA</td><td>NA</td><td>NA</td><td>3.20e+00</td><td>90</td><td>NA</td><td>NA</td><td>NA</td><td>NA</td><td>NA</td><td>NA</td><td>NA</td><td>NA</td><td>NA</td><td>0</td><td>&quot;08-Feb-11&quot;</td><td>32</td><td>1</td><td>&quot;STUDENT&quot;</td><td>3</td><td>NA</td><td>1</td><td>NA</td><td>0</td><td>0</td><td>0</td><td>0</td><td>0</td><td>NA</td><td>0</td><td>0</td><td>0</td><td>1</td><td>0</td><td>0</td><td>0</td><td>NA</td><td>NA</td><td>NA</td><td>1</td><td>0</td><td>0</td><td>0</td><td>0</td><td>0</td><td>2</td><td>1</td><td>&quot;06/30/2000&quot;</td><td>&quot;05/31/2007&quot;</td><td>&quot;92Y&quot;</td><td>NA</td><td>NA</td><td>NA</td><td>NA</td><td>NA</td><td>NA</td><td>0</td><td>NA</td><td>NA</td><td>NA</td><td>NA</td><td>NA</td><td>NA</td><td>NA</td><td>NA</td><td>NA</td><td>0</td><td>NA</td><td>NA</td><td>NA</td><td>NA</td><td>NA</td><td>NA</td><td>NA</td><td>NA</td><td>NA</td><td>NA</td><td>NA</td><td>NA</td><td>NA</td><td>NA</td><td>NA</td><td>NA</td><td>&quot;Hispanic&quot;</td><td>0</td><td>&quot;2011-02-07&quot;</td><td>1.66e+02</td><td>2.34e+01</td><td>5</td><td>3.25e+01</td><td>3.65e+01</td><td>8.90e-01</td><td>110</td><td>73</td><td>61</td><td>1.79e+02</td></tr>\n",
       "<tr><td>201011</td><td>&quot;201011_S9&quot;</td><td>18</td><td>42</td><td>30</td><td>1</td><td>1</td><td>17</td><td>34</td><td>24</td><td>75</td><td>1</td><td>1</td><td>&quot;Positive&quot;</td><td>0</td><td>0</td><td>0</td><td>0</td><td>0</td><td>87</td><td>7.87e+01</td><td>17</td><td>0</td><td>1</td><td>1</td><td>1</td><td>3</td><td>49</td><td>2</td><td>5.00e-01</td><td>9.00e-01</td><td>6.67e-01</td><td>6.92e-01</td><td>8.00e-01</td><td>5.00e-01</td><td>8.57e-01</td><td>1.67e-01</td><td>2.00e-01</td><td>6.00e-01</td><td>54</td><td>1.00e+00</td><td>6.00e+01</td><td>1.80e+00</td><td>1.00e+00</td><td>0</td><td>2.62e+00</td><td>1.00e+00</td><td>2.50e+00</td><td>NA</td><td>2.89e+00</td><td>2.13e+00</td><td>NA</td><td>NA</td><td>2.00e+00</td><td>2.60e+00</td><td>20</td><td>16</td><td>1.40e+01</td><td>3.00e+00</td><td>30</td><td>15</td><td>1.00e+00</td><td>3.77e+01</td><td>3.67e+01</td><td>3.93e+01</td><td>3.87e+01</td><td>3.71e+01</td><td>2.96e+01</td><td>4.78e+01</td><td>3.37e+01</td><td>2.63e+01</td><td>4.02e+01</td><td>0</td><td>1</td><td>0</td><td>4</td><td>4</td><td>1</td><td>NA</td><td>NA</td><td>NA</td><td>NA</td><td>NA</td><td>NA</td><td>3.20e+00</td><td>90</td><td>NA</td><td>NA</td><td>NA</td><td>NA</td><td>NA</td><td>NA</td><td>NA</td><td>NA</td><td>NA</td><td>0</td><td>&quot;08-Feb-11&quot;</td><td>32</td><td>1</td><td>&quot;STUDENT&quot;</td><td>3</td><td>NA</td><td>1</td><td>NA</td><td>0</td><td>0</td><td>0</td><td>0</td><td>0</td><td>NA</td><td>0</td><td>0</td><td>0</td><td>1</td><td>0</td><td>0</td><td>0</td><td>NA</td><td>NA</td><td>NA</td><td>1</td><td>0</td><td>0</td><td>0</td><td>0</td><td>0</td><td>2</td><td>1</td><td>&quot;06/30/2000&quot;</td><td>&quot;05/31/2007&quot;</td><td>&quot;92Y&quot;</td><td>NA</td><td>NA</td><td>NA</td><td>NA</td><td>NA</td><td>NA</td><td>0</td><td>NA</td><td>NA</td><td>NA</td><td>NA</td><td>NA</td><td>NA</td><td>NA</td><td>NA</td><td>NA</td><td>0</td><td>NA</td><td>NA</td><td>NA</td><td>NA</td><td>NA</td><td>NA</td><td>NA</td><td>NA</td><td>NA</td><td>NA</td><td>NA</td><td>NA</td><td>NA</td><td>NA</td><td>NA</td><td>NA</td><td>&quot;Hispanic&quot;</td><td>0</td><td>&quot;2011-02-07&quot;</td><td>1.66e+02</td><td>2.34e+01</td><td>5</td><td>3.25e+01</td><td>3.65e+01</td><td>8.90e-01</td><td>110</td><td>73</td><td>61</td><td>1.79e+02</td></tr>\n",
       "<tr><td>201012</td><td>&quot;201012_S1&quot;</td><td>26</td><td>33</td><td>25</td><td>1</td><td>1</td><td>12</td><td>23</td><td>22</td><td>57</td><td>1</td><td>1</td><td>&quot;Positive&quot;</td><td>2</td><td>1</td><td>0</td><td>0</td><td>3</td><td>102</td><td>9.42e+01</td><td>20</td><td>1</td><td>1</td><td>1</td><td>1</td><td>3</td><td>47</td><td>2</td><td>9.17e-01</td><td>1.50e+00</td><td>1.78e+00</td><td>1.46e+00</td><td>1.10e+00</td><td>1.33e+00</td><td>1.43e-01</td><td>2.00e+00</td><td>8.00e-01</td><td>1.26e+00</td><td>65</td><td>1.74e+00</td><td>9.30e+01</td><td>1.80e+00</td><td>1.70e+00</td><td>1</td><td>5.40e-01</td><td>1.08e+00</td><td>2.08e+00</td><td>2.00e+00</td><td>2.89e+00</td><td>1.50e+00</td><td>NA</td><td>NA</td><td>1.50e+00</td><td>2.70e+00</td><td>21</td><td>19</td><td>8.00e+00</td><td>2.80e+00</td><td>28</td><td>16</td><td>7.00e+00</td><td>5.68e+01</td><td>2.47e+01</td><td>5.65e+01</td><td>4.80e+01</td><td>5.74e+01</td><td>4.04e+01</td><td>2.76e+01</td><td>3.37e+01</td><td>2.63e+01</td><td>4.02e+01</td><td>1</td><td>0</td><td>2</td><td>1</td><td>3</td><td>1</td><td>35</td><td>62</td><td>60</td><td>1</td><td>24</td><td>6</td><td>2.40e+00</td><td>84</td><td>NA</td><td>NA</td><td>NA</td><td>NA</td><td>NA</td><td>NA</td><td>NA</td><td>NA</td><td>NA</td><td>0</td><td>&quot;26-Jan-11&quot;</td><td>29</td><td>1</td><td>&quot;BOXING INSTRUCTOR AND EMT&quot;</td><td>4</td><td>NA</td><td>0</td><td>NA</td><td>0</td><td>0</td><td>1</td><td>0</td><td>0</td><td>NA</td><td>0</td><td>0</td><td>0</td><td>1</td><td>0</td><td>0</td><td>0</td><td>NA</td><td>NA</td><td>NA</td><td>0</td><td>0</td><td>0</td><td>1</td><td>0</td><td>0</td><td>1</td><td>1</td><td>&quot;01/01/2003&quot;</td><td>&quot;06/01/2003&quot;</td><td>&quot;3521&quot;</td><td>NA</td><td>NA</td><td>NA</td><td>NA</td><td>NA</td><td>NA</td><td>0</td><td>NA</td><td>NA</td><td>NA</td><td>NA</td><td>NA</td><td>NA</td><td>NA</td><td>NA</td><td>NA</td><td>0</td><td>NA</td><td>NA</td><td>NA</td><td>NA</td><td>NA</td><td>NA</td><td>NA</td><td>NA</td><td>NA</td><td>NA</td><td>NA</td><td>NA</td><td>NA</td><td>NA</td><td>NA</td><td>NA</td><td>&quot;White&quot;</td><td>0</td><td>&quot;2011-01-25&quot;</td><td>1.79e+02</td><td>2.43e+01</td><td>6</td><td>3.24e+01</td><td>3.83e+01</td><td>8.45e-01</td><td>124</td><td>69</td><td>51</td><td>1.83e+02</td></tr>\n",
       "<tr><td>201012</td><td>&quot;201012_S6&quot;</td><td>26</td><td>33</td><td>25</td><td>1</td><td>1</td><td>12</td><td>23</td><td>22</td><td>57</td><td>1</td><td>1</td><td>&quot;Positive&quot;</td><td>2</td><td>1</td><td>0</td><td>0</td><td>3</td><td>102</td><td>9.42e+01</td><td>20</td><td>1</td><td>1</td><td>1</td><td>1</td><td>3</td><td>47</td><td>2</td><td>9.17e-01</td><td>1.50e+00</td><td>1.78e+00</td><td>1.46e+00</td><td>1.10e+00</td><td>1.33e+00</td><td>1.43e-01</td><td>2.00e+00</td><td>8.00e-01</td><td>1.26e+00</td><td>65</td><td>1.74e+00</td><td>9.30e+01</td><td>1.80e+00</td><td>1.70e+00</td><td>1</td><td>5.40e-01</td><td>1.08e+00</td><td>2.08e+00</td><td>2.00e+00</td><td>2.89e+00</td><td>1.50e+00</td><td>NA</td><td>NA</td><td>1.50e+00</td><td>2.70e+00</td><td>21</td><td>19</td><td>8.00e+00</td><td>2.80e+00</td><td>28</td><td>16</td><td>7.00e+00</td><td>5.68e+01</td><td>2.47e+01</td><td>5.65e+01</td><td>4.80e+01</td><td>5.74e+01</td><td>4.04e+01</td><td>2.76e+01</td><td>3.37e+01</td><td>2.63e+01</td><td>4.02e+01</td><td>1</td><td>0</td><td>2</td><td>1</td><td>3</td><td>1</td><td>35</td><td>62</td><td>60</td><td>1</td><td>24</td><td>6</td><td>2.40e+00</td><td>84</td><td>NA</td><td>NA</td><td>NA</td><td>NA</td><td>NA</td><td>NA</td><td>NA</td><td>NA</td><td>NA</td><td>0</td><td>&quot;26-Jan-11&quot;</td><td>29</td><td>1</td><td>&quot;BOXING INSTRUCTOR AND EMT&quot;</td><td>4</td><td>NA</td><td>0</td><td>NA</td><td>0</td><td>0</td><td>1</td><td>0</td><td>0</td><td>NA</td><td>0</td><td>0</td><td>0</td><td>1</td><td>0</td><td>0</td><td>0</td><td>NA</td><td>NA</td><td>NA</td><td>0</td><td>0</td><td>0</td><td>1</td><td>0</td><td>0</td><td>1</td><td>1</td><td>&quot;01/01/2003&quot;</td><td>&quot;06/01/2003&quot;</td><td>&quot;3521&quot;</td><td>NA</td><td>NA</td><td>NA</td><td>NA</td><td>NA</td><td>NA</td><td>0</td><td>NA</td><td>NA</td><td>NA</td><td>NA</td><td>NA</td><td>NA</td><td>NA</td><td>NA</td><td>NA</td><td>0</td><td>NA</td><td>NA</td><td>NA</td><td>NA</td><td>NA</td><td>NA</td><td>NA</td><td>NA</td><td>NA</td><td>NA</td><td>NA</td><td>NA</td><td>NA</td><td>NA</td><td>NA</td><td>NA</td><td>&quot;White&quot;</td><td>0</td><td>&quot;2011-01-25&quot;</td><td>1.79e+02</td><td>2.43e+01</td><td>6</td><td>3.24e+01</td><td>3.83e+01</td><td>8.45e-01</td><td>124</td><td>69</td><td>51</td><td>1.83e+02</td></tr>\n",
       "<tr><td>201017</td><td>&quot;201017_S3&quot;</td><td>34</td><td>42</td><td>26</td><td>1</td><td>1</td><td>12</td><td>18</td><td>14</td><td>44</td><td>1</td><td>1</td><td>&quot;Positive&quot;</td><td>3</td><td>4</td><td>2</td><td>1</td><td>10</td><td>88</td><td>8.47e+01</td><td>13</td><td>0</td><td>1</td><td>1</td><td>1</td><td>3</td><td>50</td><td>2</td><td>7.50e-01</td><td>1.30e+00</td><td>1.11e+00</td><td>7.69e-01</td><td>7.00e-01</td><td>5.00e-01</td><td>1.14e+00</td><td>2.17e+00</td><td>8.00e-01</td><td>1.01e+00</td><td>63</td><td>1.44e+00</td><td>7.90e+01</td><td>1.40e+00</td><td>6.00e-01</td><td>2</td><td>2.54e+00</td><td>2.23e+00</td><td>2.29e+00</td><td>2.00e+00</td><td>2.89e+00</td><td>2.25e+00</td><td>2.00e+00</td><td>NA</td><td>2.00e+00</td><td>2.30e+00</td><td>35</td><td>22</td><td>1.20e+01</td><td>3.30e+00</td><td>33</td><td>16</td><td>2.90e+01</td><td>4.08e+01</td><td>4.73e+01</td><td>3.93e+01</td><td>5.26e+01</td><td>4.73e+01</td><td>2.96e+01</td><td>3.77e+01</td><td>5.05e+01</td><td>4.65e+01</td><td>4.63e+01</td><td>6</td><td>6</td><td>15</td><td>13</td><td>28</td><td>12</td><td>50</td><td>52</td><td>13</td><td>1</td><td>21</td><td>2</td><td>4.10e+00</td><td>102</td><td>NA</td><td>NA</td><td>NA</td><td>NA</td><td>NA</td><td>NA</td><td>NA</td><td>NA</td><td>NA</td><td>0</td><td>&quot;26-Feb-11&quot;</td><td>29</td><td>1</td><td>&quot;DIRECTOR OF VETERAN SERVICES&quot;</td><td>4</td><td>NA</td><td>1</td><td>NA</td><td>0</td><td>0</td><td>0</td><td>0</td><td>0</td><td>NA</td><td>0</td><td>0</td><td>1</td><td>0</td><td>0</td><td>0</td><td>0</td><td>NA</td><td>NA</td><td>NA</td><td>1</td><td>0</td><td>0</td><td>0</td><td>0</td><td>0</td><td>1</td><td>1</td><td>&quot;01/20/2004&quot;</td><td>&quot;04/15/2005&quot;</td><td>NA</td><td>NA</td><td>NA</td><td>NA</td><td>NA</td><td>NA</td><td>NA</td><td>0</td><td>NA</td><td>NA</td><td>NA</td><td>NA</td><td>NA</td><td>NA</td><td>NA</td><td>NA</td><td>NA</td><td>1</td><td>NA</td><td>NA</td><td>&quot;05/12/2000&quot;</td><td>&quot;05/11/2002&quot;</td><td>&quot;25L&quot;</td><td>NA</td><td>NA</td><td>NA</td><td>NA</td><td>NA</td><td>NA</td><td>NA</td><td>NA</td><td>NA</td><td>NA</td><td>NA</td><td>&quot;Hispanic&quot;</td><td>0</td><td>&quot;2011-02-07&quot;</td><td>2.50e+02</td><td>3.46e+01</td><td>5</td><td>4.68e+01</td><td>4.35e+01</td><td>1.08e+00</td><td>104</td><td>65</td><td>74</td><td>1.81e+02</td></tr>\n",
       "<tr><td>201017</td><td>&quot;201017_S6&quot;</td><td>34</td><td>42</td><td>26</td><td>1</td><td>1</td><td>12</td><td>18</td><td>14</td><td>44</td><td>1</td><td>1</td><td>&quot;Positive&quot;</td><td>3</td><td>4</td><td>2</td><td>1</td><td>10</td><td>88</td><td>8.47e+01</td><td>13</td><td>0</td><td>1</td><td>1</td><td>1</td><td>3</td><td>50</td><td>2</td><td>7.50e-01</td><td>1.30e+00</td><td>1.11e+00</td><td>7.69e-01</td><td>7.00e-01</td><td>5.00e-01</td><td>1.14e+00</td><td>2.17e+00</td><td>8.00e-01</td><td>1.01e+00</td><td>63</td><td>1.44e+00</td><td>7.90e+01</td><td>1.40e+00</td><td>6.00e-01</td><td>2</td><td>2.54e+00</td><td>2.23e+00</td><td>2.29e+00</td><td>2.00e+00</td><td>2.89e+00</td><td>2.25e+00</td><td>2.00e+00</td><td>NA</td><td>2.00e+00</td><td>2.30e+00</td><td>35</td><td>22</td><td>1.20e+01</td><td>3.30e+00</td><td>33</td><td>16</td><td>2.90e+01</td><td>4.08e+01</td><td>4.73e+01</td><td>3.93e+01</td><td>5.26e+01</td><td>4.73e+01</td><td>2.96e+01</td><td>3.77e+01</td><td>5.05e+01</td><td>4.65e+01</td><td>4.63e+01</td><td>6</td><td>6</td><td>15</td><td>13</td><td>28</td><td>12</td><td>50</td><td>52</td><td>13</td><td>1</td><td>21</td><td>2</td><td>4.10e+00</td><td>102</td><td>NA</td><td>NA</td><td>NA</td><td>NA</td><td>NA</td><td>NA</td><td>NA</td><td>NA</td><td>NA</td><td>0</td><td>&quot;26-Feb-11&quot;</td><td>29</td><td>1</td><td>&quot;DIRECTOR OF VETERAN SERVICES&quot;</td><td>4</td><td>NA</td><td>1</td><td>NA</td><td>0</td><td>0</td><td>0</td><td>0</td><td>0</td><td>NA</td><td>0</td><td>0</td><td>1</td><td>0</td><td>0</td><td>0</td><td>0</td><td>NA</td><td>NA</td><td>NA</td><td>1</td><td>0</td><td>0</td><td>0</td><td>0</td><td>0</td><td>1</td><td>1</td><td>&quot;01/20/2004&quot;</td><td>&quot;04/15/2005&quot;</td><td>NA</td><td>NA</td><td>NA</td><td>NA</td><td>NA</td><td>NA</td><td>NA</td><td>0</td><td>NA</td><td>NA</td><td>NA</td><td>NA</td><td>NA</td><td>NA</td><td>NA</td><td>NA</td><td>NA</td><td>1</td><td>NA</td><td>NA</td><td>&quot;05/12/2000&quot;</td><td>&quot;05/11/2002&quot;</td><td>&quot;25L&quot;</td><td>NA</td><td>NA</td><td>NA</td><td>NA</td><td>NA</td><td>NA</td><td>NA</td><td>NA</td><td>NA</td><td>NA</td><td>NA</td><td>&quot;Hispanic&quot;</td><td>0</td><td>&quot;2011-02-07&quot;</td><td>2.50e+02</td><td>3.46e+01</td><td>5</td><td>4.68e+01</td><td>4.35e+01</td><td>1.08e+00</td><td>104</td><td>65</td><td>74</td><td>1.81e+02</td></tr>\n",
       "<tr><td>201018</td><td>&quot;201018_S1&quot;</td><td>16</td><td>0</td><td>4</td><td>0</td><td>0</td><td>0</td><td>0</td><td>5</td><td>5</td><td>0</td><td>0</td><td>&quot;Negative&quot;</td><td>1</td><td>4</td><td>0</td><td>1</td><td>6</td><td>86</td><td>8.11e+01</td><td>11</td><td>0</td><td>1</td><td>0</td><td>1</td><td>2</td><td>37</td><td>1</td><td>8.30e-02</td><td>1.40e+00</td><td>7.78e-01</td><td>5.38e-01</td><td>4.00e-01</td><td>5.00e-01</td><td>0.00e+00</td><td>8.33e-01</td><td>3.00e-01</td><td>5.00e-01</td><td>35</td><td>1.29e+00</td><td>6.00e+01</td><td>1.60e+00</td><td>1.60e+00</td><td>3</td><td>1.15e+00</td><td>1.92e+00</td><td>1.91e+00</td><td>2.00e+00</td><td>1.89e+00</td><td>1.67e+00</td><td>1.00e+00</td><td>NA</td><td>2.33e+00</td><td>2.70e+00</td><td>36</td><td>20</td><td>3.00e+00</td><td>2.70e+00</td><td>27</td><td>17</td><td>2.40e+01</td><td>5.83e+01</td><td>4.70e+01</td><td>5.65e+01</td><td>5.72e+01</td><td>5.74e+01</td><td>5.12e+01</td><td>4.78e+01</td><td>4.49e+01</td><td>5.66e+01</td><td>5.23e+01</td><td>7</td><td>5</td><td>10</td><td>8</td><td>18</td><td>12</td><td>27</td><td>25</td><td>50</td><td>2</td><td>20</td><td>2</td><td>5.00e+00</td><td>20</td><td>NA</td><td>NA</td><td>NA</td><td>NA</td><td>NA</td><td>NA</td><td>NA</td><td>NA</td><td>NA</td><td>0</td><td>&quot;02-Mar-11&quot;</td><td>29</td><td>1</td><td>&quot;PAINTER&quot;</td><td>4</td><td>NA</td><td>1</td><td>NA</td><td>0</td><td>0</td><td>0</td><td>0</td><td>0</td><td>NA</td><td>0</td><td>0</td><td>0</td><td>0</td><td>0</td><td>1</td><td>0</td><td>NA</td><td>0</td><td>NA</td><td>0</td><td>0</td><td>0</td><td>0</td><td>0</td><td>1</td><td>1</td><td>1</td><td>&quot;05/01/2002&quot;</td><td>&quot;04/01/2003&quot;</td><td>&quot;57 E&quot;</td><td>NA</td><td>NA</td><td>NA</td><td>NA</td><td>NA</td><td>NA</td><td>0</td><td>NA</td><td>NA</td><td>NA</td><td>NA</td><td>NA</td><td>NA</td><td>NA</td><td>NA</td><td>NA</td><td>0</td><td>NA</td><td>NA</td><td>NA</td><td>NA</td><td>NA</td><td>NA</td><td>NA</td><td>NA</td><td>NA</td><td>NA</td><td>NA</td><td>NA</td><td>NA</td><td>NA</td><td>NA</td><td>NA</td><td>&quot;Hispanic&quot;</td><td>0</td><td>&quot;2011-03-01&quot;</td><td>1.71e+02</td><td>2.68e+01</td><td>5</td><td>4.25e+01</td><td>3.43e+01</td><td>1.24e+00</td><td>125</td><td>69</td><td>58</td><td>1.70e+02</td></tr>\n",
       "</tbody></table><p style=\"background: #fdd; padding: 0.4em;\">showing top 10 rows</p>\n"
      ],
      "text/plain": [
       "+--------+-------------+----------+----------+----------+-------------------+-------------------+-----------+-----------+-----------+-------------+--------------------+\n",
       "|     ID | sid         | CAPSB_LT | CAPSC_LT | CAPSD_LT | CAPS_2clusters_LT | CAPS_3clusters_LT | CAPSB_cur | CAPSC_cur | CAPSD_cur | CAPSTOT_cur | CAPS_2clusters_cur |\n",
       "+--------+-------------+----------+----------+----------+-------------------+-------------------+-----------+-----------+-----------+-------------+--------------------+\n",
       "|  int32 | str         |    int32 |    int32 |    int32 |             int32 |             int32 |     int32 |     int32 |     int32 |       int32 |              int32 |\n",
       "+--------+-------------+----------+----------+----------+-------------------+-------------------+-----------+-----------+-----------+-------------+--------------------+\n",
       "| 201008 | \"201008_S4\" |        2 |       10 |        7 |                 0 |                 0 |         0 |         0 |         0 |           0 |                  0 |\n",
       "| 201009 | \"201009_S2\" |        0 |        0 |        0 |                 0 |                 0 |         0 |         0 |         0 |           0 |                  0 |\n",
       "| 201009 | \"201009_S3\" |        0 |        0 |        0 |                 0 |                 0 |         0 |         0 |         0 |           0 |                  0 |\n",
       "| 201011 | \"201011_S3\" |       18 |       42 |       30 |                 1 |                 1 |        17 |        34 |        24 |          75 |                  1 |\n",
       "| 201011 | \"201011_S9\" |       18 |       42 |       30 |                 1 |                 1 |        17 |        34 |        24 |          75 |                  1 |\n",
       "| 201012 | \"201012_S1\" |       26 |       33 |       25 |                 1 |                 1 |        12 |        23 |        22 |          57 |                  1 |\n",
       "| 201012 | \"201012_S6\" |       26 |       33 |       25 |                 1 |                 1 |        12 |        23 |        22 |          57 |                  1 |\n",
       "| 201017 | \"201017_S3\" |       34 |       42 |       26 |                 1 |                 1 |        12 |        18 |        14 |          44 |                  1 |\n",
       "| 201017 | \"201017_S6\" |       34 |       42 |       26 |                 1 |                 1 |        12 |        18 |        14 |          44 |                  1 |\n",
       "| 201018 | \"201018_S1\" |       16 |        0 |        4 |                 0 |                 0 |         0 |         0 |         5 |           5 |                  0 |\n",
       "+--------+-------------+----------+----------+----------+-------------------+-------------------+-----------+-----------+-----------+-------------+--------------------+\n",
       "\n",
       "+--------------------+-------------+-------------------+------------------+------------------+------------------+-------------+-------+----------+-----------+-----------+-------+\n",
       "| CAPS_3clusters_cur | PTSD_status | sumETI_Gen_Trauma | sumETI_Phy_Abuse | sumETI_Emo_abuse | sumETI_Sex_Abuse | ETISR_Total |   MCS |  mcslite | BDI_total | BDI_cut18 |  PCLB |\n",
       "+--------------------+-------------+-------------------+------------------+------------------+------------------+-------------+-------+----------+-----------+-----------+-------+\n",
       "|              int32 | str         |             int32 |            int32 |            int32 |            int32 |       int32 | int32 |  float64 |     int32 |     int32 | int32 |\n",
       "+--------------------+-------------+-------------------+------------------+------------------+------------------+-------------+-------+----------+-----------+-----------+-------+\n",
       "|                  0 | \"Negative\"  |                 0 |                1 |                0 |                0 |           1 |    66 | 6.08e+01 |         2 |         0 |     1 |\n",
       "|                  0 | \"Negative\"  |                 0 |                0 |                0 |                0 |           0 |    44 | 3.70e+01 |         0 |         0 |     0 |\n",
       "|                  0 | \"Negative\"  |                 0 |                0 |                0 |                0 |           0 |    44 | 3.70e+01 |         0 |         0 |     0 |\n",
       "|                  1 | \"Positive\"  |                 0 |                0 |                0 |                0 |           0 |    87 | 7.87e+01 |        17 |         0 |     1 |\n",
       "|                  1 | \"Positive\"  |                 0 |                0 |                0 |                0 |           0 |    87 | 7.87e+01 |        17 |         0 |     1 |\n",
       "|                  1 | \"Positive\"  |                 2 |                1 |                0 |                0 |           3 |   102 | 9.42e+01 |        20 |         1 |     1 |\n",
       "|                  1 | \"Positive\"  |                 2 |                1 |                0 |                0 |           3 |   102 | 9.42e+01 |        20 |         1 |     1 |\n",
       "|                  1 | \"Positive\"  |                 3 |                4 |                2 |                1 |          10 |    88 | 8.47e+01 |        13 |         0 |     1 |\n",
       "|                  1 | \"Positive\"  |                 3 |                4 |                2 |                1 |          10 |    88 | 8.47e+01 |        13 |         0 |     1 |\n",
       "|                  0 | \"Negative\"  |                 1 |                4 |                0 |                1 |           6 |    86 | 8.11e+01 |        11 |         0 |     1 |\n",
       "+--------------------+-------------+-------------------+------------------+------------------+------------------+-------------+-------+----------+-----------+-----------+-------+\n",
       "\n",
       "+-------+-------+----------+----------+---------+----------+----------+----------+----------+----------+----------+----------+----------+----------+----------+--------+----------+\n",
       "|  PCLC |  PCLD | PCLCLUST | PCLSCORE | PCLDIAG |   sclsom |    SCLOC |   SCLINT |   SCLDEP |   SCLANX |   SCLHOS |  SCLPHOB |   SCLPAR |   SCLPSY |   SCLGSI | SCLPST |  SCLPSDI |\n",
       "+-------+-------+----------+----------+---------+----------+----------+----------+----------+----------+----------+----------+----------+----------+----------+--------+----------+\n",
       "| int32 | int32 |    int32 |    int32 |   int32 |  float64 |  float64 |  float64 |  float64 |  float64 |  float64 |  float64 |  float64 |  float64 |  float64 |  int32 |  float64 |\n",
       "+-------+-------+----------+----------+---------+----------+----------+----------+----------+----------+----------+----------+----------+----------+----------+--------+----------+\n",
       "|     0 |     0 |        1 |       28 |       0 | 8.30e-02 | 1.00e-01 | 6.67e-01 | 3.08e-01 | 2.00e-01 | 8.33e-01 | 2.86e-01 | 3.33e-01 | 3.00e-01 | 3.22e-01 |     20 | 1.45e+00 |\n",
       "|     0 |     0 |        0 |       17 |       0 | 0.00e+00 | 0.00e+00 | 0.00e+00 | 0.00e+00 | 0.00e+00 | 0.00e+00 | 0.00e+00 | 0.00e+00 | 0.00e+00 | 0.00e+00 |      0 |       NA |\n",
       "|     0 |     0 |        0 |       17 |       0 | 0.00e+00 | 0.00e+00 | 0.00e+00 | 0.00e+00 | 0.00e+00 | 0.00e+00 | 0.00e+00 | 0.00e+00 | 0.00e+00 | 0.00e+00 |      0 |       NA |\n",
       "|     1 |     1 |        3 |       49 |       2 | 5.00e-01 | 9.00e-01 | 6.67e-01 | 6.92e-01 | 8.00e-01 | 5.00e-01 | 8.57e-01 | 1.67e-01 | 2.00e-01 | 6.00e-01 |     54 | 1.00e+00 |\n",
       "|     1 |     1 |        3 |       49 |       2 | 5.00e-01 | 9.00e-01 | 6.67e-01 | 6.92e-01 | 8.00e-01 | 5.00e-01 | 8.57e-01 | 1.67e-01 | 2.00e-01 | 6.00e-01 |     54 | 1.00e+00 |\n",
       "|     1 |     1 |        3 |       47 |       2 | 9.17e-01 | 1.50e+00 | 1.78e+00 | 1.46e+00 | 1.10e+00 | 1.33e+00 | 1.43e-01 | 2.00e+00 | 8.00e-01 | 1.26e+00 |     65 | 1.74e+00 |\n",
       "|     1 |     1 |        3 |       47 |       2 | 9.17e-01 | 1.50e+00 | 1.78e+00 | 1.46e+00 | 1.10e+00 | 1.33e+00 | 1.43e-01 | 2.00e+00 | 8.00e-01 | 1.26e+00 |     65 | 1.74e+00 |\n",
       "|     1 |     1 |        3 |       50 |       2 | 7.50e-01 | 1.30e+00 | 1.11e+00 | 7.69e-01 | 7.00e-01 | 5.00e-01 | 1.14e+00 | 2.17e+00 | 8.00e-01 | 1.01e+00 |     63 | 1.44e+00 |\n",
       "|     1 |     1 |        3 |       50 |       2 | 7.50e-01 | 1.30e+00 | 1.11e+00 | 7.69e-01 | 7.00e-01 | 5.00e-01 | 1.14e+00 | 2.17e+00 | 8.00e-01 | 1.01e+00 |     63 | 1.44e+00 |\n",
       "|     0 |     1 |        2 |       37 |       1 | 8.30e-02 | 1.40e+00 | 7.78e-01 | 5.38e-01 | 4.00e-01 | 5.00e-01 | 0.00e+00 | 8.33e-01 | 3.00e-01 | 5.00e-01 |     35 | 1.29e+00 |\n",
       "+-------+-------+----------+----------+---------+----------+----------+----------+----------+----------+----------+----------+----------+----------+----------+--------+----------+\n",
       "\n",
       "+---------------+----------+----------+-------+----------+----------+----------+----------+----------+----------+----------+----------+----------+----------+----------+----------+\n",
       "| PTSD_duration |   PDEQRV |   PDEQEV | AUDIT |    pdirv |    pdiev |    SASSR | SASWKSCH | SASSOCLS | SASEXFAM |   SASMAR | SASPARNT | SASFAMUN |      PSS | PANAS_PA | PANAS_NA |\n",
       "+---------------+----------+----------+-------+----------+----------+----------+----------+----------+----------+----------+----------+----------+----------+----------+----------+\n",
       "|       float64 |  float64 |  float64 | int32 |  float64 |  float64 |  float64 |  float64 |  float64 |  float64 |  float64 |  float64 |  float64 |  float64 |    int32 |    int32 |\n",
       "+---------------+----------+----------+-------+----------+----------+----------+----------+----------+----------+----------+----------+----------+----------+----------+----------+\n",
       "|      4.00e+00 | 1.20e+00 | 2.10e+00 |     3 | 1.92e+00 | 2.46e+00 | 1.77e+00 | 1.60e+00 | 2.22e+00 | 1.38e+00 | 1.89e+00 |       NA | 1.50e+00 | 1.70e+00 |       40 |       15 |\n",
       "|      0.00e+00 | 1.00e+00 | 0.00e+00 |     0 | 8.00e-02 | 0.00e+00 | 1.06e+00 | 1.00e+00 | 1.00e+00 | 1.13e+00 | 1.11e+00 |       NA | 1.00e+00 | 1.00e+00 |       41 |       10 |\n",
       "|      0.00e+00 | 1.00e+00 | 0.00e+00 |     0 | 8.00e-02 | 0.00e+00 | 1.06e+00 | 1.00e+00 | 1.00e+00 | 1.13e+00 | 1.11e+00 |       NA | 1.00e+00 | 1.00e+00 |       41 |       10 |\n",
       "|      6.00e+01 | 1.80e+00 | 1.00e+00 |     0 | 2.62e+00 | 1.00e+00 | 2.50e+00 |       NA | 2.89e+00 | 2.13e+00 |       NA |       NA | 2.00e+00 | 2.60e+00 |       20 |       16 |\n",
       "|      6.00e+01 | 1.80e+00 | 1.00e+00 |     0 | 2.62e+00 | 1.00e+00 | 2.50e+00 |       NA | 2.89e+00 | 2.13e+00 |       NA |       NA | 2.00e+00 | 2.60e+00 |       20 |       16 |\n",
       "|      9.30e+01 | 1.80e+00 | 1.70e+00 |     1 | 5.40e-01 | 1.08e+00 | 2.08e+00 | 2.00e+00 | 2.89e+00 | 1.50e+00 |       NA |       NA | 1.50e+00 | 2.70e+00 |       21 |       19 |\n",
       "|      9.30e+01 | 1.80e+00 | 1.70e+00 |     1 | 5.40e-01 | 1.08e+00 | 2.08e+00 | 2.00e+00 | 2.89e+00 | 1.50e+00 |       NA |       NA | 1.50e+00 | 2.70e+00 |       21 |       19 |\n",
       "|      7.90e+01 | 1.40e+00 | 6.00e-01 |     2 | 2.54e+00 | 2.23e+00 | 2.29e+00 | 2.00e+00 | 2.89e+00 | 2.25e+00 | 2.00e+00 |       NA | 2.00e+00 | 2.30e+00 |       35 |       22 |\n",
       "|      7.90e+01 | 1.40e+00 | 6.00e-01 |     2 | 2.54e+00 | 2.23e+00 | 2.29e+00 | 2.00e+00 | 2.89e+00 | 2.25e+00 | 2.00e+00 |       NA | 2.00e+00 | 2.30e+00 |       35 |       22 |\n",
       "|      6.00e+01 | 1.60e+00 | 1.60e+00 |     3 | 1.15e+00 | 1.92e+00 | 1.91e+00 | 2.00e+00 | 1.89e+00 | 1.67e+00 | 1.00e+00 |       NA | 2.33e+00 | 2.70e+00 |       36 |       20 |\n",
       "+---------------+----------+----------+-------+----------+----------+----------+----------+----------+----------+----------+----------+----------+----------+----------+----------+\n",
       "\n",
       "+----------+----------+--------+--------+----------+----------+----------+----------+----------+----------+----------+----------+----------+----------+----------+---------+\n",
       "|     PSQI |  meanERS | sumERS | STAXI1 |      ASI | AGG_PHYS | AGG_MENT |     PF_T |     RP_T |     BP_T |     GH_T |     VT_T |     RE_T |     SF_T |     MH_T | LES6pos |\n",
       "+----------+----------+--------+--------+----------+----------+----------+----------+----------+----------+----------+----------+----------+----------+----------+---------+\n",
       "|  float64 |  float64 |  int32 |  int32 |  float64 |  float64 |  float64 |  float64 |  float64 |  float64 |  float64 |  float64 |  float64 |  float64 |  float64 |   int32 |\n",
       "+----------+----------+--------+--------+----------+----------+----------+----------+----------+----------+----------+----------+----------+----------+----------+---------+\n",
       "| 6.00e+00 | 3.30e+00 |     33 |     15 | 7.00e+00 | 5.51e+01 | 5.72e+01 | 5.65e+01 | 5.72e+01 | 5.74e+01 | 5.12e+01 | 5.78e+01 | 5.61e+01 | 5.66e+01 | 5.84e+01 |       3 |\n",
       "| 0.00e+00 | 5.00e+00 |     50 |     15 | 0.00e+00 | 5.64e+01 | 6.00e+01 | 5.65e+01 | 5.72e+01 | 5.74e+01 | 6.20e+01 | 5.78e+01 | 5.61e+01 | 5.66e+01 | 6.45e+01 |       0 |\n",
       "| 0.00e+00 | 5.00e+00 |     50 |     15 | 0.00e+00 | 5.64e+01 | 6.00e+01 | 5.65e+01 | 5.72e+01 | 5.74e+01 | 6.20e+01 | 5.78e+01 | 5.61e+01 | 5.66e+01 | 6.45e+01 |       0 |\n",
       "| 1.40e+01 | 3.00e+00 |     30 |     15 | 1.00e+00 | 3.77e+01 | 3.67e+01 | 3.93e+01 | 3.87e+01 | 3.71e+01 | 2.96e+01 | 4.78e+01 | 3.37e+01 | 2.63e+01 | 4.02e+01 |       0 |\n",
       "| 1.40e+01 | 3.00e+00 |     30 |     15 | 1.00e+00 | 3.77e+01 | 3.67e+01 | 3.93e+01 | 3.87e+01 | 3.71e+01 | 2.96e+01 | 4.78e+01 | 3.37e+01 | 2.63e+01 | 4.02e+01 |       0 |\n",
       "| 8.00e+00 | 2.80e+00 |     28 |     16 | 7.00e+00 | 5.68e+01 | 2.47e+01 | 5.65e+01 | 4.80e+01 | 5.74e+01 | 4.04e+01 | 2.76e+01 | 3.37e+01 | 2.63e+01 | 4.02e+01 |       1 |\n",
       "| 8.00e+00 | 2.80e+00 |     28 |     16 | 7.00e+00 | 5.68e+01 | 2.47e+01 | 5.65e+01 | 4.80e+01 | 5.74e+01 | 4.04e+01 | 2.76e+01 | 3.37e+01 | 2.63e+01 | 4.02e+01 |       1 |\n",
       "| 1.20e+01 | 3.30e+00 |     33 |     16 | 2.90e+01 | 4.08e+01 | 4.73e+01 | 3.93e+01 | 5.26e+01 | 4.73e+01 | 2.96e+01 | 3.77e+01 | 5.05e+01 | 4.65e+01 | 4.63e+01 |       6 |\n",
       "| 1.20e+01 | 3.30e+00 |     33 |     16 | 2.90e+01 | 4.08e+01 | 4.73e+01 | 3.93e+01 | 5.26e+01 | 4.73e+01 | 2.96e+01 | 3.77e+01 | 5.05e+01 | 4.65e+01 | 4.63e+01 |       6 |\n",
       "| 3.00e+00 | 2.70e+00 |     27 |     17 | 2.40e+01 | 5.83e+01 | 4.70e+01 | 5.65e+01 | 5.72e+01 | 5.74e+01 | 5.12e+01 | 4.78e+01 | 4.49e+01 | 5.66e+01 | 5.23e+01 |       7 |\n",
       "+----------+----------+--------+--------+----------+----------+----------+----------+----------+----------+----------+----------+----------+----------+----------+---------+\n",
       "\n",
       "+---------+----------+----------+----------+---------+--------------+--------------+--------------+---------------+--------------+--------------+----------+------------+--------+\n",
       "| LES6neg | LES12pos | LES12neg | LES12TOT | LES6TOT | DRRI_D_score | DRRI_E_score | DRRI_J_score | DRRI_K2_score | DRRI_L_score | DRRI_M_score |      sos | CAPSTOT_LT | STAXI2 |\n",
       "+---------+----------+----------+----------+---------+--------------+--------------+--------------+---------------+--------------+--------------+----------+------------+--------+\n",
       "|   int32 |    int32 |    int32 |    int32 |   int32 |        int32 |        int32 |        int32 |         int32 |        int32 |        int32 |  float64 |      int32 |  int32 |\n",
       "+---------+----------+----------+----------+---------+--------------+--------------+--------------+---------------+--------------+--------------+----------+------------+--------+\n",
       "|       0 |       11 |        3 |       14 |       3 |           24 |           32 |           57 |             0 |           37 |            3 | 4.50e+00 |         19 |     NA |\n",
       "|       0 |        0 |        0 |        0 |       0 |           24 |           18 |           60 |             0 |           17 |            1 | 5.00e+00 |          0 |     NA |\n",
       "|       0 |        0 |        0 |        0 |       0 |           24 |           18 |           60 |             0 |           17 |            1 | 5.00e+00 |          0 |     NA |\n",
       "|       1 |        0 |        4 |        4 |       1 |           NA |           NA |           NA |            NA |           NA |           NA | 3.20e+00 |         90 |     NA |\n",
       "|       1 |        0 |        4 |        4 |       1 |           NA |           NA |           NA |            NA |           NA |           NA | 3.20e+00 |         90 |     NA |\n",
       "|       0 |        2 |        1 |        3 |       1 |           35 |           62 |           60 |             1 |           24 |            6 | 2.40e+00 |         84 |     NA |\n",
       "|       0 |        2 |        1 |        3 |       1 |           35 |           62 |           60 |             1 |           24 |            6 | 2.40e+00 |         84 |     NA |\n",
       "|       6 |       15 |       13 |       28 |      12 |           50 |           52 |           13 |             1 |           21 |            2 | 4.10e+00 |        102 |     NA |\n",
       "|       6 |       15 |       13 |       28 |      12 |           50 |           52 |           13 |             1 |           21 |            2 | 4.10e+00 |        102 |     NA |\n",
       "|       5 |       10 |        8 |       18 |      12 |           27 |           25 |           50 |             2 |           20 |            2 | 5.00e+00 |         20 |     NA |\n",
       "+---------+----------+----------+----------+---------+--------------+--------------+--------------+---------------+--------------+--------------+----------+------------+--------+\n",
       "\n",
       "+-----------------------+----------------------+--------------------+--------------------------+------------------------+-----------+------------+------------+---------+\n",
       "| emotional_abuse_score | physical_abuse_score | sexual_abuse_score | emontional_neglect_score | physical_neglect_score | DES_score | HIT6_score | PTCI_score | TimeP.x |\n",
       "+-----------------------+----------------------+--------------------+--------------------------+------------------------+-----------+------------+------------+---------+\n",
       "|                 int32 |                int32 |              int32 |                    int32 |                  int32 |     int32 |      int32 |      int32 |   int32 |\n",
       "+-----------------------+----------------------+--------------------+--------------------------+------------------------+-----------+------------+------------+---------+\n",
       "|                    NA |                   NA |                 NA |                       NA |                     NA |        NA |         NA |         NA |       0 |\n",
       "|                    NA |                   NA |                 NA |                       NA |                     NA |        NA |         NA |         NA |       0 |\n",
       "|                    NA |                   NA |                 NA |                       NA |                     NA |        NA |         NA |         NA |       0 |\n",
       "|                    NA |                   NA |                 NA |                       NA |                     NA |        NA |         NA |         NA |       0 |\n",
       "|                    NA |                   NA |                 NA |                       NA |                     NA |        NA |         NA |         NA |       0 |\n",
       "|                    NA |                   NA |                 NA |                       NA |                     NA |        NA |         NA |         NA |       0 |\n",
       "|                    NA |                   NA |                 NA |                       NA |                     NA |        NA |         NA |         NA |       0 |\n",
       "|                    NA |                   NA |                 NA |                       NA |                     NA |        NA |         NA |         NA |       0 |\n",
       "|                    NA |                   NA |                 NA |                       NA |                     NA |        NA |         NA |         NA |       0 |\n",
       "|                    NA |                   NA |                 NA |                       NA |                     NA |        NA |         NA |         NA |       0 |\n",
       "+-----------------------+----------------------+--------------------+--------------------------+------------------------+-----------+------------+------------+---------+\n",
       "\n",
       "+-------------+---------+----------+--------------------------------+---------+---------+------------------+------------------+---------------+---------------+---------------+\n",
       "| Date.x      | DemoAge | DemoGend | DemoOccupation                 | DemoEdu | DemoEth | DemoEth_Hispanic | DemoEth_Not_Hisp | DemoEth_Asian | DemoEth_Black | DemoEth_White |\n",
       "+-------------+---------+----------+--------------------------------+---------+---------+------------------+------------------+---------------+---------------+---------------+\n",
       "| str         |   int32 |    int32 | str                            |   int32 | str     |            int32 |            int32 |         int32 |         int32 |         int32 |\n",
       "+-------------+---------+----------+--------------------------------+---------+---------+------------------+------------------+---------------+---------------+---------------+\n",
       "| \"20-Apr-11\" |      29 |        1 | \"US ARMY\"                      |       4 | NA      |                0 |               NA |             0 |             0 |             1 |\n",
       "| \"10-Jan-11\" |      36 |        1 | \"ACCOUNTANT\"                   |       5 | NA      |                0 |               NA |             0 |             0 |             1 |\n",
       "| \"10-Jan-11\" |      36 |        1 | \"ACCOUNTANT\"                   |       5 | NA      |                0 |               NA |             0 |             0 |             1 |\n",
       "| \"08-Feb-11\" |      32 |        1 | \"STUDENT\"                      |       3 | NA      |                1 |               NA |             0 |             0 |             0 |\n",
       "| \"08-Feb-11\" |      32 |        1 | \"STUDENT\"                      |       3 | NA      |                1 |               NA |             0 |             0 |             0 |\n",
       "| \"26-Jan-11\" |      29 |        1 | \"BOXING INSTRUCTOR AND EMT\"    |       4 | NA      |                0 |               NA |             0 |             0 |             1 |\n",
       "| \"26-Jan-11\" |      29 |        1 | \"BOXING INSTRUCTOR AND EMT\"    |       4 | NA      |                0 |               NA |             0 |             0 |             1 |\n",
       "| \"26-Feb-11\" |      29 |        1 | \"DIRECTOR OF VETERAN SERVICES\" |       4 | NA      |                1 |               NA |             0 |             0 |             0 |\n",
       "| \"26-Feb-11\" |      29 |        1 | \"DIRECTOR OF VETERAN SERVICES\" |       4 | NA      |                1 |               NA |             0 |             0 |             0 |\n",
       "| \"02-Mar-11\" |      29 |        1 | \"PAINTER\"                      |       4 | NA      |                1 |               NA |             0 |             0 |             0 |\n",
       "+-------------+---------+----------+--------------------------------+---------+---------+------------------+------------------+---------------+---------------+---------------+\n",
       "\n",
       "+------------------+---------------+---------+-----------------+----------------+-------------------+------------------+---------------+----------------+---------+----------+\n",
       "| DemoEth_NativeAm | DemoEth_Other | DemoRel | DemoRel_Married | DemoRel_Living | DemoRel_SteadyRel | DemoRel_Divorced | DemoRel_Widow | DemoRel_Single | DemoChi | DemoChi2 |\n",
       "+------------------+---------------+---------+-----------------+----------------+-------------------+------------------+---------------+----------------+---------+----------+\n",
       "|            int32 |         int32 |   int32 |           int32 |          int32 |             int32 |            int32 |         int32 |          int32 |   int32 |    int32 |\n",
       "+------------------+---------------+---------+-----------------+----------------+-------------------+------------------+---------------+----------------+---------+----------+\n",
       "|                0 |             0 |      NA |               0 |              0 |                 1 |                0 |             0 |              0 |       0 |       NA |\n",
       "|                0 |             0 |      NA |               0 |              0 |                 0 |                0 |             0 |              1 |       0 |       NA |\n",
       "|                0 |             0 |      NA |               0 |              0 |                 0 |                0 |             0 |              1 |       0 |       NA |\n",
       "|                0 |             0 |      NA |               0 |              0 |                 0 |                1 |             0 |              0 |       0 |       NA |\n",
       "|                0 |             0 |      NA |               0 |              0 |                 0 |                1 |             0 |              0 |       0 |       NA |\n",
       "|                0 |             0 |      NA |               0 |              0 |                 0 |                1 |             0 |              0 |       0 |       NA |\n",
       "|                0 |             0 |      NA |               0 |              0 |                 0 |                1 |             0 |              0 |       0 |       NA |\n",
       "|                0 |             0 |      NA |               0 |              0 |                 1 |                0 |             0 |              0 |       0 |       NA |\n",
       "|                0 |             0 |      NA |               0 |              0 |                 1 |                0 |             0 |              0 |       0 |       NA |\n",
       "|                0 |             0 |      NA |               0 |              0 |                 0 |                0 |             0 |              1 |       0 |       NA |\n",
       "+------------------+---------------+---------+-----------------+----------------+-------------------+------------------+---------------+----------------+---------+----------+\n",
       "\n",
       "+----------+---------------+-------+-------+----------+--------+----------+---------+---------------------+---------------------+--------------------------+------------------------+\n",
       "| DemoChi3 | DemoMilBranch |  Army |  Navy | AirForce | Marine | NatGuard | Reserve | DemoMilServiceTours | DemoMilService_Iraq | DemoMilServiceIraqFrom_1 | DemoMilServiceIraqTo_1 |\n",
       "+----------+---------------+-------+-------+----------+--------+----------+---------+---------------------+---------------------+--------------------------+------------------------+\n",
       "|    int32 | str           | int32 | int32 |    int32 |  int32 |    int32 |   int32 |               int32 |               int32 | str                      | str                    |\n",
       "+----------+---------------+-------+-------+----------+--------+----------+---------+---------------------+---------------------+--------------------------+------------------------+\n",
       "|        0 | NA            |     1 |     0 |        0 |      0 |        0 |       0 |                   2 |                   1 | \"11/24/2005\"             | \"08/03/2009\"           |\n",
       "|       NA | NA            |     1 |     0 |        0 |      0 |        0 |       0 |                   1 |                   1 | \"03/07/2005\"             | \"01/17/2006\"           |\n",
       "|       NA | NA            |     1 |     0 |        0 |      0 |        0 |       0 |                   1 |                   1 | \"03/07/2005\"             | \"01/17/2006\"           |\n",
       "|       NA | NA            |     1 |     0 |        0 |      0 |        0 |       0 |                   2 |                   1 | \"06/30/2000\"             | \"05/31/2007\"           |\n",
       "|       NA | NA            |     1 |     0 |        0 |      0 |        0 |       0 |                   2 |                   1 | \"06/30/2000\"             | \"05/31/2007\"           |\n",
       "|       NA | NA            |     0 |     0 |        0 |      1 |        0 |       0 |                   1 |                   1 | \"01/01/2003\"             | \"06/01/2003\"           |\n",
       "|       NA | NA            |     0 |     0 |        0 |      1 |        0 |       0 |                   1 |                   1 | \"01/01/2003\"             | \"06/01/2003\"           |\n",
       "|       NA | NA            |     1 |     0 |        0 |      0 |        0 |       0 |                   1 |                   1 | \"01/20/2004\"             | \"04/15/2005\"           |\n",
       "|       NA | NA            |     1 |     0 |        0 |      0 |        0 |       0 |                   1 |                   1 | \"01/20/2004\"             | \"04/15/2005\"           |\n",
       "|        0 | NA            |     0 |     0 |        0 |      0 |        0 |       1 |                   1 |                   1 | \"05/01/2002\"             | \"04/01/2003\"           |\n",
       "+----------+---------------+-------+-------+----------+--------+----------+---------+---------------------+---------------------+--------------------------+------------------------+\n",
       "\n",
       "+-------------------------+--------------------------+------------------------+-------------------------+--------------------------+------------------------+\n",
       "| DemoMilServiceIraqMOS_1 | DemoMilServiceIraqFrom_2 | DemoMilServiceIraqTo_2 | DemoMilServiceIraqMOS_2 | DemoMilServiceIraqFrom_3 | DemoMilServiceIraqTo_3 |\n",
       "+-------------------------+--------------------------+------------------------+-------------------------+--------------------------+------------------------+\n",
       "| str                     | str                      | str                    | str                     | str                      | str                    |\n",
       "+-------------------------+--------------------------+------------------------+-------------------------+--------------------------+------------------------+\n",
       "| \"70B\"                   | NA                       | NA                     | NA                      | NA                       | NA                     |\n",
       "| \"42A  92G\"              | NA                       | NA                     | NA                      | NA                       | NA                     |\n",
       "| \"42A  92G\"              | NA                       | NA                     | NA                      | NA                       | NA                     |\n",
       "| \"92Y\"                   | NA                       | NA                     | NA                      | NA                       | NA                     |\n",
       "| \"92Y\"                   | NA                       | NA                     | NA                      | NA                       | NA                     |\n",
       "| \"3521\"                  | NA                       | NA                     | NA                      | NA                       | NA                     |\n",
       "| \"3521\"                  | NA                       | NA                     | NA                      | NA                       | NA                     |\n",
       "| NA                      | NA                       | NA                     | NA                      | NA                       | NA                     |\n",
       "| NA                      | NA                       | NA                     | NA                      | NA                       | NA                     |\n",
       "| \"57 E\"                  | NA                       | NA                     | NA                      | NA                       | NA                     |\n",
       "+-------------------------+--------------------------+------------------------+-------------------------+--------------------------+------------------------+\n",
       "\n",
       "+-------------------------+---------------------+--------------------------+------------------------+-------------------------+--------------------------+------------------------+\n",
       "| DemoMilServiceIraqMOS_3 | DemoMilService_Afgh | DemoMilServiceAfghFrom_1 | DemoMilServiceAfghTo_1 | DemoMilServiceAfghMOS_1 | DemoMilServiceAfghFrom_2 | DemoMilServiceAfghTo_2 |\n",
       "+-------------------------+---------------------+--------------------------+------------------------+-------------------------+--------------------------+------------------------+\n",
       "| str                     |               int32 | str                      | str                    | str                     | str                      | str                    |\n",
       "+-------------------------+---------------------+--------------------------+------------------------+-------------------------+--------------------------+------------------------+\n",
       "| NA                      |                   0 | NA                       | NA                     | NA                      | NA                       | NA                     |\n",
       "| NA                      |                   0 | NA                       | NA                     | NA                      | NA                       | NA                     |\n",
       "| NA                      |                   0 | NA                       | NA                     | NA                      | NA                       | NA                     |\n",
       "| NA                      |                   0 | NA                       | NA                     | NA                      | NA                       | NA                     |\n",
       "| NA                      |                   0 | NA                       | NA                     | NA                      | NA                       | NA                     |\n",
       "| NA                      |                   0 | NA                       | NA                     | NA                      | NA                       | NA                     |\n",
       "| NA                      |                   0 | NA                       | NA                     | NA                      | NA                       | NA                     |\n",
       "| NA                      |                   0 | NA                       | NA                     | NA                      | NA                       | NA                     |\n",
       "| NA                      |                   0 | NA                       | NA                     | NA                      | NA                       | NA                     |\n",
       "| NA                      |                   0 | NA                       | NA                     | NA                      | NA                       | NA                     |\n",
       "+-------------------------+---------------------+--------------------------+------------------------+-------------------------+--------------------------+------------------------+\n",
       "\n",
       "+-------------------------+--------------------------+------------------------+-------------------------+----------------------+--------------------------+\n",
       "| DemoMilServiceAfghMOS_2 | DemoMilServiceAfghFrom_3 | DemoMilServiceAfghTo_3 | DemoMilServiceAfghMOS_3 | DemoMilService_Other | DemoMilServiceOtherTours |\n",
       "+-------------------------+--------------------------+------------------------+-------------------------+----------------------+--------------------------+\n",
       "| str                     | str                      | str                    | str                     |                int32 |                    int32 |\n",
       "+-------------------------+--------------------------+------------------------+-------------------------+----------------------+--------------------------+\n",
       "| NA                      | NA                       | NA                     | NA                      |                    0 |                       NA |\n",
       "| NA                      | NA                       | NA                     | NA                      |                    0 |                       NA |\n",
       "| NA                      | NA                       | NA                     | NA                      |                    0 |                       NA |\n",
       "| NA                      | NA                       | NA                     | NA                      |                    0 |                       NA |\n",
       "| NA                      | NA                       | NA                     | NA                      |                    0 |                       NA |\n",
       "| NA                      | NA                       | NA                     | NA                      |                    0 |                       NA |\n",
       "| NA                      | NA                       | NA                     | NA                      |                    0 |                       NA |\n",
       "| NA                      | NA                       | NA                     | NA                      |                    1 |                       NA |\n",
       "| NA                      | NA                       | NA                     | NA                      |                    1 |                       NA |\n",
       "| NA                      | NA                       | NA                     | NA                      |                    0 |                       NA |\n",
       "+-------------------------+--------------------------+------------------------+-------------------------+----------------------+--------------------------+\n",
       "\n",
       "+--------------------------+---------------------------+-------------------------+--------------------------+---------------------------+-------------------------+\n",
       "| DemoLocationOtherSpecify | DemoMilServiceOtherFrom_1 | DemoMilServiceOtherTo_1 | DemoMilServiceOtherMOS_1 | DemoMilServiceOtherFrom_2 | DemoMilServiceOtherTo_2 |\n",
       "+--------------------------+---------------------------+-------------------------+--------------------------+---------------------------+-------------------------+\n",
       "| str                      | str                       | str                     | str                      | str                       | str                     |\n",
       "+--------------------------+---------------------------+-------------------------+--------------------------+---------------------------+-------------------------+\n",
       "| NA                       | NA                        | NA                      | NA                       | NA                        | NA                      |\n",
       "| NA                       | NA                        | NA                      | NA                       | NA                        | NA                      |\n",
       "| NA                       | NA                        | NA                      | NA                       | NA                        | NA                      |\n",
       "| NA                       | NA                        | NA                      | NA                       | NA                        | NA                      |\n",
       "| NA                       | NA                        | NA                      | NA                       | NA                        | NA                      |\n",
       "| NA                       | NA                        | NA                      | NA                       | NA                        | NA                      |\n",
       "| NA                       | NA                        | NA                      | NA                       | NA                        | NA                      |\n",
       "| NA                       | \"05/12/2000\"              | \"05/11/2002\"            | \"25L\"                    | NA                        | NA                      |\n",
       "| NA                       | \"05/12/2000\"              | \"05/11/2002\"            | \"25L\"                    | NA                        | NA                      |\n",
       "| NA                       | NA                        | NA                      | NA                       | NA                        | NA                      |\n",
       "+--------------------------+---------------------------+-------------------------+--------------------------+---------------------------+-------------------------+\n",
       "\n",
       "+--------------------------+---------------------------+-------------------------+--------------------------+-----------------------------+-------------------------+\n",
       "| DemoMilServiceOtherMOS_2 | DemoMilServiceOtherFrom_3 | DemoMilServiceOtherTo_3 | DemoMilServiceOtherMOS_3 | DemoMilServiceLocation_Iraq | DemoMilServiceIraqTours |\n",
       "+--------------------------+---------------------------+-------------------------+--------------------------+-----------------------------+-------------------------+\n",
       "| str                      | str                       | str                     | str                      | str                         |                   int32 |\n",
       "+--------------------------+---------------------------+-------------------------+--------------------------+-----------------------------+-------------------------+\n",
       "| NA                       | NA                        | NA                      | NA                       | NA                          |                      NA |\n",
       "| NA                       | NA                        | NA                      | NA                       | NA                          |                      NA |\n",
       "| NA                       | NA                        | NA                      | NA                       | NA                          |                      NA |\n",
       "| NA                       | NA                        | NA                      | NA                       | NA                          |                      NA |\n",
       "| NA                       | NA                        | NA                      | NA                       | NA                          |                      NA |\n",
       "| NA                       | NA                        | NA                      | NA                       | NA                          |                      NA |\n",
       "| NA                       | NA                        | NA                      | NA                       | NA                          |                      NA |\n",
       "| NA                       | NA                        | NA                      | NA                       | NA                          |                      NA |\n",
       "| NA                       | NA                        | NA                      | NA                       | NA                          |                      NA |\n",
       "| NA                       | NA                        | NA                      | NA                       | NA                          |                      NA |\n",
       "+--------------------------+---------------------------+-------------------------+--------------------------+-----------------------------+-------------------------+\n",
       "\n",
       "+-----------------------------+--------------------------------+------------------------------+------------+---------+--------------+-------------+----------+-----------------+\n",
       "| DemoMilServiceLocation_Afgh | DemoMilServiceAfghanistanTours | DemoMilServiceLocation_Other | Eth_race   | TimeP.y | Date.y       | Body_Weight |      BMI | Standing_Height |\n",
       "+-----------------------------+--------------------------------+------------------------------+------------+---------+--------------+-------------+----------+-----------------+\n",
       "| str                         | str                            | str                          | str        |   int32 | str          |     float64 |  float64 |           int32 |\n",
       "+-----------------------------+--------------------------------+------------------------------+------------+---------+--------------+-------------+----------+-----------------+\n",
       "| NA                          | NA                             | NA                           | \"White\"    |       0 | \"2011-04-19\" |    1.59e+02 | 2.61e+01 |               5 |\n",
       "| NA                          | NA                             | NA                           | \"White\"    |       0 | \"2011-01-24\" |    1.57e+02 | 2.28e+01 |               5 |\n",
       "| NA                          | NA                             | NA                           | \"White\"    |       0 | \"2011-01-24\" |    1.57e+02 | 2.28e+01 |               5 |\n",
       "| NA                          | NA                             | NA                           | \"Hispanic\" |       0 | \"2011-02-07\" |    1.66e+02 | 2.34e+01 |               5 |\n",
       "| NA                          | NA                             | NA                           | \"Hispanic\" |       0 | \"2011-02-07\" |    1.66e+02 | 2.34e+01 |               5 |\n",
       "| NA                          | NA                             | NA                           | \"White\"    |       0 | \"2011-01-25\" |    1.79e+02 | 2.43e+01 |               6 |\n",
       "| NA                          | NA                             | NA                           | \"White\"    |       0 | \"2011-01-25\" |    1.79e+02 | 2.43e+01 |               6 |\n",
       "| NA                          | NA                             | NA                           | \"Hispanic\" |       0 | \"2011-02-07\" |    2.50e+02 | 3.46e+01 |               5 |\n",
       "| NA                          | NA                             | NA                           | \"Hispanic\" |       0 | \"2011-02-07\" |    2.50e+02 | 3.46e+01 |               5 |\n",
       "| NA                          | NA                             | NA                           | \"Hispanic\" |       0 | \"2011-03-01\" |    1.71e+02 | 2.68e+01 |               5 |\n",
       "+-----------------------------+--------------------------------+------------------------------+------------+---------+--------------+-------------+----------+-----------------+\n",
       "\n",
       "+---------------------+-------------------+--------------------+-------------------------+--------------------------+-------+----------+\n",
       "| Waist_Circumference | Hip_Circumference | Waist_to_Hip_Ratio | Systolic_Blood_Pressure | Diastolic_Blood_Pressure | Pulse |    ABM3C |\n",
       "+---------------------+-------------------+--------------------+-------------------------+--------------------------+-------+----------+\n",
       "|             float64 |           float64 |            float64 |                   int32 |                    int32 | int32 |  float64 |\n",
       "+---------------------+-------------------+--------------------+-------------------------+--------------------------+-------+----------+\n",
       "|            3.40e+01 |          3.55e+01 |           9.57e-01 |                     120 |                       74 |    62 | 1.66e+02 |\n",
       "|            3.01e+01 |          3.85e+01 |           7.81e-01 |                     124 |                       88 |    74 | 1.77e+02 |\n",
       "|            3.01e+01 |          3.85e+01 |           7.81e-01 |                     124 |                       88 |    74 | 1.77e+02 |\n",
       "|            3.25e+01 |          3.65e+01 |           8.90e-01 |                     110 |                       73 |    61 | 1.79e+02 |\n",
       "|            3.25e+01 |          3.65e+01 |           8.90e-01 |                     110 |                       73 |    61 | 1.79e+02 |\n",
       "|            3.24e+01 |          3.83e+01 |           8.45e-01 |                     124 |                       69 |    51 | 1.83e+02 |\n",
       "|            3.24e+01 |          3.83e+01 |           8.45e-01 |                     124 |                       69 |    51 | 1.83e+02 |\n",
       "|            4.68e+01 |          4.35e+01 |           1.08e+00 |                     104 |                       65 |    74 | 1.81e+02 |\n",
       "|            4.68e+01 |          4.35e+01 |           1.08e+00 |                     104 |                       65 |    74 | 1.81e+02 |\n",
       "|            4.25e+01 |          3.43e+01 |           1.24e+00 |                     125 |                       69 |    58 | 1.70e+02 |\n",
       "+---------------------+-------------------+--------------------+-------------------------+--------------------------+-------+----------+\n",
       "showing top 10 rows"
      ]
     },
     "metadata": {},
     "output_type": "display_data"
    }
   ],
   "source": [
    "pheno1.show()"
   ]
  },
  {
   "cell_type": "code",
   "execution_count": 9,
   "metadata": {},
   "outputs": [],
   "source": [
    "# now run the generic Hail's sample qc to compute sample QC stats\n",
    "mt_pass = hl.sample_qc(mt_pass)"
   ]
  },
  {
   "cell_type": "code",
   "execution_count": 14,
   "metadata": {},
   "outputs": [
    {
     "data": {
      "text/html": [
       "\n",
       "\n",
       "\n",
       "\n",
       "\n",
       "\n",
       "  <div class=\"bk-root\" id=\"8eba5026-0111-4a19-85b6-2cb0729de49b\" data-root-id=\"1002\"></div>\n"
      ]
     },
     "metadata": {},
     "output_type": "display_data"
    },
    {
     "data": {
      "application/javascript": [
       "(function(root) {\n",
       "  function embed_document(root) {\n",
       "    \n",
       "  var docs_json = {\"bd7e0d73-d335-4262-b9cc-507c0f51af43\":{\"roots\":{\"references\":[{\"attributes\":{\"below\":[{\"id\":\"1012\",\"type\":\"LinearAxis\"}],\"center\":[{\"id\":\"1016\",\"type\":\"Grid\"},{\"id\":\"1021\",\"type\":\"Grid\"}],\"left\":[{\"id\":\"1017\",\"type\":\"LinearAxis\"}],\"plot_height\":800,\"plot_width\":800,\"renderers\":[{\"id\":\"1041\",\"type\":\"GlyphRenderer\"}],\"title\":null,\"toolbar\":{\"id\":\"1028\",\"type\":\"Toolbar\"},\"x_range\":{\"id\":\"1004\",\"type\":\"DataRange1d\"},\"x_scale\":{\"id\":\"1008\",\"type\":\"LinearScale\"},\"y_range\":{\"id\":\"1006\",\"type\":\"DataRange1d\"},\"y_scale\":{\"id\":\"1010\",\"type\":\"LinearScale\"}},\"id\":\"1002\",\"subtype\":\"Figure\",\"type\":\"Plot\"},{\"attributes\":{\"overlay\":{\"id\":\"1048\",\"type\":\"BoxAnnotation\"}},\"id\":\"1024\",\"type\":\"BoxZoomTool\"},{\"attributes\":{\"dimension\":1,\"ticker\":{\"id\":\"1018\",\"type\":\"BasicTicker\"}},\"id\":\"1021\",\"type\":\"Grid\"},{\"attributes\":{},\"id\":\"1025\",\"type\":\"SaveTool\"},{\"attributes\":{},\"id\":\"1045\",\"type\":\"BasicTickFormatter\"},{\"attributes\":{\"fill_color\":{\"value\":\"#1f77b4\"},\"line_color\":{\"value\":\"#1f77b4\"},\"size\":{\"units\":\"screen\",\"value\":8},\"x\":{\"field\":\"x\"},\"y\":{\"field\":\"y\"}},\"id\":\"1039\",\"type\":\"Circle\"},{\"attributes\":{},\"id\":\"1050\",\"type\":\"Selection\"},{\"attributes\":{\"active_drag\":\"auto\",\"active_inspect\":\"auto\",\"active_multi\":null,\"active_scroll\":\"auto\",\"active_tap\":\"auto\",\"tools\":[{\"id\":\"1022\",\"type\":\"PanTool\"},{\"id\":\"1023\",\"type\":\"WheelZoomTool\"},{\"id\":\"1024\",\"type\":\"BoxZoomTool\"},{\"id\":\"1025\",\"type\":\"SaveTool\"},{\"id\":\"1026\",\"type\":\"ResetTool\"},{\"id\":\"1027\",\"type\":\"HelpTool\"},{\"id\":\"1036\",\"type\":\"HoverTool\"}]},\"id\":\"1028\",\"type\":\"Toolbar\"},{\"attributes\":{\"ticker\":{\"id\":\"1013\",\"type\":\"BasicTicker\"}},\"id\":\"1016\",\"type\":\"Grid\"},{\"attributes\":{},\"id\":\"1008\",\"type\":\"LinearScale\"},{\"attributes\":{\"callback\":null},\"id\":\"1006\",\"type\":\"DataRange1d\"},{\"attributes\":{},\"id\":\"1022\",\"type\":\"PanTool\"},{\"attributes\":{},\"id\":\"1023\",\"type\":\"WheelZoomTool\"},{\"attributes\":{},\"id\":\"1027\",\"type\":\"HelpTool\"},{\"attributes\":{\"callback\":null,\"data\":{\"ID\":[\"201048_S2\",\"201208_S8\",\"202147_S7\",\"202105_S6\",\"201054_S8\",\"202138_S9\",\"201080_S8\",\"201035_S6\",\"201418_S2\",\"202155_S6\",\"202192_S9\",\"212012_S8\",\"202125_S4\",\"201362_S3\",\"202018_S4\",\"202214_S8\",\"202019_S6\",\"202046_S4\",\"201195_S8\",\"202041_S6\",\"201229_S5\",\"202014_S7\",\"201368_S9\",\"202091_S5\",\"201177_S3\",\"212016_S1\",\"201144_S7\",\"202117_S7\",\"211003_S6\",\"211063_S7\",\"202019_S3\",\"212031_S1\",\"202052_S6\",\"202061_S9\",\"202031_S8\",\"202035_S6\",\"202093_S4\",\"201372_S2\",\"201182_S3\",\"202052_S1\",\"201324_S3\",\"202004_S1\",\"201128_S9\",\"202035_S1\",\"202011_S8\",\"202072_S2\",\"201256_S7\",\"201180_S3\",\"201318_S1\",\"202062_S1\",\"212024_S4\",\"202038_S2\",\"202093_S3\",\"201287_S1\",\"212025_S4\",\"201186_S9\",\"212004_S5\",\"202046_S3\",\"202007_S7\",\"202047_S7\",\"202050_S3\",\"202018_S7\",\"212006_S2\",\"202008_S1\",\"201242_S5\",\"201132_S4\",\"202061_S7\",\"202110_S7\",\"202020_S5\",\"202144_S4\",\"202060_S5\",\"202047_S2\",\"212023_S4\",\"202101_S9\",\"201140_S2\",\"201180_S9\",\"202130_S7\",\"202014_S5\",\"201328_S1\",\"202020_S5_2\",\"211048_S8\",\"212011_S9\",\"202044_S3\",\"201233_S9\",\"202073_S1\",\"201286_S7\",\"202130_S8\",\"201105_S6\",\"202073_S8\",\"202195_S4\",\"201181_S7\",\"201154_S7\",\"201136_S9\",\"202062_S8\",\"202050_S5\",\"202085_S1\",\"202031_S2\"],\"index\":[0,1,2,3,4,5,6,7,8,9,10,11,12,13,14,15,16,17,18,19,20,21,22,23,24,25,26,27,28,29,30,31,32,33,34,35,36,37,38,39,40,41,42,43,44,45,46,47,48,49,50,51,52,53,54,55,56,57,58,59,60,61,62,63,64,65,66,67,68,69,70,71,72,73,74,75,76,77,78,79,80,81,82,83,84,85,86,87,88,89,90,91,92,93,94,95,96],\"x\":{\"__ndarray__\":\"r4Km4UzlNUD3eQwjyhc9QMGnal7dtj1AAht5svFRPkA7we9Al2A/QInNyePMOUBAWISXjJy+QEAkpaZCAOFAQC5L2gyK+UBAzbqUf1n/QEBRaSqgNxpBQE/2t4w1QUFA5ghgtAFvQUCzRQfarntBQPIHvy/mrUFAqe5duMjFQUAy8ZzOA+tBQFUwMxak9kFAiqwZ9C8BQkCA09r6khJCQAmmz/GlIUJA31Of6hgpQkBhRJXqMDVCQNZTealwTUJAiOmArJVYQkCzfypRxmdCQFXPTS6KdkJA9KPzNX2CQkCOHC/QKpFCQLMCQ764r0JAyTVKXkS0QkBsr4aAS8lCQLPNeZQC3UJAH+4L10vhQkD2fwsRPexCQGNbmAuK/EJAeLdtqlUKQ0C2isu9VQ9DQKGon9MPJUNAEcmlz9gvQ0C+pAD3qT1DQBm1rwo1RENAU/2yR6VKQ0Duas/+vFdDQBv1/fhqaUNA87Zq0RBzQ0ABJqOzqntDQJbI/a9Dh0NA+fnHWLWWQ0Bv0rMGNp5DQEWI0/q9sUNARbDNHtG7Q0DFGZ9bCMNDQMfaMXgrzUNAhd2OljzdQ0DNycrWAOZDQKz7uW2k8kNAHqBVCdX9Q0ChFbWDgQlEQFeA1hjZGkRAxr5nHHAnREC0QcM0iCxEQIWgRjdWOkRAhdiVb2hDREB54teYYmREQLYyh3oab0RAGCgogf1zREDwHCzEOHtEQGsYP5XdgERATD3fptGQRECWUzQs2Z9EQDiRq4Q1oURAeH8FfIqjREC3ltwsLr9EQIDn14yc10RAELOJHJ/uRECrpJTnwOpEQFFHxS7tFkVA/DGO/J0dRUCpr1oQlh1FQIYCyKpkJ0VA8BdMkx0/RUAPT2ZW/VlFQJ4AVLW7aUVAF8PMB0tpRUBeENucNmtFQGtBcWwBgUVAxuFoGa+XRUCsjIWcApJFQCtb0atr2EVAsg6MfMnxRUABMeaqHINGQOSPceTv7EZAa0TIQELzRkCcIIEPHRNHQBOEE5yupkdA7iR/OqK9SEA=\",\"dtype\":\"float64\",\"shape\":[97]},\"y\":{\"__ndarray__\":\"nzZMfWXk7z9gNUad0PDvP3RV8pkN9O8/fwHUDBnx7z+gNRTKVO7vP9gnWlR59u8/r+cBW//v7z9Tuf+O3vnvP/xhpi9U+O8/JDuEjuv37z9w5vt6avzvP8rc5l2x++8/A6DJNs3z7z9OS0EjTPjvPympQvp9+e8/9FRWQAX57z8gNEC9O/3vP4pEy34g++8/c4WN/ib67z8cLjSfnPjvP52VSpOH+u8/4muJeZH27z+IDexIV/rvP417qrTp++8/WY9wSGT47z91vGw08PrvP33JvCM/+u8/K+AhMEf67z/sRwZRtvnvP9GBhP8M/u8//Pnz4WD77z9O447VWPvvPxr3VGnT9+8/Y9OfbXz47z9Dn1+wQPvvPzuSD8Hx++8/i6x9zBP47z/Bz5ZuYvzvPwY+Iwd5++8/ytzmXbH77z91vGw08PrvPwY+Iwd5++8/11f1uJL87z/2I4Mo2/zvP/+YhWUd+e8/ahCLweT97z/PslcXN/rvP/eLNXbO+e8/TuOO1Vj77z99YQrWS/3vP/eLNXbO+e8/c4WN/ib67z/S6TZNAPvvP5e/2dkB/O8/6ah0zfn77z/ViMjQvPjvP0gNHhzT/O8/Xv0utPb57z8reG/iU/3vPyPT0UD4+u8/xAZ2pCv97z+fzCnJUPvvPwFosk3z/O8/t4tnSUr87z+3i2dJSvzvP7Idqd23+u8/cOb7emr87z9AAM4shP3vP24Xz5KU+O8/aNmrixv97z/OSqXJQ/3vP07jjtVY++8/QADOLIT97z8mCrF2wfvvP3oqK6CC/O8/CXUCPUL87z8tr04YHf7vP1Aabgsi/O8/JgqxdsH77z9fzFuczP3vP2WizFVS/O8/l7/Z2QH87z/+MNMXKvzvP1JRTUHr/O8/dVS65vz97z+iAwn/GfzvP9mO1O5b/e8/l7/Z2QH87z+HpTn7Y/3vPyhBkKyK/O8/wc+WbmL87z+cLZhFlP3vP3Id27Az/e8/eioroIL87z+HpTn7Y/3vPzW8ngds/e8/pDroNOP87z8=\",\"dtype\":\"float64\",\"shape\":[97]}},\"selected\":{\"id\":\"1050\",\"type\":\"Selection\"},\"selection_policy\":{\"id\":\"1049\",\"type\":\"UnionRenderers\"}},\"id\":\"1037\",\"type\":\"ColumnDataSource\"},{\"attributes\":{\"axis_label\":\"Mean DP\",\"formatter\":{\"id\":\"1047\",\"type\":\"BasicTickFormatter\"},\"ticker\":{\"id\":\"1013\",\"type\":\"BasicTicker\"}},\"id\":\"1012\",\"type\":\"LinearAxis\"},{\"attributes\":{},\"id\":\"1010\",\"type\":\"LinearScale\"},{\"attributes\":{\"axis_label\":\"Call Rate\",\"formatter\":{\"id\":\"1045\",\"type\":\"BasicTickFormatter\"},\"ticker\":{\"id\":\"1018\",\"type\":\"BasicTicker\"}},\"id\":\"1017\",\"type\":\"LinearAxis\"},{\"attributes\":{\"bottom_units\":\"screen\",\"fill_alpha\":{\"value\":0.5},\"fill_color\":{\"value\":\"lightgrey\"},\"left_units\":\"screen\",\"level\":\"overlay\",\"line_alpha\":{\"value\":1.0},\"line_color\":{\"value\":\"black\"},\"line_dash\":[4,4],\"line_width\":{\"value\":2},\"render_mode\":\"css\",\"right_units\":\"screen\",\"top_units\":\"screen\"},\"id\":\"1048\",\"type\":\"BoxAnnotation\"},{\"attributes\":{\"fill_alpha\":{\"value\":0.1},\"fill_color\":{\"value\":\"#1f77b4\"},\"line_alpha\":{\"value\":0.1},\"line_color\":{\"value\":\"#1f77b4\"},\"size\":{\"units\":\"screen\",\"value\":8},\"x\":{\"field\":\"x\"},\"y\":{\"field\":\"y\"}},\"id\":\"1040\",\"type\":\"Circle\"},{\"attributes\":{},\"id\":\"1018\",\"type\":\"BasicTicker\"},{\"attributes\":{\"callback\":null},\"id\":\"1004\",\"type\":\"DataRange1d\"},{\"attributes\":{\"source\":{\"id\":\"1037\",\"type\":\"ColumnDataSource\"}},\"id\":\"1042\",\"type\":\"CDSView\"},{\"attributes\":{\"data_source\":{\"id\":\"1037\",\"type\":\"ColumnDataSource\"},\"glyph\":{\"id\":\"1039\",\"type\":\"Circle\"},\"hover_glyph\":null,\"muted_glyph\":null,\"nonselection_glyph\":{\"id\":\"1040\",\"type\":\"Circle\"},\"selection_glyph\":null,\"view\":{\"id\":\"1042\",\"type\":\"CDSView\"}},\"id\":\"1041\",\"type\":\"GlyphRenderer\"},{\"attributes\":{},\"id\":\"1047\",\"type\":\"BasicTickFormatter\"},{\"attributes\":{},\"id\":\"1049\",\"type\":\"UnionRenderers\"},{\"attributes\":{\"callback\":null,\"tooltips\":[[\"x\",\"@x\"],[\"y\",\"@y\"],[\"ID\",\"@ID\"]]},\"id\":\"1036\",\"type\":\"HoverTool\"},{\"attributes\":{},\"id\":\"1026\",\"type\":\"ResetTool\"},{\"attributes\":{},\"id\":\"1013\",\"type\":\"BasicTicker\"}],\"root_ids\":[\"1002\"]},\"title\":\"Bokeh Application\",\"version\":\"1.2.0\"}};\n",
       "  var render_items = [{\"docid\":\"bd7e0d73-d335-4262-b9cc-507c0f51af43\",\"roots\":{\"1002\":\"8eba5026-0111-4a19-85b6-2cb0729de49b\"}}];\n",
       "  root.Bokeh.embed.embed_items_notebook(docs_json, render_items);\n",
       "\n",
       "  }\n",
       "  if (root.Bokeh !== undefined) {\n",
       "    embed_document(root);\n",
       "  } else {\n",
       "    var attempts = 0;\n",
       "    var timer = setInterval(function(root) {\n",
       "      if (root.Bokeh !== undefined) {\n",
       "        embed_document(root);\n",
       "        clearInterval(timer);\n",
       "      }\n",
       "      attempts++;\n",
       "      if (attempts > 100) {\n",
       "        console.log(\"Bokeh: ERROR: Unable to run BokehJS code because BokehJS library is missing\");\n",
       "        clearInterval(timer);\n",
       "      }\n",
       "    }, 10, root)\n",
       "  }\n",
       "})(window);"
      ],
      "application/vnd.bokehjs_exec.v0+json": ""
     },
     "metadata": {
      "application/vnd.bokehjs_exec.v0+json": {
       "id": "1002"
      }
     },
     "output_type": "display_data"
    }
   ],
   "source": [
    "p = hl.plot.scatter(x=mt_pass.sample_qc.dp_stats.mean,\n",
    "                    y=mt_pass.sample_qc.call_rate,\n",
    "                    xlabel='Mean DP',\n",
    "                    ylabel='Call Rate',\n",
    "                    hover_fields={'ID': mt_pass.s},\n",
    "                    size=8)\n",
    "show(p)"
   ]
  },
  {
   "cell_type": "markdown",
   "metadata": {},
   "source": [
    "## Filtering variants with QC criteria"
   ]
  },
  {
   "cell_type": "code",
   "execution_count": 22,
   "metadata": {},
   "outputs": [
    {
     "data": {
      "text/plain": [
       "'Number of remaining variants: 255648'"
      ]
     },
     "execution_count": 22,
     "metadata": {},
     "output_type": "execute_result"
    }
   ],
   "source": [
    "filter_exp1 = (mt_pass.variant_qc.dp_stats.mean>10) & (mt_pass.info.MQ>40) & (mt_pass.info.QD >2) & (mt_pass.variant_qc.gq_stats.mean>20)\n",
    "\n",
    "mt_filtered = mt_pass.filter_rows(filter_exp1)\n",
    "\n",
    "f\"Number of remaining variants: {mt_filtered.count_rows()}\"\n"
   ]
  },
  {
   "cell_type": "code",
   "execution_count": 16,
   "metadata": {},
   "outputs": [
    {
     "name": "stdout",
     "output_type": "stream",
     "text": [
      "Common variants: 106889\n",
      "Rare variants: 148759\n"
     ]
    }
   ],
   "source": [
    "print('Common variants: %d' % mt_filtered.filter_rows(mt_filtered.variant_qc.AF[1] >= 0.01).count_rows() )\n",
    "print('Rare variants: %d' % mt_filtered.filter_rows(mt_filtered.variant_qc.AF[1] < 0.01).count_rows() )"
   ]
  },
  {
   "cell_type": "code",
   "execution_count": 23,
   "metadata": {},
   "outputs": [],
   "source": [
    "# let's rerun the QC computations\n",
    "mt_filtered = hl.variant_qc(mt_filtered)\n",
    "mt_filtered = hl.sample_qc(mt_filtered)"
   ]
  },
  {
   "cell_type": "code",
   "execution_count": 18,
   "metadata": {},
   "outputs": [
    {
     "data": {
      "text/html": [
       "\n",
       "\n",
       "\n",
       "\n",
       "\n",
       "\n",
       "  <div class=\"bk-root\" id=\"7ecaf940-a451-415b-9b59-1da5a9608e9e\" data-root-id=\"1099\"></div>\n"
      ]
     },
     "metadata": {},
     "output_type": "display_data"
    },
    {
     "data": {
      "application/javascript": [
       "(function(root) {\n",
       "  function embed_document(root) {\n",
       "    \n",
       "  var docs_json = {\"7c025d8c-2cbb-45b0-9c57-08d39d3eb4d5\":{\"roots\":{\"references\":[{\"attributes\":{\"below\":[{\"id\":\"1109\",\"type\":\"LinearAxis\"}],\"center\":[{\"id\":\"1113\",\"type\":\"Grid\"},{\"id\":\"1118\",\"type\":\"Grid\"}],\"left\":[{\"id\":\"1114\",\"type\":\"LinearAxis\"}],\"plot_height\":800,\"plot_width\":800,\"renderers\":[{\"id\":\"1138\",\"type\":\"GlyphRenderer\"}],\"title\":null,\"toolbar\":{\"id\":\"1125\",\"type\":\"Toolbar\"},\"x_range\":{\"id\":\"1101\",\"type\":\"DataRange1d\"},\"x_scale\":{\"id\":\"1105\",\"type\":\"LinearScale\"},\"y_range\":{\"id\":\"1103\",\"type\":\"DataRange1d\"},\"y_scale\":{\"id\":\"1107\",\"type\":\"LinearScale\"}},\"id\":\"1099\",\"subtype\":\"Figure\",\"type\":\"Plot\"},{\"attributes\":{\"axis_label\":\"Call Rate\",\"formatter\":{\"id\":\"1150\",\"type\":\"BasicTickFormatter\"},\"ticker\":{\"id\":\"1115\",\"type\":\"BasicTicker\"}},\"id\":\"1114\",\"type\":\"LinearAxis\"},{\"attributes\":{},\"id\":\"1107\",\"type\":\"LinearScale\"},{\"attributes\":{\"axis_label\":\"Mean DP\",\"formatter\":{\"id\":\"1152\",\"type\":\"BasicTickFormatter\"},\"ticker\":{\"id\":\"1110\",\"type\":\"BasicTicker\"}},\"id\":\"1109\",\"type\":\"LinearAxis\"},{\"attributes\":{},\"id\":\"1115\",\"type\":\"BasicTicker\"},{\"attributes\":{\"bottom_units\":\"screen\",\"fill_alpha\":{\"value\":0.5},\"fill_color\":{\"value\":\"lightgrey\"},\"left_units\":\"screen\",\"level\":\"overlay\",\"line_alpha\":{\"value\":1.0},\"line_color\":{\"value\":\"black\"},\"line_dash\":[4,4],\"line_width\":{\"value\":2},\"render_mode\":\"css\",\"right_units\":\"screen\",\"top_units\":\"screen\"},\"id\":\"1153\",\"type\":\"BoxAnnotation\"},{\"attributes\":{},\"id\":\"1105\",\"type\":\"LinearScale\"},{\"attributes\":{\"callback\":null,\"tooltips\":[[\"x\",\"@x\"],[\"y\",\"@y\"],[\"ID\",\"@ID\"]]},\"id\":\"1133\",\"type\":\"HoverTool\"},{\"attributes\":{},\"id\":\"1119\",\"type\":\"PanTool\"},{\"attributes\":{},\"id\":\"1122\",\"type\":\"SaveTool\"},{\"attributes\":{\"data_source\":{\"id\":\"1134\",\"type\":\"ColumnDataSource\"},\"glyph\":{\"id\":\"1136\",\"type\":\"Circle\"},\"hover_glyph\":null,\"muted_glyph\":null,\"nonselection_glyph\":{\"id\":\"1137\",\"type\":\"Circle\"},\"selection_glyph\":null,\"view\":{\"id\":\"1139\",\"type\":\"CDSView\"}},\"id\":\"1138\",\"type\":\"GlyphRenderer\"},{\"attributes\":{\"callback\":null},\"id\":\"1101\",\"type\":\"DataRange1d\"},{\"attributes\":{\"callback\":null,\"data\":{\"ID\":[\"201048_S2\",\"201208_S8\",\"202147_S7\",\"202105_S6\",\"201054_S8\",\"202138_S9\",\"201080_S8\",\"201035_S6\",\"201418_S2\",\"202155_S6\",\"202192_S9\",\"212012_S8\",\"202125_S4\",\"201362_S3\",\"202018_S4\",\"202214_S8\",\"202211_S1\",\"201195_S8\",\"201210_S9\",\"201229_S5\",\"202014_S7\",\"201368_S9\",\"202197_S5\",\"201177_S3\",\"212016_S1\",\"201144_S7\",\"202111_S6\",\"211003_S6\",\"211063_S7\",\"201151_S6\",\"202085_S2\",\"212031_S1\",\"201132_S3\",\"201242_S4\",\"202031_S8\",\"201287_S2\",\"202160_S6\",\"211051_S6\",\"201062_S4\",\"202052_S1\",\"201128_S8\",\"202216_S7\",\"201128_S9\",\"201136_S3\",\"211035_S5\",\"201140_S7\",\"202063_S8\",\"201086_S9\",\"202180_S1\",\"202072_S2\",\"202238_S4\",\"201180_S3\",\"202183_S9\",\"201164_S8\",\"202062_S1\",\"212024_S4\",\"202171_S9\",\"212035_S6\",\"202106_S9\",\"211011_S2\",\"202188_S9\",\"212025_S4\",\"201100_S4\",\"212004_S5\",\"202065_S5\",\"202007_S7\",\"201349_S4\",\"212045_S4\",\"201199_S4\",\"212006_S2\",\"202008_S1\",\"211004_S9\",\"211002_S5\",\"201242_S5\",\"201132_S4\",\"202175_S6\",\"202110_S7\",\"202020_S5\",\"202144_S4\",\"212052_S5\",\"212023_S4\",\"202101_S9\",\"201140_S2\",\"201087_S6\",\"202130_S7\",\"201180_S9\",\"202098_S3\",\"201328_S1\",\"202014_S5\",\"211048_S8\",\"212011_S9\",\"202123_S5\",\"212003_S1\",\"202073_S1\",\"201286_S7\",\"202130_S8\",\"202073_S8\",\"201105_S6\",\"202195_S4\",\"201181_S7\",\"202182_S5\",\"201154_S7\",\"201136_S9\",\"202050_S5\",\"202085_S1\",\"202031_S2\"],\"index\":[0,1,2,3,4,5,6,7,8,9,10,11,12,13,14,15,16,17,18,19,20,21,22,23,24,25,26,27,28,29,30,31,32,33,34,35,36,37,38,39,40,41,42,43,44,45,46,47,48,49,50,51,52,53,54,55,56,57,58,59,60,61,62,63,64,65,66,67,68,69,70,71,72,73,74,75,76,77,78,79,80,81,82,83,84,85,86,87,88,89,90,91,92,93,94,95,96,97,98,99,100,101,102,103,104,105],\"x\":{\"__ndarray__\":\"ksd84lQzNkDroZf0U3w9QMaa2jI5Gz5Avyridrq5PkClz/Cx88c/QP0xSMeBbkBAFoliqTLzQECp23VaNRNBQBk6nxtaMEFA3yaXp4o1QUBM0wbfkE9BQDoTCHTPdkFAnm705JunQUC9MLOIvrJBQPb7RZiw5UFAQmUIUgD+QUDnlRJMEiFCQKoLxPLINUJAE/Wg/WFOQkDJJPTp71lCQLcIMDEdYUJAtv8EVPpsQkAkcn7+UopCQKxXEDq8jkJArOh3Gm6gQkClE48zu65CQAusy/xTw0JAXwfyY63JQkBL8f683uVCQJdVbXwh60JA0/MLv572QkD/n2PP2AJDQDreZeEuEUNAQhg/8xUjQ0Ak4RYeoSRDQCuQWWHaOUNAds4hfaNCQ0A0ZMUwlklDQEWPhdiPX0NA0XtIwi1oQ0AhAIwT5nBDQBq3thLYbUNA1GZ7wQJ+Q0ALgdFezYtDQI4qkFlhikNAK9jOxbeVQ0Cncq5M65lDQPX3brWanENAEj6TeTaoQ0DvSCxyYatDQK6Qia9yvUNA9JfShHO/Q0BkUUR8ss5DQBPOfULx30NAMs+Gbc7WQ0DPnpSaiO1DQGJXFY6250NADZMnGRP4Q0B+A6eUff1DQOsy/9QFAkRAsMSuKhwRRECHonDRmBdEQBVGQT9iHkRA2Obsg58qREA6Ky9AGThEQLljeGc3Q0RAaKFnprtUREDSk2+Od1lEQKR5/HXmbERAc5HRJNdyREBPH1MmhHxEQARLzy/8hkRAdsR5iImIREDwNNyILZ9EQMX2n4BKp0RAqZMA9lezREBR97JTHLREQH9QcPNnvERAtLO4DAfMREAXOxwzUdJEQH0So4Ok3kRAFBtHodv6REAo1XT6mApFQLhtIFxRIUVAq/IfD4giRUA1xGFhvSpFQMAzDVTdSUVAmEZxjfpZRUD991E61FFFQGGSiDJbYkVAcfySYQ94RUAyt1+hhJVFQAJMTEfzkEVAGIORly6eRUBPT6G+F6dFQLRX8771s0VA+evMkZLGRUCenkJ9L85FQOj6AndGFUZAM/UsEUgjRkA/idFBUilGQIJJIspstUZAY6Te7KAeR0AjiyLik0VHQJulkKYq3UdADcjJq7PxSEA=\",\"dtype\":\"float64\",\"shape\":[106]},\"y\":{\"__ndarray__\":\"8LubdMX27z+frMFUX/3vP+UUJHJ+/u8/WkRfN0D87z/4ynroJf3vPx0RgjH7/e8/smIYywb87z8Y2gLrMv/vPyZZ2hoS/+8/yRZ1EsD+7z/821OLdP/vPzj8Xb98/+8/kS3qJID97z802LFK8f7vP+k40OYJ/+8/Z52Qw6X/7z8Y2gLrMv/vP9u5+LYq/+8/tnPxbVX+7z91HGjzhP/vP3D4u375/u8/7lx8W5X/7z9s1A8Kbv7vP3D4u375/u8/cPi7fvn+7z9CV4l60P7vPxjaAusy/+8/Kn2Gj53/7z+VPsPHzv/vP3UcaPOE/+8/sTxyJ43/7z/g3aQrtv/vP8kWdRLA/u8/qPQZPnb+7z+tGMayAf/vP806IYdL/+8/HP6uX77/7z9GezXvW//vP0JXiXrQ/u8/0l7N+9b/7z/JFnUSwP7vPw5/1y/f/+8/4N2kK7b/7z9nnZDDpf/vP9JezfvW/+8/4N2kK7b/7z8Of9cv3//vP+DdpCu2/+8/Rns171v/7z9Ln+Fj5//vP6O9mvet/+8//NtTi3T/7z/g3aQrtv/vP6O9mvet/+8/0l7N+9b/7z8TtlZ2p/7vP0uf4WPn/+8/Kn2Gj53/7z8qfYaPnf/vP0uf4WPn/+8/lT7Dx87/7z/821OLdP/vP7+7SVds/+8/Z52Qw6X/7z+xPHInjf/vP5U+w8fO/+8/Z52Qw6X/7z9ieeROGv/vP+5cfFuV/+8/zTohh0v/7z8vtAXWZf7vP9JezfvW/+8/27n4tir/7z/g3aQrtv/vP4ObPyNk/+8/WR65k8b/7z9Ln+Fj5//vP4ObPyNk/+8/h7/rl+//7z+jvZr3rf/vP0uf4WPn/+8/v7tJV2z/7z+xPHInjf/vP806IYdL/+8/4N2kK7b/7z9Ln+Fj5//vP3UcaPOE/+8/7lx8W5X/7z8Of9cv3//vP0uf4WPn/+8/QleJetD+7z/uXHxblf/vP9JezfvW/+8/h7/rl+//7z/NOiGHS//vP+DdpCu2/+8/Z52Qw6X/7z9Q1mCqr/7vP5U+w8fO/+8/VPoMHzv/7z8Of9cv3//vP9JezfvW/+8/7lx8W5X/7z/SXs371v/vP1keuZPG/+8/n5nugiL/7z8=\",\"dtype\":\"float64\",\"shape\":[106]}},\"selected\":{\"id\":\"1155\",\"type\":\"Selection\"},\"selection_policy\":{\"id\":\"1154\",\"type\":\"UnionRenderers\"}},\"id\":\"1134\",\"type\":\"ColumnDataSource\"},{\"attributes\":{},\"id\":\"1154\",\"type\":\"UnionRenderers\"},{\"attributes\":{},\"id\":\"1120\",\"type\":\"WheelZoomTool\"},{\"attributes\":{},\"id\":\"1155\",\"type\":\"Selection\"},{\"attributes\":{\"fill_color\":{\"value\":\"#1f77b4\"},\"line_color\":{\"value\":\"#1f77b4\"},\"size\":{\"units\":\"screen\",\"value\":8},\"x\":{\"field\":\"x\"},\"y\":{\"field\":\"y\"}},\"id\":\"1136\",\"type\":\"Circle\"},{\"attributes\":{\"active_drag\":\"auto\",\"active_inspect\":\"auto\",\"active_multi\":null,\"active_scroll\":\"auto\",\"active_tap\":\"auto\",\"tools\":[{\"id\":\"1119\",\"type\":\"PanTool\"},{\"id\":\"1120\",\"type\":\"WheelZoomTool\"},{\"id\":\"1121\",\"type\":\"BoxZoomTool\"},{\"id\":\"1122\",\"type\":\"SaveTool\"},{\"id\":\"1123\",\"type\":\"ResetTool\"},{\"id\":\"1124\",\"type\":\"HelpTool\"},{\"id\":\"1133\",\"type\":\"HoverTool\"}]},\"id\":\"1125\",\"type\":\"Toolbar\"},{\"attributes\":{},\"id\":\"1124\",\"type\":\"HelpTool\"},{\"attributes\":{},\"id\":\"1152\",\"type\":\"BasicTickFormatter\"},{\"attributes\":{\"dimension\":1,\"ticker\":{\"id\":\"1115\",\"type\":\"BasicTicker\"}},\"id\":\"1118\",\"type\":\"Grid\"},{\"attributes\":{\"callback\":null},\"id\":\"1103\",\"type\":\"DataRange1d\"},{\"attributes\":{\"source\":{\"id\":\"1134\",\"type\":\"ColumnDataSource\"}},\"id\":\"1139\",\"type\":\"CDSView\"},{\"attributes\":{\"overlay\":{\"id\":\"1153\",\"type\":\"BoxAnnotation\"}},\"id\":\"1121\",\"type\":\"BoxZoomTool\"},{\"attributes\":{},\"id\":\"1123\",\"type\":\"ResetTool\"},{\"attributes\":{},\"id\":\"1150\",\"type\":\"BasicTickFormatter\"},{\"attributes\":{\"fill_alpha\":{\"value\":0.1},\"fill_color\":{\"value\":\"#1f77b4\"},\"line_alpha\":{\"value\":0.1},\"line_color\":{\"value\":\"#1f77b4\"},\"size\":{\"units\":\"screen\",\"value\":8},\"x\":{\"field\":\"x\"},\"y\":{\"field\":\"y\"}},\"id\":\"1137\",\"type\":\"Circle\"},{\"attributes\":{},\"id\":\"1110\",\"type\":\"BasicTicker\"},{\"attributes\":{\"ticker\":{\"id\":\"1110\",\"type\":\"BasicTicker\"}},\"id\":\"1113\",\"type\":\"Grid\"}],\"root_ids\":[\"1099\"]},\"title\":\"Bokeh Application\",\"version\":\"1.2.0\"}};\n",
       "  var render_items = [{\"docid\":\"7c025d8c-2cbb-45b0-9c57-08d39d3eb4d5\",\"roots\":{\"1099\":\"7ecaf940-a451-415b-9b59-1da5a9608e9e\"}}];\n",
       "  root.Bokeh.embed.embed_items_notebook(docs_json, render_items);\n",
       "\n",
       "  }\n",
       "  if (root.Bokeh !== undefined) {\n",
       "    embed_document(root);\n",
       "  } else {\n",
       "    var attempts = 0;\n",
       "    var timer = setInterval(function(root) {\n",
       "      if (root.Bokeh !== undefined) {\n",
       "        embed_document(root);\n",
       "        clearInterval(timer);\n",
       "      }\n",
       "      attempts++;\n",
       "      if (attempts > 100) {\n",
       "        console.log(\"Bokeh: ERROR: Unable to run BokehJS code because BokehJS library is missing\");\n",
       "        clearInterval(timer);\n",
       "      }\n",
       "    }, 10, root)\n",
       "  }\n",
       "})(window);"
      ],
      "application/vnd.bokehjs_exec.v0+json": ""
     },
     "metadata": {
      "application/vnd.bokehjs_exec.v0+json": {
       "id": "1099"
      }
     },
     "output_type": "display_data"
    }
   ],
   "source": [
    "p = hl.plot.scatter(x=mt_filtered.sample_qc.dp_stats.mean,\n",
    "                    y=mt_filtered.sample_qc.call_rate,\n",
    "                    xlabel='Mean DP',\n",
    "                    ylabel='Call Rate',\n",
    "                    hover_fields={'ID': mt_filtered.s},\n",
    "                    size=8)\n",
    "show(p)"
   ]
  },
  {
   "cell_type": "code",
   "execution_count": 41,
   "metadata": {},
   "outputs": [
    {
     "name": "stderr",
     "output_type": "stream",
     "text": [
      "2020-06-03 11:08:55 Hail: WARN: export_vcf: ignored the following fields:\n",
      "    'pheno' (column)\n",
      "    'sample_qc' (column)\n",
      "    'variant_qc' (row)\n",
      "2020-06-03 11:09:02 Hail: INFO: merging 74 files totalling 251.3M...\n",
      "2020-06-03 11:09:03 Hail: INFO: while writing:\n",
      "    /data/humgen/guffantilab/exome/SystemsBio/gatk_merged_vcf/SysBio_indels_recalibrated_b37_filtered.vcf.bgz\n",
      "  merge time: 1.524s\n"
     ]
    }
   ],
   "source": [
    "# let's export this as vcf file (may be needed for other tools)\n",
    "hl.export_vcf(mt_filtered, '/data/humgen/guffantilab/exome/SystemsBio/gatk_merged_vcf/SysBio_indels_recalibrated_b37_filtered.vcf.bgz')\n"
   ]
  },
  {
   "cell_type": "code",
   "execution_count": 12,
   "metadata": {},
   "outputs": [],
   "source": [
    "# let's split it into common and rare variants\n",
    "mt_commonVariants = mt_filtered.filter_rows(mt_filtered.variant_qc.AF[1] >= 0.01)\n",
    "mt_rareVariants = mt_filtered.filter_rows(mt_filtered.variant_qc.AF[1] < 0.01)"
   ]
  },
  {
   "cell_type": "code",
   "execution_count": 20,
   "metadata": {},
   "outputs": [
    {
     "data": {
      "text/html": [
       "<p><b>Variant summary:</b></p><ul><li><p>Total variants: 106889</p></li><li><p>Alleles per variant:</p><table><thead style=\"font-weight: bold;\"><tr><th>Number of alleles</th><th>Count</th></tr></thead><tbody><tr><td>2</td><td>106889</td></tr></tbody></table></li><li><p>Counts by allele type:</p><table><thead style=\"font-weight: bold;\"><tr><th>Allele type</th><th>Count</th></tr></thead><tbody><tr><td>SNP</td><td>102130</td></tr><tr><td>Deletion</td><td>2890</td></tr><tr><td>Insertion</td><td>1869</td></tr></tbody></table></li><li><p>Transitions/Transversions:</p><table><thead style=\"font-weight: bold;\"><tr><th>Metric</th><th>Value</th></tr></thead><tbody><tr><td>Transitions</td><td>76383</td></tr><tr><td>Transversions</td><td>25747</td></tr><tr><td>Ratio</td><td>2.97</td></tr></tbody></table></li><li><p>Variants per contig:</p><table><thead style=\"font-weight: bold;\"><tr><th>Contig</th><th>Count</th></tr></thead><tbody><tr><td>1</td><td>10514</td></tr><tr><td>2</td><td>7672</td></tr><tr><td>3</td><td>5863</td></tr><tr><td>4</td><td>4345</td></tr><tr><td>5</td><td>4738</td></tr><tr><td>6</td><td>6027</td></tr><tr><td>7</td><td>5157</td></tr><tr><td>8</td><td>4073</td></tr><tr><td>9</td><td>4566</td></tr><tr><td>10</td><td>4437</td></tr><tr><td>11</td><td>6899</td></tr><tr><td>12</td><td>5458</td></tr><tr><td>13</td><td>1869</td></tr><tr><td>14</td><td>3765</td></tr><tr><td>15</td><td>3412</td></tr><tr><td>16</td><td>5142</td></tr><tr><td>17</td><td>6174</td></tr><tr><td>18</td><td>1785</td></tr><tr><td>19</td><td>7307</td></tr><tr><td>20</td><td>2902</td></tr><tr><td>21</td><td>1394</td></tr><tr><td>22</td><td>2554</td></tr><tr><td>X</td><td>825</td></tr><tr><td>Y</td><td>7</td></tr><tr><td>MT</td><td>4</td></tr></tbody></table></li></ul>"
      ],
      "text/plain": [
       "==============================\n",
       "Number of variants: 106889\n",
       "==============================\n",
       "Alleles per variant\n",
       "-------------------\n",
       "  2 alleles: 106889 variants\n",
       "==============================\n",
       "Variants per contig\n",
       "-------------------\n",
       "   1: 10514 variants\n",
       "   2: 7672 variants\n",
       "   3: 5863 variants\n",
       "   4: 4345 variants\n",
       "   5: 4738 variants\n",
       "   6: 6027 variants\n",
       "   7: 5157 variants\n",
       "   8: 4073 variants\n",
       "   9: 4566 variants\n",
       "  10: 4437 variants\n",
       "  11: 6899 variants\n",
       "  12: 5458 variants\n",
       "  13: 1869 variants\n",
       "  14: 3765 variants\n",
       "  15: 3412 variants\n",
       "  16: 5142 variants\n",
       "  17: 6174 variants\n",
       "  18: 1785 variants\n",
       "  19: 7307 variants\n",
       "  20: 2902 variants\n",
       "  21: 1394 variants\n",
       "  22: 2554 variants\n",
       "   X: 825 variants\n",
       "   Y: 7 variants\n",
       "  MT: 4 variants\n",
       "==============================\n",
       "Allele type distribution\n",
       "------------------------\n",
       "        SNP: 102130 alternate alleles (Ti: 76383, Tv: 25747, ratio: 2.97)\n",
       "   Deletion: 2890 alternate alleles\n",
       "  Insertion: 1869 alternate alleles\n",
       "=============================="
      ]
     },
     "metadata": {},
     "output_type": "display_data"
    }
   ],
   "source": [
    "hl.summarize_variants(mt_commonVariants)"
   ]
  },
  {
   "cell_type": "code",
   "execution_count": 40,
   "metadata": {},
   "outputs": [
    {
     "data": {
      "text/html": [
       "<p><b>Variant summary:</b></p><ul><li><p>Total variants: 148759</p></li><li><p>Alleles per variant:</p><table><thead style=\"font-weight: bold;\"><tr><th>Number of alleles</th><th>Count</th></tr></thead><tbody><tr><td>2</td><td>148759</td></tr></tbody></table></li><li><p>Counts by allele type:</p><table><thead style=\"font-weight: bold;\"><tr><th>Allele type</th><th>Count</th></tr></thead><tbody><tr><td>SNP</td><td>142564</td></tr><tr><td>Deletion</td><td>4268</td></tr><tr><td>Insertion</td><td>1927</td></tr></tbody></table></li><li><p>Transitions/Transversions:</p><table><thead style=\"font-weight: bold;\"><tr><th>Metric</th><th>Value</th></tr></thead><tbody><tr><td>Transitions</td><td>105782</td></tr><tr><td>Transversions</td><td>36782</td></tr><tr><td>Ratio</td><td>2.88</td></tr></tbody></table></li><li><p>Variants per contig:</p><table><thead style=\"font-weight: bold;\"><tr><th>Contig</th><th>Count</th></tr></thead><tbody><tr><td>1</td><td>14597</td></tr><tr><td>2</td><td>10839</td></tr><tr><td>3</td><td>8411</td></tr><tr><td>4</td><td>5816</td></tr><tr><td>5</td><td>6819</td></tr><tr><td>6</td><td>7644</td></tr><tr><td>7</td><td>7398</td></tr><tr><td>8</td><td>5681</td></tr><tr><td>9</td><td>6495</td></tr><tr><td>10</td><td>5910</td></tr><tr><td>11</td><td>9788</td></tr><tr><td>12</td><td>7576</td></tr><tr><td>13</td><td>2632</td></tr><tr><td>14</td><td>5048</td></tr><tr><td>15</td><td>5044</td></tr><tr><td>16</td><td>7612</td></tr><tr><td>17</td><td>8715</td></tr><tr><td>18</td><td>2383</td></tr><tr><td>19</td><td>10558</td></tr><tr><td>20</td><td>4171</td></tr><tr><td>21</td><td>1872</td></tr><tr><td>22</td><td>3614</td></tr><tr><td>X</td><td>133</td></tr><tr><td>Y</td><td>2</td></tr><tr><td>MT</td><td>1</td></tr></tbody></table></li></ul>"
      ],
      "text/plain": [
       "==============================\n",
       "Number of variants: 148759\n",
       "==============================\n",
       "Alleles per variant\n",
       "-------------------\n",
       "  2 alleles: 148759 variants\n",
       "==============================\n",
       "Variants per contig\n",
       "-------------------\n",
       "   1: 14597 variants\n",
       "   2: 10839 variants\n",
       "   3: 8411 variants\n",
       "   4: 5816 variants\n",
       "   5: 6819 variants\n",
       "   6: 7644 variants\n",
       "   7: 7398 variants\n",
       "   8: 5681 variants\n",
       "   9: 6495 variants\n",
       "  10: 5910 variants\n",
       "  11: 9788 variants\n",
       "  12: 7576 variants\n",
       "  13: 2632 variants\n",
       "  14: 5048 variants\n",
       "  15: 5044 variants\n",
       "  16: 7612 variants\n",
       "  17: 8715 variants\n",
       "  18: 2383 variants\n",
       "  19: 10558 variants\n",
       "  20: 4171 variants\n",
       "  21: 1872 variants\n",
       "  22: 3614 variants\n",
       "   X: 133 variants\n",
       "   Y: 2 variants\n",
       "  MT: 1 variants\n",
       "==============================\n",
       "Allele type distribution\n",
       "------------------------\n",
       "        SNP: 142564 alternate alleles (Ti: 105782, Tv: 36782, ratio: 2.88)\n",
       "   Deletion: 4268 alternate alleles\n",
       "  Insertion: 1927 alternate alleles\n",
       "=============================="
      ]
     },
     "metadata": {},
     "output_type": "display_data"
    }
   ],
   "source": [
    "hl.summarize_variants(mt_rareVariants)"
   ]
  },
  {
   "cell_type": "code",
   "execution_count": null,
   "metadata": {},
   "outputs": [],
   "source": []
  },
  {
   "cell_type": "code",
   "execution_count": null,
   "metadata": {},
   "outputs": [],
   "source": []
  },
  {
   "cell_type": "markdown",
   "metadata": {},
   "source": [
    "## Annotation with SNPEff"
   ]
  },
  {
   "cell_type": "code",
   "execution_count": null,
   "metadata": {},
   "outputs": [],
   "source": [
    "%%bash\n",
    "# SNPEff\n",
    "cd /data/humgen/guffantilab/exome/SystemsBio/gatk_merged_vcf\n",
    "\n",
    "java -Xmx200g \\\n",
    "    -jar /PHShome/bm363/bin/snpEff/snpEff.jar \\\n",
    "    -v \\\n",
    "    -stats SysBio_snpeff_summary1.html \\\n",
    "    GRCh37.75 \\\n",
    "    SysBio_indels_recalibrated_b37.vcf \\\n",
    "    > SysBio_indels_recalibrated_b37_snpeff_report.vcf\n",
    "\n"
   ]
  },
  {
   "cell_type": "code",
   "execution_count": 84,
   "metadata": {},
   "outputs": [],
   "source": [
    "%%bash\n",
    "# SNPEff\n",
    "# after QC with Hail\n",
    "cd /data/humgen/guffantilab/exome/SystemsBio/gatk_merged_vcf\n",
    "\n",
    "java -Xmx200g \\\n",
    "    -jar /PHShome/bm363/bin/snpEff/snpEff.jar \\\n",
    "    -v \\\n",
    "    -stats SysBio_snpeff_summary2.html \\\n",
    "    GRCh37.75 \\\n",
    "    SysBio_indels_recalibrated_b37_filtered.vcf.bgz \\\n",
    "    > SysBio_indels_recalibrated_b37_filtered_snpeff_report.vcf\n",
    "\n",
    "\n"
   ]
  },
  {
   "cell_type": "code",
   "execution_count": null,
   "metadata": {},
   "outputs": [],
   "source": []
  },
  {
   "cell_type": "code",
   "execution_count": null,
   "metadata": {},
   "outputs": [],
   "source": []
  },
  {
   "cell_type": "markdown",
   "metadata": {},
   "source": [
    "## Relatedness estimate"
   ]
  },
  {
   "cell_type": "code",
   "execution_count": null,
   "metadata": {},
   "outputs": [],
   "source": [
    "# run the following on an hna001 terminal with a larger memory\n",
    "ibd1 = hl.identity_by_descent(mt_filtered)\n",
    "ibd1.show()\n"
   ]
  },
  {
   "cell_type": "code",
   "execution_count": null,
   "metadata": {},
   "outputs": [],
   "source": [
    "#import pandas as pd\n",
    "ibd2 = ibd1.to_pandas()\n",
    "# write it to disk\n",
    "ibd2.to_csv(r'/data/humgen/guffantilab/exome/SystemsBio/gatk_merged_vcf/ibd2.txt', index=None, sep='\\t', mode='a')\n"
   ]
  },
  {
   "cell_type": "code",
   "execution_count": null,
   "metadata": {},
   "outputs": [],
   "source": []
  },
  {
   "cell_type": "code",
   "execution_count": null,
   "metadata": {},
   "outputs": [],
   "source": []
  },
  {
   "cell_type": "markdown",
   "metadata": {},
   "source": [
    "## Load the microarray data\n",
    "The import_plink function is not working yet. So let's first convert the bed file to vcf with PLINK and import the vcf here."
   ]
  },
  {
   "cell_type": "code",
   "execution_count": null,
   "metadata": {},
   "outputs": [],
   "source": [
    "%%bash\n",
    "\n",
    "cd /data/humgen/burook/data_imputed/sb/cobg_dir_genome_wide/\n",
    "\n",
    "# note: it is imputed and QC'ed data\n",
    "#/PHShome/bm363/bin/plink2 \\\n",
    "#  --bfile /data/humgen/burook/data_imputed/sb/cobg_dir_genome_wide/pts_sb1_mix_bm-qc1.hg19.ch.fl.bgs \\\n",
    "#  --recode vcf-iid \\\n",
    "#  --out pts_sb1_mix_bm-qc1.hg19.ch.fl.bgs\n"
   ]
  },
  {
   "cell_type": "code",
   "execution_count": 15,
   "metadata": {},
   "outputs": [
    {
     "name": "stderr",
     "output_type": "stream",
     "text": [
      "2020-06-03 21:38:18 Hail: INFO: Coerced almost-sorted dataset\n",
      "2020-06-03 21:38:29 Hail: INFO: wrote matrix table with 1799302 rows and 275 columns in 66 partitions to /data/humgen/burook/data_imputed/sb/cobg_dir_genome_wide/pts_sb1_mix_bm-qc1.hg19.ch.fl.bgs.mt\n"
     ]
    }
   ],
   "source": [
    "# let's convert it to Hail's TableMatrix format\n",
    "#hl.import_vcf('/data/humgen/burook/data_imputed/sb/cobg_dir_genome_wide/pts_sb1_mix_bm-qc1.hg19.ch.fl.bgs.vcf',reference_genome='GRCh37').write('/data/humgen/burook/data_imputed/sb/cobg_dir_genome_wide/pts_sb1_mix_bm-qc1.hg19.ch.fl.bgs.mt', overwrite=True)\n"
   ]
  },
  {
   "cell_type": "code",
   "execution_count": 13,
   "metadata": {},
   "outputs": [],
   "source": [
    "# load the microarray data\n",
    "SB_microarray = hl.read_matrix_table('/data/humgen/burook/data_imputed/sb/cobg_dir_genome_wide/pts_sb1_mix_bm-qc1.hg19.ch.fl.bgs.mt')\n"
   ]
  },
  {
   "cell_type": "code",
   "execution_count": 14,
   "metadata": {
    "scrolled": true
   },
   "outputs": [
    {
     "name": "stderr",
     "output_type": "stream",
     "text": [
      "2020-06-06 18:50:40 Hail: INFO: Reading table with no type imputation\n",
      "  Loading column 'ID' as type 'str' (type not specified)\n",
      "  Loading column 'sid' as type 'str' (type not specified)\n",
      "\n"
     ]
    }
   ],
   "source": [
    "# let's import pheno data and incorporate it with the MatrixTable data\n",
    "pheno2 = hl.import_table('/data/humgen/guffantilab/exome/SystemsBio/gatk_merged_vcf/SB_pheno2.txt',\n",
    "                         impute=False,\n",
    "                         key='ID')"
   ]
  },
  {
   "cell_type": "code",
   "execution_count": 71,
   "metadata": {},
   "outputs": [
    {
     "data": {
      "text/html": [
       "<p><b>Variant summary:</b></p><ul><li><p>Total variants: 1799302</p></li><li><p>Alleles per variant:</p><table><thead style=\"font-weight: bold;\"><tr><th>Number of alleles</th><th>Count</th></tr></thead><tbody><tr><td>2</td><td>1799302</td></tr></tbody></table></li><li><p>Counts by allele type:</p><table><thead style=\"font-weight: bold;\"><tr><th>Allele type</th><th>Count</th></tr></thead><tbody><tr><td>SNP</td><td>1799302</td></tr></tbody></table></li><li><p>Transitions/Transversions:</p><table><thead style=\"font-weight: bold;\"><tr><th>Metric</th><th>Value</th></tr></thead><tbody><tr><td>Transitions</td><td>1238210</td></tr><tr><td>Transversions</td><td>561092</td></tr><tr><td>Ratio</td><td>2.21</td></tr></tbody></table></li><li><p>Variants per contig:</p><table><thead style=\"font-weight: bold;\"><tr><th>Contig</th><th>Count</th></tr></thead><tbody><tr><td>1</td><td>144690</td></tr><tr><td>2</td><td>154654</td></tr><tr><td>3</td><td>141417</td></tr><tr><td>4</td><td>134325</td></tr><tr><td>5</td><td>110736</td></tr><tr><td>6</td><td>149368</td></tr><tr><td>7</td><td>99317</td></tr><tr><td>8</td><td>98646</td></tr><tr><td>9</td><td>70708</td></tr><tr><td>10</td><td>98054</td></tr><tr><td>11</td><td>94259</td></tr><tr><td>12</td><td>87761</td></tr><tr><td>13</td><td>74912</td></tr><tr><td>14</td><td>57584</td></tr><tr><td>15</td><td>40469</td></tr><tr><td>16</td><td>41879</td></tr><tr><td>17</td><td>38917</td></tr><tr><td>18</td><td>49650</td></tr><tr><td>19</td><td>34480</td></tr><tr><td>20</td><td>35908</td></tr><tr><td>21</td><td>22576</td></tr><tr><td>22</td><td>18992</td></tr></tbody></table></li></ul>"
      ],
      "text/plain": [
       "==============================\n",
       "Number of variants: 1799302\n",
       "==============================\n",
       "Alleles per variant\n",
       "-------------------\n",
       "  2 alleles: 1799302 variants\n",
       "==============================\n",
       "Variants per contig\n",
       "-------------------\n",
       "   1: 144690 variants\n",
       "   2: 154654 variants\n",
       "   3: 141417 variants\n",
       "   4: 134325 variants\n",
       "   5: 110736 variants\n",
       "   6: 149368 variants\n",
       "   7: 99317 variants\n",
       "   8: 98646 variants\n",
       "   9: 70708 variants\n",
       "  10: 98054 variants\n",
       "  11: 94259 variants\n",
       "  12: 87761 variants\n",
       "  13: 74912 variants\n",
       "  14: 57584 variants\n",
       "  15: 40469 variants\n",
       "  16: 41879 variants\n",
       "  17: 38917 variants\n",
       "  18: 49650 variants\n",
       "  19: 34480 variants\n",
       "  20: 35908 variants\n",
       "  21: 22576 variants\n",
       "  22: 18992 variants\n",
       "==============================\n",
       "Allele type distribution\n",
       "------------------------\n",
       "  SNP: 1799302 alternate alleles (Ti: 1238210, Tv: 561092, ratio: 2.21)\n",
       "=============================="
      ]
     },
     "metadata": {},
     "output_type": "display_data"
    }
   ],
   "source": [
    "hl.summarize_variants(SB_microarray)"
   ]
  },
  {
   "cell_type": "markdown",
   "metadata": {},
   "source": [
    "## Concordance between WES sample and array data with the same ID"
   ]
  },
  {
   "cell_type": "code",
   "execution_count": 15,
   "metadata": {},
   "outputs": [],
   "source": [
    "# now incorporate it to the genotype data\n",
    "SB_microarray = SB_microarray.annotate_cols(pheno = pheno2[SB_microarray.s])"
   ]
  },
  {
   "cell_type": "code",
   "execution_count": 16,
   "metadata": {},
   "outputs": [],
   "source": [
    "# now let's change the key so as to compare it with the exome data\n",
    "SB_microarray = SB_microarray.key_cols_by(s = SB_microarray.col.pheno.sid)"
   ]
  },
  {
   "cell_type": "code",
   "execution_count": 17,
   "metadata": {},
   "outputs": [],
   "source": [
    "# now let's filter out some samples with missing label\n",
    "SB_microarray = SB_microarray.filter_cols(~hl.is_missing(SB_microarray.col.s))"
   ]
  },
  {
   "cell_type": "code",
   "execution_count": 18,
   "metadata": {},
   "outputs": [
    {
     "name": "stderr",
     "output_type": "stream",
     "text": [
      "2020-06-06 19:01:11 Hail: INFO: concordance: including 174 shared samples (232 total on left, 197 total on right)\n",
      "2020-06-06 19:01:22 Hail: INFO: concordance: total concordance 89.95%\n",
      "2020-06-06 19:01:22 Hail: WARN: cols(): Resulting column table is sorted by 'col_key'.\n",
      "    To preserve matrix table column order, first unkey columns with 'key_cols_by()'\n"
     ]
    }
   ],
   "source": [
    "summary, samples, variants = hl.concordance(mt_commonVariants, SB_microarray)"
   ]
  },
  {
   "cell_type": "code",
   "execution_count": 84,
   "metadata": {},
   "outputs": [
    {
     "name": "stdout",
     "output_type": "stream",
     "text": [
      "[[0, 820963, 189650403, 95393203, 23823067],\n",
      " [3903, 0, 76, 58, 17],\n",
      " [14127063, 2317, 2069598, 122670, 22201],\n",
      " [2885048, 2071, 131887, 809861, 20832],\n",
      " [2004970, 561, 22161, 17794, 168808]]\n"
     ]
    }
   ],
   "source": [
    "pprint(summary)"
   ]
  },
  {
   "cell_type": "code",
   "execution_count": 27,
   "metadata": {},
   "outputs": [],
   "source": [
    "total_concordant = summary[2][2] + summary[3][3] + summary[4][4]\n",
    "total_discordant = sum([sum(s[2:]) for s in summary[2:]]) - total_concordant"
   ]
  },
  {
   "cell_type": "code",
   "execution_count": 70,
   "metadata": {},
   "outputs": [
    {
     "name": "stdout",
     "output_type": "stream",
     "text": [
      "Number of variants in the WES (common): 106889\n",
      "Number of variants in the array: 1799302\n",
      "Number of variants common between array and WES: 16899\n"
     ]
    }
   ],
   "source": [
    "print('Number of variants in the WES (common): %d' % mt_commonVariants.count_rows())\n",
    "print('Number of variants in the array: %d' % SB_microarray.count_rows())\n",
    "print('Number of variants common between array and WES: %d' % ((total_concordant + total_discordant)/samples.count()))\n"
   ]
  },
  {
   "cell_type": "code",
   "execution_count": 19,
   "metadata": {},
   "outputs": [
    {
     "data": {
      "text/plain": [
       "134"
      ]
     },
     "execution_count": 19,
     "metadata": {},
     "output_type": "execute_result"
    }
   ],
   "source": [
    "samples.filter(samples.n_discordant<=200).count()"
   ]
  },
  {
   "cell_type": "markdown",
   "metadata": {},
   "source": [
    "So only 134 samples can be mapped to array samples with the same name."
   ]
  },
  {
   "cell_type": "code",
   "execution_count": null,
   "metadata": {
    "scrolled": true
   },
   "outputs": [],
   "source": []
  },
  {
   "cell_type": "markdown",
   "metadata": {},
   "source": [
    "## Merging WES and array data "
   ]
  },
  {
   "cell_type": "code",
   "execution_count": 195,
   "metadata": {},
   "outputs": [],
   "source": [
    "# trip down genotype entries and col entries\n",
    "tmp1 = mt_commonVariants.select_entries(mt_commonVariants.GT)\n",
    "tmp1 = tmp1.select_cols()\n",
    "tmp2 = SB_microarray.select_cols()\n",
    "\n",
    "# now merge them\n",
    "merged_wes_and_array = tmp1.union_cols(tmp2)\n"
   ]
  },
  {
   "cell_type": "code",
   "execution_count": 196,
   "metadata": {},
   "outputs": [
    {
     "data": {
      "text/plain": [
       "(16921, 507)"
      ]
     },
     "execution_count": 196,
     "metadata": {},
     "output_type": "execute_result"
    }
   ],
   "source": [
    "# number of common variants and total combined samples\n",
    "merged_wes_and_array.count()"
   ]
  },
  {
   "cell_type": "code",
   "execution_count": 199,
   "metadata": {},
   "outputs": [],
   "source": [
    "# run the following on an hna001 terminal with a larger memory\n",
    "ibd3 = hl.identity_by_descent(merged_wes_and_array)\n",
    "#ibd3.show()"
   ]
  },
  {
   "cell_type": "code",
   "execution_count": 200,
   "metadata": {},
   "outputs": [
    {
     "name": "stderr",
     "output_type": "stream",
     "text": [
      "2020-06-04 23:41:23 Hail: INFO: Ordering unsorted dataset with network shuffle\n"
     ]
    }
   ],
   "source": [
    "import pandas as pd\n",
    "ibd4 = ibd3.to_pandas()\n",
    "# write it to disk\n",
    "ibd4.to_csv(r'/data/humgen/guffantilab/exome/SystemsBio/gatk_merged_vcf/ibd4.txt', index=None, sep='\\t', mode='a')\n"
   ]
  },
  {
   "cell_type": "code",
   "execution_count": null,
   "metadata": {},
   "outputs": [],
   "source": [
    "# inset R codes"
   ]
  },
  {
   "cell_type": "code",
   "execution_count": null,
   "metadata": {},
   "outputs": [],
   "source": []
  },
  {
   "cell_type": "code",
   "execution_count": 24,
   "metadata": {},
   "outputs": [
    {
     "name": "stderr",
     "output_type": "stream",
     "text": [
      "2020-06-06 21:34:53 Hail: INFO: Reading table with no type imputation\n",
      "  Loading column 'wes' as type 'str' (type not specified)\n",
      "  Loading column 'array1' as type 'str' (type not specified)\n",
      "  Loading column 'ibd_PI_HAT' as type 'str' (type not specified)\n",
      "\n"
     ]
    }
   ],
   "source": [
    "# let's import the mapping file\n",
    "mapping_wes_to_arra1 = hl.import_table('/data/humgen/guffantilab/exome/SystemsBio/gatk_merged_vcf/mapping_wes_to_arra1.txt',\n",
    "                         impute=False,\n",
    "                         key='wes')"
   ]
  },
  {
   "cell_type": "code",
   "execution_count": 25,
   "metadata": {},
   "outputs": [],
   "source": [
    "# now incorporate it to the genotype data\n",
    "mt_filtered = mt_filtered.annotate_cols(pheno = mapping_wes_to_arra1[mt_filtered.s])"
   ]
  },
  {
   "cell_type": "code",
   "execution_count": 26,
   "metadata": {},
   "outputs": [],
   "source": [
    "# now let's change the key so we can load the pheno data\n",
    "mt_filtered = mt_filtered.key_cols_by(s = mt_filtered.col.pheno.array1)"
   ]
  },
  {
   "cell_type": "code",
   "execution_count": 27,
   "metadata": {},
   "outputs": [],
   "source": [
    "# let's remove samples that are not mapped to an array data\n",
    "mt_filtered = mt_filtered.filter_cols(~hl.is_missing(mt_filtered.col.s))"
   ]
  },
  {
   "cell_type": "code",
   "execution_count": 28,
   "metadata": {},
   "outputs": [
    {
     "name": "stderr",
     "output_type": "stream",
     "text": [
      "2020-06-06 21:36:13 Hail: INFO: wrote matrix table with 255648 rows and 164 columns in 74 partitions to /data/humgen/guffantilab/exome/SystemsBio/gatk_merged_vcf/mt_filtered_arrayMapped.mt\n"
     ]
    }
   ],
   "source": [
    "# expot data fo association analysis\n",
    "\n",
    "mt_filtered.write('/data/humgen/guffantilab/exome/SystemsBio/gatk_merged_vcf/mt_filtered_arrayMapped.mt', overwrite=True)\n"
   ]
  },
  {
   "cell_type": "code",
   "execution_count": 16,
   "metadata": {},
   "outputs": [
    {
     "name": "stderr",
     "output_type": "stream",
     "text": [
      "2020-06-06 21:29:29 Hail: INFO: Loading 177 fields. Counts by type:\n",
      "  177 fields: str (type not specified)\n"
     ]
    }
   ],
   "source": [
    "# let's import pheno data\n",
    "pheno1 = hl.import_table('/data/humgen/guffantilab/exome/SystemsBio/gatk_merged_vcf/SB_pheno1.txt',\n",
    "                        impute=False,\n",
    "                        key='ID')"
   ]
  },
  {
   "cell_type": "code",
   "execution_count": 17,
   "metadata": {},
   "outputs": [],
   "source": [
    "# now incorporate it to the mt data\n",
    "mt_filtered = mt_filtered.annotate_cols(pheno = pheno1[mt_filtered.s])"
   ]
  },
  {
   "cell_type": "code",
   "execution_count": 18,
   "metadata": {},
   "outputs": [
    {
     "data": {
      "text/plain": [
       "{'Negative': 85, 'Positive': 77, None: 2}"
      ]
     },
     "execution_count": 18,
     "metadata": {},
     "output_type": "execute_result"
    }
   ],
   "source": [
    "mt_filtered.aggregate_cols(hl.agg.counter(mt_filtered.pheno.PTSD_status))\n"
   ]
  },
  {
   "cell_type": "code",
   "execution_count": 19,
   "metadata": {},
   "outputs": [],
   "source": []
  },
  {
   "cell_type": "code",
   "execution_count": null,
   "metadata": {},
   "outputs": [],
   "source": []
  },
  {
   "cell_type": "markdown",
   "metadata": {},
   "source": [
    "## Mapping to microarray data"
   ]
  },
  {
   "cell_type": "markdown",
   "metadata": {},
   "source": [
    "### Concordance with the first array 1"
   ]
  },
  {
   "cell_type": "code",
   "execution_count": 87,
   "metadata": {},
   "outputs": [
    {
     "name": "stderr",
     "output_type": "stream",
     "text": [
      "2020-06-04 19:02:12 Hail: INFO: concordance: including 150 shared samples (232 total on left, 150 total on right)\n",
      "2020-06-04 19:02:28 Hail: INFO: concordance: total concordance 89.43%\n"
     ]
    }
   ],
   "source": [
    "# compute concordance\n",
    "summary, samples, variants = hl.concordance(mt_commonVariants, SB_microarray)"
   ]
  },
  {
   "cell_type": "code",
   "execution_count": 95,
   "metadata": {},
   "outputs": [],
   "source": [
    "import pandas as pd\n",
    "#n_discordant1 = samples.to_pandas()\n",
    "# write it to disk\n",
    "n_discordant1.to_csv(r'/data/humgen/guffantilab/exome/SystemsBio/gatk_merged_vcf/n_discordant1.txt', index=None, sep='\\t', mode='a')\n"
   ]
  },
  {
   "cell_type": "code",
   "execution_count": null,
   "metadata": {},
   "outputs": [],
   "source": []
  },
  {
   "cell_type": "markdown",
   "metadata": {},
   "source": [
    "### Concordance with the first array 2"
   ]
  },
  {
   "cell_type": "code",
   "execution_count": 176,
   "metadata": {},
   "outputs": [],
   "source": [
    "# load the microarray data\n",
    "SB_microarray = hl.read_matrix_table('/data/humgen/burook/data_imputed/sb/cobg_dir_genome_wide/pts_sb1_mix_bm-qc1.hg19.ch.fl.bgs.mt')\n"
   ]
  },
  {
   "cell_type": "code",
   "execution_count": 177,
   "metadata": {},
   "outputs": [
    {
     "name": "stderr",
     "output_type": "stream",
     "text": [
      "2020-06-04 20:40:06 Hail: INFO: Reading table with no type imputation\n",
      "  Loading column 'INDV1' as type 'str' (type not specified)\n",
      "  Loading column 'INDV2' as type 'str' (type not specified)\n",
      "  Loading column 'RELATEDNESS_PHI' as type 'str' (type not specified)\n",
      "  Loading column 'array1' as type 'str' (type not specified)\n",
      "  Loading column 'array2' as type 'str' (type not specified)\n",
      "\n"
     ]
    }
   ],
   "source": [
    "# let's import the mapping file\n",
    "map_to_array = hl.import_table('/data/humgen/guffantilab/exome/SystemsBio/gatk_merged_vcf/map_to_array.txt',\n",
    "                         impute=False,\n",
    "                         key='array2')"
   ]
  },
  {
   "cell_type": "code",
   "execution_count": 178,
   "metadata": {},
   "outputs": [],
   "source": [
    "# now incorporate it to the genotype data\n",
    "SB_microarray = SB_microarray.annotate_cols(pheno = map_to_array[SB_microarray.s])"
   ]
  },
  {
   "cell_type": "code",
   "execution_count": 179,
   "metadata": {},
   "outputs": [],
   "source": [
    "# now let's change the key so as to compare it with the exome data\n",
    "SB_microarray = SB_microarray.key_cols_by(s = SB_microarray.col.pheno.INDV1)"
   ]
  },
  {
   "cell_type": "code",
   "execution_count": 180,
   "metadata": {},
   "outputs": [],
   "source": [
    "# now let's filter out some samples with missing label\n",
    "SB_microarray = SB_microarray.filter_cols(~hl.is_missing(SB_microarray.col.s))"
   ]
  },
  {
   "cell_type": "code",
   "execution_count": 181,
   "metadata": {},
   "outputs": [],
   "source": [
    "# remove duplicate column key ids\n",
    "SB_microarray = SB_microarray.distinct_by_col()"
   ]
  },
  {
   "cell_type": "code",
   "execution_count": 182,
   "metadata": {},
   "outputs": [
    {
     "name": "stderr",
     "output_type": "stream",
     "text": [
      "2020-06-04 20:40:11 Hail: INFO: concordance: including 143 shared samples (232 total on left, 143 total on right)\n",
      "2020-06-04 20:40:22 Hail: INFO: concordance: total concordance 89.50%\n"
     ]
    }
   ],
   "source": [
    "# compute concordance\n",
    "summary, samples, variants = hl.concordance(mt_commonVariants, SB_microarray)"
   ]
  },
  {
   "cell_type": "code",
   "execution_count": 184,
   "metadata": {},
   "outputs": [
    {
     "data": {
      "text/html": [
       "<table><thead style=\"font-weight: bold;\"><tr><td>s</td><td>n_discordant</td></tr>\n",
       "<tr><td>str</td><td>int64</td></tr>\n",
       "</thead><tbody><tr><td>&quot;201048_S2&quot;</td><td>144</td></tr>\n",
       "<tr><td>&quot;201054_S8&quot;</td><td>33</td></tr>\n",
       "<tr><td>&quot;201080_S8&quot;</td><td>39</td></tr>\n",
       "<tr><td>&quot;201086_S9&quot;</td><td>25</td></tr>\n",
       "<tr><td>&quot;201087_S6&quot;</td><td>17</td></tr>\n",
       "<tr><td>&quot;201105_S6&quot;</td><td>7834</td></tr>\n",
       "<tr><td>&quot;201108_S7&quot;</td><td>7637</td></tr>\n",
       "<tr><td>&quot;201109_S7&quot;</td><td>7659</td></tr>\n",
       "<tr><td>&quot;201128_S8&quot;</td><td>9</td></tr>\n",
       "<tr><td>&quot;201132_S3&quot;</td><td>7761</td></tr>\n",
       "<tr><td>&quot;201140_S2&quot;</td><td>10</td></tr>\n",
       "<tr><td>&quot;201140_S7&quot;</td><td>11</td></tr>\n",
       "<tr><td>&quot;201141_S1&quot;</td><td>22</td></tr>\n",
       "<tr><td>&quot;201143_S9&quot;</td><td>41</td></tr>\n",
       "<tr><td>&quot;201144_S7&quot;</td><td>33</td></tr>\n",
       "<tr><td>&quot;201151_S6&quot;</td><td>11</td></tr>\n",
       "<tr><td>&quot;201164_S8&quot;</td><td>13</td></tr>\n",
       "<tr><td>&quot;201177_S3&quot;</td><td>13</td></tr>\n",
       "<tr><td>&quot;201178_S9&quot;</td><td>7807</td></tr>\n",
       "<tr><td>&quot;201181_S7&quot;</td><td>11</td></tr>\n",
       "<tr><td>&quot;201186_S4&quot;</td><td>6989</td></tr>\n",
       "<tr><td>&quot;201189_S2&quot;</td><td>35</td></tr>\n",
       "<tr><td>&quot;201190_S3&quot;</td><td>38</td></tr>\n",
       "<tr><td>&quot;201194_S6&quot;</td><td>23</td></tr>\n",
       "<tr><td>&quot;201198_S3&quot;</td><td>7918</td></tr>\n",
       "<tr><td>&quot;201199_S1&quot;</td><td>11</td></tr>\n",
       "<tr><td>&quot;201199_S4&quot;</td><td>3930</td></tr>\n",
       "<tr><td>&quot;201200_S2&quot;</td><td>40</td></tr>\n",
       "<tr><td>&quot;201205_S2&quot;</td><td>7334</td></tr>\n",
       "<tr><td>&quot;201210_S8&quot;</td><td>17</td></tr>\n",
       "<tr><td>&quot;201225_S2&quot;</td><td>15</td></tr>\n",
       "<tr><td>&quot;201229_S5&quot;</td><td>15</td></tr>\n",
       "<tr><td>&quot;201232_S6&quot;</td><td>17</td></tr>\n",
       "<tr><td>&quot;201233_S9&quot;</td><td>27</td></tr>\n",
       "<tr><td>&quot;201234_S2&quot;</td><td>7337</td></tr>\n",
       "<tr><td>&quot;201234_S8&quot;</td><td>7339</td></tr>\n",
       "<tr><td>&quot;201242_S4&quot;</td><td>15</td></tr>\n",
       "<tr><td>&quot;201242_S5&quot;</td><td>17</td></tr>\n",
       "<tr><td>&quot;201246_S6&quot;</td><td>19</td></tr>\n",
       "<tr><td>&quot;201268_S1&quot;</td><td>6472</td></tr>\n",
       "<tr><td>&quot;201269_S8&quot;</td><td>6972</td></tr>\n",
       "<tr><td>&quot;201276_S3&quot;</td><td>21</td></tr>\n",
       "<tr><td>&quot;201283_S5&quot;</td><td>15</td></tr>\n",
       "<tr><td>&quot;201286_S7&quot;</td><td>12</td></tr>\n",
       "<tr><td>&quot;201287_S1&quot;</td><td>7476</td></tr>\n",
       "<tr><td>&quot;201318_S1&quot;</td><td>39</td></tr>\n",
       "<tr><td>&quot;201327_S7&quot;</td><td>28</td></tr>\n",
       "<tr><td>&quot;201328_S1&quot;</td><td>41</td></tr>\n",
       "<tr><td>&quot;201349_S4&quot;</td><td>6882</td></tr>\n",
       "<tr><td>&quot;201361_S1&quot;</td><td>7736</td></tr>\n",
       "<tr><td>&quot;201367_S1&quot;</td><td>18</td></tr>\n",
       "<tr><td>&quot;201368_S9&quot;</td><td>23</td></tr>\n",
       "<tr><td>&quot;201372_S2&quot;</td><td>11</td></tr>\n",
       "<tr><td>&quot;201389_S1&quot;</td><td>8</td></tr>\n",
       "<tr><td>&quot;201399_S5&quot;</td><td>15</td></tr>\n",
       "<tr><td>&quot;201409_S6&quot;</td><td>14</td></tr>\n",
       "<tr><td>&quot;201410_S8&quot;</td><td>11</td></tr>\n",
       "<tr><td>&quot;201418_S2&quot;</td><td>34</td></tr>\n",
       "<tr><td>&quot;202002_S1&quot;</td><td>15</td></tr>\n",
       "<tr><td>&quot;202004_S1&quot;</td><td>22</td></tr>\n",
       "<tr><td>&quot;202008_S1&quot;</td><td>8</td></tr>\n",
       "<tr><td>&quot;202009_S3&quot;</td><td>13</td></tr>\n",
       "<tr><td>&quot;202011_S5&quot;</td><td>7779</td></tr>\n",
       "<tr><td>&quot;202018_S4&quot;</td><td>7047</td></tr>\n",
       "<tr><td>&quot;202019_S3&quot;</td><td>6722</td></tr>\n",
       "<tr><td>&quot;202038_S2&quot;</td><td>21</td></tr>\n",
       "<tr><td>&quot;202041_S6&quot;</td><td>14</td></tr>\n",
       "<tr><td>&quot;202044_S3&quot;</td><td>18</td></tr>\n",
       "<tr><td>&quot;202050_S3&quot;</td><td>7655</td></tr>\n",
       "<tr><td>&quot;202050_S5&quot;</td><td>7633</td></tr>\n",
       "<tr><td>&quot;202052_S1&quot;</td><td>7357</td></tr>\n",
       "<tr><td>&quot;202060_S5&quot;</td><td>7131</td></tr>\n",
       "<tr><td>&quot;202061_S7&quot;</td><td>7087</td></tr>\n",
       "<tr><td>&quot;202063_S8&quot;</td><td>7308</td></tr>\n",
       "<tr><td>&quot;202067_S8&quot;</td><td>48</td></tr>\n",
       "<tr><td>&quot;202068_S4&quot;</td><td>27</td></tr>\n",
       "<tr><td>&quot;202069_S9&quot;</td><td>32</td></tr>\n",
       "<tr><td>&quot;202072_S2&quot;</td><td>26</td></tr>\n",
       "<tr><td>&quot;202091_S5&quot;</td><td>25</td></tr>\n",
       "<tr><td>&quot;202093_S3&quot;</td><td>12</td></tr>\n",
       "<tr><td>&quot;202094_S5&quot;</td><td>25</td></tr>\n",
       "<tr><td>&quot;202096_S6&quot;</td><td>15</td></tr>\n",
       "<tr><td>&quot;202101_S9&quot;</td><td>39</td></tr>\n",
       "<tr><td>&quot;202105_S3&quot;</td><td>6722</td></tr>\n",
       "<tr><td>&quot;202110_S7&quot;</td><td>6906</td></tr>\n",
       "<tr><td>&quot;202111_S6&quot;</td><td>18</td></tr>\n",
       "<tr><td>&quot;202117_S7&quot;</td><td>47</td></tr>\n",
       "<tr><td>&quot;202125_S4&quot;</td><td>25</td></tr>\n",
       "<tr><td>&quot;202127_S2&quot;</td><td>7768</td></tr>\n",
       "<tr><td>&quot;202138_S9&quot;</td><td>30</td></tr>\n",
       "<tr><td>&quot;202139_S4&quot;</td><td>12</td></tr>\n",
       "<tr><td>&quot;202143_S8&quot;</td><td>36</td></tr>\n",
       "<tr><td>&quot;202144_S4&quot;</td><td>7384</td></tr>\n",
       "<tr><td>&quot;202147_S7&quot;</td><td>65</td></tr>\n",
       "<tr><td>&quot;202155_S6&quot;</td><td>41</td></tr>\n",
       "<tr><td>&quot;202158_S6&quot;</td><td>17</td></tr>\n",
       "<tr><td>&quot;202160_S6&quot;</td><td>11</td></tr>\n",
       "<tr><td>&quot;202171_S9&quot;</td><td>12</td></tr>\n",
       "<tr><td>&quot;202175_S6&quot;</td><td>15</td></tr>\n",
       "<tr><td>&quot;202180_S1&quot;</td><td>31</td></tr>\n",
       "<tr><td>&quot;202182_S5&quot;</td><td>23</td></tr>\n",
       "<tr><td>&quot;202183_S9&quot;</td><td>27</td></tr>\n",
       "<tr><td>&quot;202188_S9&quot;</td><td>35</td></tr>\n",
       "<tr><td>&quot;202192_S9&quot;</td><td>47</td></tr>\n",
       "<tr><td>&quot;202195_S4&quot;</td><td>37</td></tr>\n",
       "<tr><td>&quot;202197_S5&quot;</td><td>35</td></tr>\n",
       "<tr><td>&quot;202210_S8&quot;</td><td>20</td></tr>\n",
       "<tr><td>&quot;202211_S1&quot;</td><td>7</td></tr>\n",
       "<tr><td>&quot;202212_S3&quot;</td><td>32</td></tr>\n",
       "<tr><td>&quot;202214_S8&quot;</td><td>24</td></tr>\n",
       "<tr><td>&quot;202215_S6&quot;</td><td>7492</td></tr>\n",
       "<tr><td>&quot;202216_S7&quot;</td><td>8</td></tr>\n",
       "<tr><td>&quot;202223_S6&quot;</td><td>8</td></tr>\n",
       "<tr><td>&quot;202238_S4&quot;</td><td>9</td></tr>\n",
       "<tr><td>&quot;211002_S5&quot;</td><td>31</td></tr>\n",
       "<tr><td>&quot;211004_S9&quot;</td><td>7389</td></tr>\n",
       "<tr><td>&quot;211010_S3&quot;</td><td>8</td></tr>\n",
       "<tr><td>&quot;211011_S2&quot;</td><td>11</td></tr>\n",
       "<tr><td>&quot;211012_S7&quot;</td><td>8115</td></tr>\n",
       "<tr><td>&quot;211025_S9&quot;</td><td>13</td></tr>\n",
       "<tr><td>&quot;211028_S9&quot;</td><td>14</td></tr>\n",
       "<tr><td>&quot;211029_S2&quot;</td><td>19</td></tr>\n",
       "<tr><td>&quot;211035_S5&quot;</td><td>10</td></tr>\n",
       "<tr><td>&quot;211047_S1&quot;</td><td>44</td></tr>\n",
       "<tr><td>&quot;211048_S8&quot;</td><td>50</td></tr>\n",
       "<tr><td>&quot;211051_S6&quot;</td><td>38</td></tr>\n",
       "<tr><td>&quot;211063_S7&quot;</td><td>54</td></tr>\n",
       "<tr><td>&quot;211066_S2&quot;</td><td>79</td></tr>\n",
       "<tr><td>&quot;211067_S6&quot;</td><td>46</td></tr>\n",
       "<tr><td>&quot;212003_S1&quot;</td><td>8</td></tr>\n",
       "<tr><td>&quot;212004_S5&quot;</td><td>15</td></tr>\n",
       "<tr><td>&quot;212006_S2&quot;</td><td>13</td></tr>\n",
       "<tr><td>&quot;212007_S7&quot;</td><td>23</td></tr>\n",
       "<tr><td>&quot;212011_S9&quot;</td><td>9</td></tr>\n",
       "<tr><td>&quot;212012_S8&quot;</td><td>8104</td></tr>\n",
       "<tr><td>&quot;212016_S1&quot;</td><td>20</td></tr>\n",
       "<tr><td>&quot;212023_S4&quot;</td><td>31</td></tr>\n",
       "<tr><td>&quot;212024_S4&quot;</td><td>19</td></tr>\n",
       "<tr><td>&quot;212025_S4&quot;</td><td>32</td></tr>\n",
       "<tr><td>&quot;212026_S5&quot;</td><td>36</td></tr>\n",
       "<tr><td>&quot;212031_S1&quot;</td><td>112</td></tr>\n",
       "<tr><td>&quot;212045_S4&quot;</td><td>64</td></tr>\n",
       "<tr><td>&quot;212052_S5&quot;</td><td>7378</td></tr>\n",
       "</tbody></table>"
      ],
      "text/plain": [
       "+-------------+--------------+\n",
       "| s           | n_discordant |\n",
       "+-------------+--------------+\n",
       "| str         |        int64 |\n",
       "+-------------+--------------+\n",
       "| \"201048_S2\" |          144 |\n",
       "| \"201054_S8\" |           33 |\n",
       "| \"201080_S8\" |           39 |\n",
       "| \"201086_S9\" |           25 |\n",
       "| \"201087_S6\" |           17 |\n",
       "| \"201105_S6\" |         7834 |\n",
       "| \"201108_S7\" |         7637 |\n",
       "| \"201109_S7\" |         7659 |\n",
       "| \"201128_S8\" |            9 |\n",
       "| \"201132_S3\" |         7761 |\n",
       "| \"201140_S2\" |           10 |\n",
       "| \"201140_S7\" |           11 |\n",
       "| \"201141_S1\" |           22 |\n",
       "| \"201143_S9\" |           41 |\n",
       "| \"201144_S7\" |           33 |\n",
       "| \"201151_S6\" |           11 |\n",
       "| \"201164_S8\" |           13 |\n",
       "| \"201177_S3\" |           13 |\n",
       "| \"201178_S9\" |         7807 |\n",
       "| \"201181_S7\" |           11 |\n",
       "| \"201186_S4\" |         6989 |\n",
       "| \"201189_S2\" |           35 |\n",
       "| \"201190_S3\" |           38 |\n",
       "| \"201194_S6\" |           23 |\n",
       "| \"201198_S3\" |         7918 |\n",
       "| \"201199_S1\" |           11 |\n",
       "| \"201199_S4\" |         3930 |\n",
       "| \"201200_S2\" |           40 |\n",
       "| \"201205_S2\" |         7334 |\n",
       "| \"201210_S8\" |           17 |\n",
       "| \"201225_S2\" |           15 |\n",
       "| \"201229_S5\" |           15 |\n",
       "| \"201232_S6\" |           17 |\n",
       "| \"201233_S9\" |           27 |\n",
       "| \"201234_S2\" |         7337 |\n",
       "| \"201234_S8\" |         7339 |\n",
       "| \"201242_S4\" |           15 |\n",
       "| \"201242_S5\" |           17 |\n",
       "| \"201246_S6\" |           19 |\n",
       "| \"201268_S1\" |         6472 |\n",
       "| \"201269_S8\" |         6972 |\n",
       "| \"201276_S3\" |           21 |\n",
       "| \"201283_S5\" |           15 |\n",
       "| \"201286_S7\" |           12 |\n",
       "| \"201287_S1\" |         7476 |\n",
       "| \"201318_S1\" |           39 |\n",
       "| \"201327_S7\" |           28 |\n",
       "| \"201328_S1\" |           41 |\n",
       "| \"201349_S4\" |         6882 |\n",
       "| \"201361_S1\" |         7736 |\n",
       "| \"201367_S1\" |           18 |\n",
       "| \"201368_S9\" |           23 |\n",
       "| \"201372_S2\" |           11 |\n",
       "| \"201389_S1\" |            8 |\n",
       "| \"201399_S5\" |           15 |\n",
       "| \"201409_S6\" |           14 |\n",
       "| \"201410_S8\" |           11 |\n",
       "| \"201418_S2\" |           34 |\n",
       "| \"202002_S1\" |           15 |\n",
       "| \"202004_S1\" |           22 |\n",
       "| \"202008_S1\" |            8 |\n",
       "| \"202009_S3\" |           13 |\n",
       "| \"202011_S5\" |         7779 |\n",
       "| \"202018_S4\" |         7047 |\n",
       "| \"202019_S3\" |         6722 |\n",
       "| \"202038_S2\" |           21 |\n",
       "| \"202041_S6\" |           14 |\n",
       "| \"202044_S3\" |           18 |\n",
       "| \"202050_S3\" |         7655 |\n",
       "| \"202050_S5\" |         7633 |\n",
       "| \"202052_S1\" |         7357 |\n",
       "| \"202060_S5\" |         7131 |\n",
       "| \"202061_S7\" |         7087 |\n",
       "| \"202063_S8\" |         7308 |\n",
       "| \"202067_S8\" |           48 |\n",
       "| \"202068_S4\" |           27 |\n",
       "| \"202069_S9\" |           32 |\n",
       "| \"202072_S2\" |           26 |\n",
       "| \"202091_S5\" |           25 |\n",
       "| \"202093_S3\" |           12 |\n",
       "| \"202094_S5\" |           25 |\n",
       "| \"202096_S6\" |           15 |\n",
       "| \"202101_S9\" |           39 |\n",
       "| \"202105_S3\" |         6722 |\n",
       "| \"202110_S7\" |         6906 |\n",
       "| \"202111_S6\" |           18 |\n",
       "| \"202117_S7\" |           47 |\n",
       "| \"202125_S4\" |           25 |\n",
       "| \"202127_S2\" |         7768 |\n",
       "| \"202138_S9\" |           30 |\n",
       "| \"202139_S4\" |           12 |\n",
       "| \"202143_S8\" |           36 |\n",
       "| \"202144_S4\" |         7384 |\n",
       "| \"202147_S7\" |           65 |\n",
       "| \"202155_S6\" |           41 |\n",
       "| \"202158_S6\" |           17 |\n",
       "| \"202160_S6\" |           11 |\n",
       "| \"202171_S9\" |           12 |\n",
       "| \"202175_S6\" |           15 |\n",
       "| \"202180_S1\" |           31 |\n",
       "| \"202182_S5\" |           23 |\n",
       "| \"202183_S9\" |           27 |\n",
       "| \"202188_S9\" |           35 |\n",
       "| \"202192_S9\" |           47 |\n",
       "| \"202195_S4\" |           37 |\n",
       "| \"202197_S5\" |           35 |\n",
       "| \"202210_S8\" |           20 |\n",
       "| \"202211_S1\" |            7 |\n",
       "| \"202212_S3\" |           32 |\n",
       "| \"202214_S8\" |           24 |\n",
       "| \"202215_S6\" |         7492 |\n",
       "| \"202216_S7\" |            8 |\n",
       "| \"202223_S6\" |            8 |\n",
       "| \"202238_S4\" |            9 |\n",
       "| \"211002_S5\" |           31 |\n",
       "| \"211004_S9\" |         7389 |\n",
       "| \"211010_S3\" |            8 |\n",
       "| \"211011_S2\" |           11 |\n",
       "| \"211012_S7\" |         8115 |\n",
       "| \"211025_S9\" |           13 |\n",
       "| \"211028_S9\" |           14 |\n",
       "| \"211029_S2\" |           19 |\n",
       "| \"211035_S5\" |           10 |\n",
       "| \"211047_S1\" |           44 |\n",
       "| \"211048_S8\" |           50 |\n",
       "| \"211051_S6\" |           38 |\n",
       "| \"211063_S7\" |           54 |\n",
       "| \"211066_S2\" |           79 |\n",
       "| \"211067_S6\" |           46 |\n",
       "| \"212003_S1\" |            8 |\n",
       "| \"212004_S5\" |           15 |\n",
       "| \"212006_S2\" |           13 |\n",
       "| \"212007_S7\" |           23 |\n",
       "| \"212011_S9\" |            9 |\n",
       "| \"212012_S8\" |         8104 |\n",
       "| \"212016_S1\" |           20 |\n",
       "| \"212023_S4\" |           31 |\n",
       "| \"212024_S4\" |           19 |\n",
       "| \"212025_S4\" |           32 |\n",
       "| \"212026_S5\" |           36 |\n",
       "| \"212031_S1\" |          112 |\n",
       "| \"212045_S4\" |           64 |\n",
       "| \"212052_S5\" |         7378 |\n",
       "+-------------+--------------+"
      ]
     },
     "metadata": {},
     "output_type": "display_data"
    }
   ],
   "source": [
    "#samples.count()\n",
    "samples.n_discordant.show(143)"
   ]
  },
  {
   "cell_type": "code",
   "execution_count": 186,
   "metadata": {},
   "outputs": [],
   "source": [
    "import pandas as pd\n",
    "#n_discordant2 = samples.to_pandas()\n",
    "# write it to disk\n",
    "n_discordant2.to_csv(r'/data/humgen/guffantilab/exome/SystemsBio/gatk_merged_vcf/n_discordant2.txt', index=None, sep='\\t', mode='a')\n"
   ]
  },
  {
   "cell_type": "code",
   "execution_count": null,
   "metadata": {},
   "outputs": [],
   "source": []
  },
  {
   "cell_type": "code",
   "execution_count": 13,
   "metadata": {},
   "outputs": [],
   "source": []
  },
  {
   "cell_type": "code",
   "execution_count": null,
   "metadata": {},
   "outputs": [],
   "source": []
  },
  {
   "cell_type": "code",
   "execution_count": 17,
   "metadata": {},
   "outputs": [],
   "source": []
  },
  {
   "cell_type": "code",
   "execution_count": null,
   "metadata": {},
   "outputs": [],
   "source": []
  },
  {
   "cell_type": "code",
   "execution_count": null,
   "metadata": {},
   "outputs": [],
   "source": []
  },
  {
   "cell_type": "markdown",
   "metadata": {},
   "source": [
    "## Number of variants per chromosome"
   ]
  },
  {
   "cell_type": "code",
   "execution_count": 38,
   "metadata": {},
   "outputs": [],
   "source": [
    "%%bash --out variants_chrom\n",
    "cd /data/humgen/guffantilab/exome/SystemsBio/gatk_merged_vcf\n",
    "grep -v '#' SysBio_indels_recalibrated.vcf | cut -f1 | uniq -c"
   ]
  },
  {
   "cell_type": "code",
   "execution_count": 228,
   "metadata": {},
   "outputs": [
    {
     "name": "stdout",
     "output_type": "stream",
     "text": [
      "[[374795 340467 293649 240282 226359 251100 246918 210933 180086 218911\n",
      "  211578 209331 121438 128020 149788 152567 166795 99985 153965 101541\n",
      "  61843 78862 75799 1304]\n",
      " ['chr1' 'chr2' 'chr3' 'chr4' 'chr5' 'chr6' 'chr7' 'chr8' 'chr9' 'chr10'\n",
      "  'chr11' 'chr12' 'chr13' 'chr14' 'chr15' 'chr16' 'chr17' 'chr18' 'chr19'\n",
      "  'chr20' 'chr21' 'chr22' 'chrX' 'chrY']]\n"
     ]
    }
   ],
   "source": [
    "#print(variants_chrom)\n",
    "import pandas as pd\n",
    "import numpy as np\n",
    "from io import StringIO\n",
    "tmp = StringIO(variants_chrom)\n",
    "variants_chrom2 = pd.read_csv(tmp, sep=\"\\s+\", header=None)\n",
    "x2 = np.matrix(variants_chrom2).transpose()\n",
    "\n",
    "print(x2)\n"
   ]
  },
  {
   "cell_type": "code",
   "execution_count": 230,
   "metadata": {},
   "outputs": [
    {
     "data": {
      "text/plain": [
       "([<matplotlib.axis.XTick at 0x7ff3ddf71450>,\n",
       "  <matplotlib.axis.XTick at 0x7ff3ddd36410>,\n",
       "  <matplotlib.axis.XTick at 0x7ff3ddd3bed0>,\n",
       "  <matplotlib.axis.XTick at 0x7ff3ddddab50>,\n",
       "  <matplotlib.axis.XTick at 0x7ff3ddddad10>,\n",
       "  <matplotlib.axis.XTick at 0x7ff3ddde4610>,\n",
       "  <matplotlib.axis.XTick at 0x7ff3ddde4b90>,\n",
       "  <matplotlib.axis.XTick at 0x7ff3ddde4710>,\n",
       "  <matplotlib.axis.XTick at 0x7ff3dddeb650>,\n",
       "  <matplotlib.axis.XTick at 0x7ff3dddebb90>,\n",
       "  <matplotlib.axis.XTick at 0x7ff3dddebdd0>,\n",
       "  <matplotlib.axis.XTick at 0x7ff3dddf3610>,\n",
       "  <matplotlib.axis.XTick at 0x7ff3dddeb710>,\n",
       "  <matplotlib.axis.XTick at 0x7ff3ddde4550>,\n",
       "  <matplotlib.axis.XTick at 0x7ff3dddf3090>,\n",
       "  <matplotlib.axis.XTick at 0x7ff3dddf3050>,\n",
       "  <matplotlib.axis.XTick at 0x7ff376076390>,\n",
       "  <matplotlib.axis.XTick at 0x7ff3760768d0>,\n",
       "  <matplotlib.axis.XTick at 0x7ff376076e10>,\n",
       "  <matplotlib.axis.XTick at 0x7ff37607d390>,\n",
       "  <matplotlib.axis.XTick at 0x7ff37607d8d0>,\n",
       "  <matplotlib.axis.XTick at 0x7ff37607de10>,\n",
       "  <matplotlib.axis.XTick at 0x7ff37607d790>,\n",
       "  <matplotlib.axis.XTick at 0x7ff376076110>],\n",
       " [Text(0, 0, 'chr1'),\n",
       "  Text(0, 0, 'chr2'),\n",
       "  Text(0, 0, 'chr3'),\n",
       "  Text(0, 0, 'chr4'),\n",
       "  Text(0, 0, 'chr5'),\n",
       "  Text(0, 0, 'chr6'),\n",
       "  Text(0, 0, 'chr7'),\n",
       "  Text(0, 0, 'chr8'),\n",
       "  Text(0, 0, 'chr9'),\n",
       "  Text(0, 0, 'chr10'),\n",
       "  Text(0, 0, 'chr11'),\n",
       "  Text(0, 0, 'chr12'),\n",
       "  Text(0, 0, 'chr13'),\n",
       "  Text(0, 0, 'chr14'),\n",
       "  Text(0, 0, 'chr15'),\n",
       "  Text(0, 0, 'chr16'),\n",
       "  Text(0, 0, 'chr17'),\n",
       "  Text(0, 0, 'chr18'),\n",
       "  Text(0, 0, 'chr19'),\n",
       "  Text(0, 0, 'chr20'),\n",
       "  Text(0, 0, 'chr21'),\n",
       "  Text(0, 0, 'chr22'),\n",
       "  Text(0, 0, 'chrX'),\n",
       "  Text(0, 0, 'chrY')])"
      ]
     },
     "execution_count": 230,
     "metadata": {},
     "output_type": "execute_result"
    },
    {
     "data": {
      "image/png": "[encoded data removed]",
      "text/plain": [
       "<Figure size 432x288 with 1 Axes>"
      ]
     },
     "metadata": {
      "needs_background": "light"
     },
     "output_type": "display_data"
    }
   ],
   "source": [
    "import matplotlib.pyplot as plt\n",
    "fig = plt.figure()\n",
    "ax1 = fig.add_axes([0,0,1,1])\n",
    "ax1.bar(np.arange(24), np.squeeze(np.asarray(x2[0])))\n",
    "ax1.set_ylabel('Variant Count')\n",
    "ax1.set_xlabel('Chromosome')\n",
    "ax1.set_xlim(-0.5,24.5)\n",
    "ax1.ticklabel_format(style='sci', scilimits=(0,0), axis='y')\n",
    "plt.xticks(np.arange(24),np.squeeze(np.asarray(x2[1])),rotation=45)\n"
   ]
  },
  {
   "cell_type": "code",
   "execution_count": 200,
   "metadata": {},
   "outputs": [
    {
     "name": "stdout",
     "output_type": "stream",
     "text": [
      "[[374795 340467 293649 240282 226359 251100 246918 210933 180086 218911\n",
      "  211578 209331 121438 128020 149788 152567 166795 99985 153965 101541\n",
      "  61843 78862 75799 1304]\n",
      " ['chr1' 'chr2' 'chr3' 'chr4' 'chr5' 'chr6' 'chr7' 'chr8' 'chr9' 'chr10'\n",
      "  'chr11' 'chr12' 'chr13' 'chr14' 'chr15' 'chr16' 'chr17' 'chr18' 'chr19'\n",
      "  'chr20' 'chr21' 'chr22' 'chrX' 'chrY']]\n"
     ]
    }
   ],
   "source": [
    "%%R -i x2\n",
    "\n",
    "x2 %>%\n",
    "    as_tibble() %>%\n",
    "    print()"
   ]
  }
 ],
 "metadata": {
  "kernelspec": {
   "display_name": "Python (hail)",
   "language": "python",
   "name": "hail"
  },
  "language_info": {
   "codemirror_mode": {
    "name": "ipython",
    "version": 3
   },
   "file_extension": ".py",
   "mimetype": "text/x-python",
   "name": "python",
   "nbconvert_exporter": "python",
   "pygments_lexer": "ipython3",
   "version": "3.7.7"
  }
 },
 "nbformat": 4,
 "nbformat_minor": 2
}
