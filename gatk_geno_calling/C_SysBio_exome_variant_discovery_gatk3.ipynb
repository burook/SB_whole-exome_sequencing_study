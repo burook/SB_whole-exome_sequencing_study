{
 "cells": [
  {
   "cell_type": "markdown",
   "metadata": {},
   "source": [
    "## Variant calling (with HaplotypeCaller)\n",
    "save the following in a file named variant_calling.sh"
   ]
  },
  {
   "cell_type": "code",
   "execution_count": null,
   "metadata": {},
   "outputs": [],
   "source": [
    "#!/bin/bash\n",
    "\n",
    "# input bam file\n",
    "f1=$1\n",
    "# prefix of the output file\n",
    "f2=$2\n",
    "# directory where input files are saved\n",
    "dir1=$3\n",
    "# directory where output files will be saved\n",
    "dir2=$4\n",
    "\n",
    "cd ${dir2}\n",
    "\n",
    "module load GATK\n",
    "# on erisone the GATK jar is located at $EBROOTGATK\n",
    "# (its full path is /apps/software/GATK/3.8-0-Java-1.8.0_161 )\n",
    "\n",
    "refloc1=/data/humgen/burook/ref\n",
    "refloc2=/pub/genome_references/gatk-bundle/1.5/hg19\n",
    "\n",
    "\n",
    "# Variant calling\n",
    "\n",
    "java \\\n",
    "   -jar /apps/software/GATK/3.8-0-Java-1.8.0_161/GenomeAnalysisTK.jar \\\n",
    "   -T HaplotypeCaller \\\n",
    "   -R ${refloc1}/genome.fa \\\n",
    "   -I ${f1} \\\n",
    "   --genotyping_mode DISCOVERY \\\n",
    "   -stand_call_conf 10 \\\n",
    "   --emitRefConfidence GVCF \\\n",
    "   -variant_index_type LINEAR -variant_index_parameter 128000 \\\n",
    "   --dbsnp ${refloc1}/dbsnp_135.hg19.vcf \\\n",
    "   --out ${f2}_recal3.vcf\n"
   ]
  },
  {
   "cell_type": "markdown",
   "metadata": {},
   "source": [
    "run this script for individual bam files"
   ]
  },
  {
   "cell_type": "code",
   "execution_count": null,
   "metadata": {},
   "outputs": [],
   "source": [
    "%%bash\n",
    "\n",
    "# input data directory\n",
    "dir1=/data/humgen/burook/sysbio_exome/gatk_BQSR/\n",
    "# output data directory\n",
    "dir2=/data/humgen/burook/sysbio_exome/gatk_indiv_vcf\n",
    "\n",
    "#for f1 in ${dir1}/*marked_duplicates.bam \n",
    "for f1 in ${dir1}/*_recal3.bam \n",
    "do\n",
    "    # f1 is the input sam file\n",
    "    f2=$(basename $f1 _recal3.bam)\n",
    "    \n",
    "    bsub -m \"hna001\" -n 4 -M 8000 -o \"tmp4.out\" -e \"tmp4.err\" \"sh variant_calling.sh $f1 $f2 $dir1 $dir2\"\n",
    "\n",
    "    sleep 1\n",
    "done\n"
   ]
  },
  {
   "cell_type": "code",
   "execution_count": null,
   "metadata": {},
   "outputs": [],
   "source": [
    "%%bash\n",
    "# There seems to be duplicate sample names.\n",
    "# Let's rename sample names with file names.\n",
    "\n",
    "dir2=/data/humgen/guffantilab/exome/SystemsBio/gatk_indiv_vcf2\n",
    "cd ${dir2}\n",
    "\n",
    "for f1 in ${dir2}/*_recal3.vcf\n",
    "do\n",
    "    f2=$(basename $f1 .vcf)_ren.vcf\n",
    "    oldName=$(grep 'CHR' ${f1} | cut -f10)\n",
    "    newName=$(basename ${f1} _recal3.vcf)\n",
    "    \n",
    "    sed \"0,/${oldName}/s//${newName}/\" ${f1} > ${f2}\n",
    "    \n",
    "done\n",
    "\n",
    "# Note: We do not need to do this for gatk4. \n",
    "# Instead we can pass a sample mapping file as an argument (--sample-name-map)."
   ]
  },
  {
   "cell_type": "code",
   "execution_count": null,
   "metadata": {},
   "outputs": [],
   "source": [
    "%%bash\n",
    "# Generate index file for vcf.\n",
    "dir2=/data/humgen/guffantilab/exome/SystemsBio/gatk_indiv_vcf2\n",
    "cd ${dir2}\n",
    "\n",
    "printf '%s\\n' '#!/bin/bash' '/PHShome/bm363/bin/gatk-4.1.7.0/gatk IndexFeatureFile --input $1' > index_vcf.sh\n",
    "\n",
    "\n",
    "# now submit a job for each file\n",
    "for f1 in ${dir2}/*_ren.vcf\n",
    "do    \n",
    "    if [ -f \"${f1}.idx\" ];\n",
    "    then\n",
    "    echo \"it already exits\"\n",
    "    else\n",
    "    bsub -m \"hna001\" -n 2 -M 8000 -o \"tmpidx1.out\" -e \"tmpidx1.err\" \"sh index_vcf.sh ${f1}\"\n",
    "    fi\n",
    "    sleep 1\n",
    "done\n"
   ]
  },
  {
   "cell_type": "markdown",
   "metadata": {},
   "source": [
    "## Joint Genotyping\n",
    "First let's identify all gVCF files for sngle samples and list them in a single file."
   ]
  },
  {
   "cell_type": "code",
   "execution_count": 51,
   "metadata": {},
   "outputs": [],
   "source": [
    "%%bash\n",
    "# a list of per-sample vcf files\n",
    "cd /data/humgen/guffantilab/exome/SystemsBio/gatk_indiv_vcf2\n",
    "find . -type f -name '*_ren.vcf' >> list_VCF1.list\n",
    "sed -i -e 's/.\\///g' list_VCF1.list"
   ]
  },
  {
   "cell_type": "markdown",
   "metadata": {},
   "source": [
    "Save the following joint genotying scrintp in a file named joint_variant_calling.sh"
   ]
  },
  {
   "cell_type": "code",
   "execution_count": null,
   "metadata": {},
   "outputs": [],
   "source": [
    "#!/bin/bash\n",
    "\n",
    "# directory where input files are saved\n",
    "dir1=$1\n",
    "\n",
    "cd ${dir1}\n",
    "\n",
    "module load GATK\n",
    "# on erisone the GATK jar is located at $EBROOTGATK\n",
    "# (its full path is /apps/software/GATK/3.8-0-Java-1.8.0_161 )\n",
    "\n",
    "\n",
    "refloc1=/data/humgen/burook/ref\n",
    "refloc2=/pub/genome_references/gatk-bundle/1.5/hg19\n",
    "\n",
    "\n",
    "# Joint variant calling\n",
    "\n",
    "java -jar /apps/software/GATK/3.8-0-Java-1.8.0_161/GenomeAnalysisTK.jar \\\n",
    "    -T GenotypeGVCFs \\\n",
    "    -R ${refloc1}/genome.fa \\\n",
    "    -V ${dir1}/list_VCF1.list \\\n",
    "    --dbsnp ${refloc1}/dbsnp_135.hg19.vcf \\\n",
    "    --out SysBio_exome_merged5.vcf \\\n",
    "    -nt 8\n"
   ]
  },
  {
   "cell_type": "markdown",
   "metadata": {},
   "source": [
    "Now call this script from bash"
   ]
  },
  {
   "cell_type": "code",
   "execution_count": null,
   "metadata": {},
   "outputs": [],
   "source": [
    "%%bash\n",
    "\n",
    "# input data directory\n",
    "dir1=/data/humgen/guffantilab/exome/SystemsBio/gatk_indiv_vcf2\n",
    "# output data directory\n",
    "dir2=/data/humgen/burook/sysbio_exome/gatk_merged_vcf\n",
    "cd ${dir1}\n",
    "bsub -m \"hna001\" -n 10 -M 200000 -o \"tmp52.out\" -e \"tmp52.err\" \"sh /PHShome/bm363/WES_analysis/notebooks/joint_variant_calling_gatk3.sh  ${dir1}\"\n",
    "\n",
    "# on erisone generic node\n",
    "bsub -q \"big-multi\" -n 8 -M 128000 -R \"rusage[mem=128000]\" -o \"tmp52.out\" -e \"tmp52.err\" \"sh /PHShome/bm363/WES_analysis/notebooks/joint_variant_calling_gatk3.sh  ${dir1}\"\n",
    "\n",
    "\n",
    "# now let's move the output to the desired directory\n",
    "mv ${dir1}/SysBio_exome_merged1.vcf ${dir2}/"
   ]
  },
  {
   "cell_type": "code",
   "execution_count": 49,
   "metadata": {},
   "outputs": [
    {
     "name": "stdout",
     "output_type": "stream",
     "text": [
      "total 962G\n",
      "-rw-r--r--. 1 bm363 humgen 3.5K May 17 04:15 tmp52.out\n",
      "-rw-r--r--. 1 bm363 humgen 746K May 17 04:15 tmp52.err\n",
      "-rw-r--r--. 1 bm363 humgen  12M May 17 04:14 SysBio_exome_merged11.vcf.idx\n",
      "-rw-r--r--. 1 bm363 humgen  20G May 17 04:14 SysBio_exome_merged11.vcf\n",
      "-rw-rw----. 1 bm363 humgen 4.2G May 13 18:48 SysBio_exome_merged5.vcf\n",
      "-rw-r--r--. 1 bm363 humgen  11M May 12 17:02 212052_S5_recal3_ren.vcf.idx\n",
      "-rw-r--r--. 1 bm363 humgen  19M May 12 17:01 212045_S4_recal3_ren.vcf.idx\n",
      "-rw-r--r--. 1 bm363 humgen  11M May 12 16:58 212035_S6_recal3_ren.vcf.idx\n",
      "-rw-r--r--. 1 bm363 humgen  15M May 12 16:57 212031_S1_recal3_ren.vcf.idx\n"
     ]
    }
   ],
   "source": [
    "%%bash\n",
    "cd /data/humgen/guffantilab/exome/SystemsBio/gatk_indiv_vcf2\n",
    "\n",
    "ls -lht | head\n"
   ]
  },
  {
   "cell_type": "code",
   "execution_count": 45,
   "metadata": {},
   "outputs": [
    {
     "name": "stdout",
     "output_type": "stream",
     "text": [
      " 374795 chr1\n",
      " 340467 chr2\n",
      " 293649 chr3\n",
      " 240282 chr4\n",
      " 226359 chr5\n",
      " 251100 chr6\n",
      " 246918 chr7\n",
      " 210933 chr8\n",
      " 180086 chr9\n",
      " 218911 chr10\n",
      " 211578 chr11\n",
      " 209331 chr12\n",
      " 121438 chr13\n",
      " 128020 chr14\n",
      " 149788 chr15\n",
      " 152567 chr16\n",
      " 166795 chr17\n",
      "  99985 chr18\n",
      " 153965 chr19\n",
      " 101541 chr20\n",
      "  61843 chr21\n",
      "  78862 chr22\n",
      "  75799 chrX\n",
      "   1304 chrY\n"
     ]
    }
   ],
   "source": [
    "%%bash\n",
    "cd /data/humgen/guffantilab/exome/SystemsBio/gatk_indiv_vcf2\n",
    "grep -v '#' SysBio_exome_merged11.vcf | cut -f1 | uniq -c"
   ]
  },
  {
   "cell_type": "markdown",
   "metadata": {},
   "source": [
    "Multi-threading is not working with gatk3.8. Let's resubmit it with GATK4."
   ]
  },
  {
   "cell_type": "code",
   "execution_count": null,
   "metadata": {},
   "outputs": [],
   "source": [
    "# input data directory\n",
    "dir1=/data/humgen/guffantilab/exome/SystemsBio/gatk_indiv_vcf2\n",
    "\n",
    "bsub -m \"hna001\" -n 24 -M 128000 -o \"tmpg4.out\" -e \"tmpg4.err\" \"sh /PHShome/bm363/WES_analysis/notebooks/joint_variant_calling_gatk3.sh  ${dir1}\"\n"
   ]
  },
  {
   "cell_type": "markdown",
   "metadata": {},
   "source": [
    "## Variant Recalibration"
   ]
  },
  {
   "cell_type": "code",
   "execution_count": null,
   "metadata": {},
   "outputs": [],
   "source": [
    "#!/bin/bash\n",
    "\n",
    "# directory where input files are saved\n",
    "dir1=$1\n",
    "\n",
    "cd ${dir1}\n",
    "\n",
    "module load GATK\n",
    "# on erisone the picard jar is located at $EBROOTGATK\n",
    "# (its full path is /apps/software/GATK/3.8-0-Java-1.8.0_161 )\n",
    "\n",
    "refloc1=/data/humgen/burook/ref\n",
    "refloc2=/pub/genome_references/gatk-bundle/1.5/hg19\n",
    "\n",
    "\n",
    "#### SNP's\n",
    "# Variant recalibration of SNP's\n",
    "\n",
    "java \\\n",
    "    -jar /apps/software/GATK/3.8-0-Java-1.8.0_161/GenomeAnalysisTK.jar \\\n",
    "    -T VariantRecalibrator \\\n",
    "    -R ${refloc1}/genome.fa \\\n",
    "    -input SysBio_exome_merged11.vcf \\\n",
    "    -resource:hapmap,known=false,training=true,truth=true,prior=15.0 ${refloc1}/hapmap_3.3.hg19.vcf \\\n",
    "    -resource:omni,known=false,training=true,truth=true,prior=12.0 ${refloc1}/1000G_omni2.5.hg19.vcf \\\n",
    "    -resource:1000G,known=false,training=true,truth=false,prior=10.0 ${refloc1}/Mills_and_1000G_gold_standard.indels.hg19.vcf \\\n",
    "    -resource:dbsnp,known=true,training=false,truth=false,prior=7 ${refloc1}/dbsnp_135.hg19.vcf \\\n",
    "    -an QD -an MQRankSum -an ReadPosRankSum -an FS -an MQ -an SOR -an DP \\\n",
    "    -mode SNP \\\n",
    "    --maxGaussians 6 \\\n",
    "    -tranche 100.0 -tranche 99.9 -tranche 99.0 -tranche 90.0 \\\n",
    "    -recalFile SysBio_snps_recal \\\n",
    "    -tranchesFile SysBio_snps_tranches \\\n",
    "    -rscriptFile SysBio_recal_snps_plots.R\n",
    "\n",
    "\n",
    "\n",
    "# Apply Recalibration of SNP's\n",
    "\n",
    "java \\\n",
    "    -jar /apps/software/GATK/3.8-0-Java-1.8.0_161/GenomeAnalysisTK.jar \\\n",
    "    -T ApplyRecalibration \\\n",
    "    -R ${refloc1}/genome.fa \\\n",
    "    -input SysBio_exome_merged11.vcf \\\n",
    "    -mode SNP \\\n",
    "    --ts_filter_level 99.0 \\\n",
    "    -recalFile SysBio_snps_recal \\\n",
    "    -tranchesFile SysBio_snps_tranches \\\n",
    "    --out SysBio_snps_recalibrated.vcf\n",
    "\n",
    "\n",
    "#### INDELs\n",
    "# Variant recalibration of INDELs\n",
    "\n",
    "java \\\n",
    "    -jar /apps/software/GATK/3.8-0-Java-1.8.0_161/GenomeAnalysisTK.jar \\\n",
    "    -T VariantRecalibrator \\\n",
    "    -R ${refloc1}/genome.fa \\\n",
    "    -input SysBio_snps_recalibrated.vcf \\\n",
    "    -resource:1000G,known=false,training=true,truth=false,prior=12.0 ${refloc1}/Mills_and_1000G_gold_standard.indels.hg19.vcf \\\n",
    "    -resource:dbsnp,known=true,training=false,truth=false,prior=2.0 ${refloc1}/dbsnp_135.hg19.vcf \\\n",
    "    -an FS -an ReadPosRankSum -an MQRankSum -an QD -an SOR -an DP \\\n",
    "    -mode INDEL \\\n",
    "    -tranche 100.0 -tranche 99.9 -tranche 99.0 -tranche 90.0 \\\n",
    "    --maxGaussians 4 \\\n",
    "    -recalFile SysBio_indels_recal \\\n",
    "    -tranchesFile SysBio_indels_tranches \\\n",
    "    -rscriptFile SysBio_recal_indels_plots.R\n",
    "\n",
    "\n",
    "\n",
    "# Apply Recalibration of SNP's\n",
    "\n",
    "java \\\n",
    "    -jar /apps/software/GATK/3.8-0-Java-1.8.0_161/GenomeAnalysisTK.jar \\\n",
    "    -T ApplyRecalibration \\\n",
    "    -R ${refloc1}/genome.fa \\\n",
    "    -input SysBio_snps_recalibrated.vcf \\\n",
    "    -mode INDEL \\\n",
    "    --ts_filter_level 99.0 \\\n",
    "    -recalFile SysBio_indels_recal \\\n",
    "    -tranchesFile SysBio_indels_tranches \\\n",
    "    --out SysBio_indels_recalibrated.vcf\n"
   ]
  },
  {
   "cell_type": "markdown",
   "metadata": {},
   "source": [
    "Now call this script"
   ]
  },
  {
   "cell_type": "code",
   "execution_count": null,
   "metadata": {},
   "outputs": [],
   "source": [
    "%%bash\n",
    "\n",
    "# input data directory\n",
    "dir1=/data/humgen/guffantilab/exome/SystemsBio/gatk_merged_vcf\n",
    "\n",
    "bsub -m \"hna001\" -n 24 -M 64000 -o \"tmp7.out\" -e \"tmp7.err\" \"sh /PHShome/bm363/WES_analysis/notebooks/variant_recalibration.sh  ${dir1}\"\n"
   ]
  },
  {
   "cell_type": "code",
   "execution_count": 74,
   "metadata": {},
   "outputs": [
    {
     "name": "stdout",
     "output_type": "stream",
     "text": [
      "total 74G\n",
      "-rw-r--r--. 1 bm363 humgen 3.2K May 17 12:33 tmp7.out\n",
      "-rw-r--r--. 1 bm363 humgen  44K May 17 12:33 tmp7.err\n",
      "-rw-r--r--. 1 bm363 humgen  12M May 17 12:33 SysBio_indels_recalibrated.vcf.idx\n",
      "-rw-r--r--. 1 bm363 humgen  21G May 17 12:33 SysBio_indels_recalibrated.vcf\n",
      "-rw-r--r--. 1 bm363 humgen 3.0M May 17 12:30 SysBio.indels.recal.idx\n",
      "-rw-r--r--. 1 bm363 humgen  46M May 17 12:30 SysBio.indels.recal\n",
      "-rw-r--r--. 1 bm363 humgen 2.8M May 17 12:30 SysBio_recal_indels_plots.R\n",
      "-rw-r--r--. 1 bm363 humgen  597 May 17 12:29 SysBio.indels.tranches\n",
      "-rw-r--r--. 1 bm363 humgen  12M May 17 12:25 SysBio_snps_recalibrated.vcf.idx\n",
      "-rw-r--r--. 1 bm363 humgen  21G May 17 12:25 SysBio_snps_recalibrated.vcf\n",
      "-rw-r--r--. 1 bm363 humgen  12M May 17 12:21 SysBio.snps.recal.idx\n",
      "-rw-r--r--. 1 bm363 humgen 272M May 17 12:21 SysBio.snps.recal\n",
      "-rw-r--r--. 1 bm363 humgen 2.8M May 17 12:21 SysBio_recal_snps_plots.R\n",
      "-rw-r--r--. 1 bm363 humgen  584 May 17 12:21 SysBio.snps.tranches\n",
      "-rw-r--r--. 1 bm363 humgen  12M May 17 11:22 SysBio_exome_merged11.vcf.idx\n",
      "-rw-r--r--. 1 bm363 humgen  20G May 17 11:22 SysBio_exome_merged11.vcf\n"
     ]
    }
   ],
   "source": [
    "%%bash\n",
    "cd /data/humgen/guffantilab/exome/SystemsBio/gatk_merged_vcf\n",
    "\n",
    "ls -lht \n",
    "\n",
    "\n",
    "# let's plot the results\n",
    "plot-vcfstats SysBio_variant_stats.vchk -p stats_plots/\n",
    "# The plots are not being generated due to an issue with Python.\n",
    "# So let's generate it manually using the script generated.\n",
    "cd stats_plots/\n",
    "python plot.py\n",
    "\n"
   ]
  },
  {
   "cell_type": "markdown",
   "metadata": {},
   "source": []
  },
  {
   "cell_type": "markdown",
   "metadata": {},
   "source": [
    "## Liftover to b37\n",
    "\n",
    "We need to use b37 reference to work with Hail. Since our mapping was done with hg19, let's liftover it to b37. Note that hg19 and b37 are similar references with little difference in annotation. The main difference being annotation of contigs (e.g., ch1 vs 1).\n",
    "\n",
    "Download the chain file from the following \n",
    "ftp://gsapubftp-anonymous@ftp.broadinstitute.org/Liftover_Chain_Files. (need login. saved at /data/humgen/burook/ref/hg19tob37.chain)\n"
   ]
  },
  {
   "cell_type": "code",
   "execution_count": null,
   "metadata": {},
   "outputs": [],
   "source": [
    "%%bash\n",
    "\n",
    "module load picard\n",
    "\n",
    "java -jar /apps/lib-osver/picard/2.22.0/build/libs/picard.jar LiftoverVcf\\\n",
    "    I=/data/humgen/guffantilab/exome/SystemsBio/gatk_merged_vcf/SysBio_indels_recalibrated.vcf \\\n",
    "    O=/data/humgen/guffantilab/exome/SystemsBio/gatk_merged_vcf/SysBio_indels_recalibrated_b37.vcf \\\n",
    "    CHAIN=/data/humgen/burook/ref/hg19tob37.chain \\\n",
    "    REJECT=rejected_variants.vcf \\\n",
    "    R=/data/humgen/burook/ref/human_g1k_v37.fasta\n"
   ]
  },
  {
   "cell_type": "code",
   "execution_count": null,
   "metadata": {},
   "outputs": [],
   "source": []
  },
  {
   "cell_type": "code",
   "execution_count": null,
   "metadata": {},
   "outputs": [],
   "source": []
  },
  {
   "cell_type": "code",
   "execution_count": null,
   "metadata": {},
   "outputs": [],
   "source": []
  },
  {
   "cell_type": "code",
   "execution_count": null,
   "metadata": {},
   "outputs": [],
   "source": []
  }
 ],
 "metadata": {
  "kernelspec": {
   "display_name": "Python3.6 (Anaconda5.2.0)",
   "language": "python",
   "name": "python3.6_anaconda5.2.0"
  },
  "language_info": {
   "codemirror_mode": {
    "name": "ipython",
    "version": 3
   },
   "file_extension": ".py",
   "mimetype": "text/x-python",
   "name": "python",
   "nbconvert_exporter": "python",
   "pygments_lexer": "ipython3",
   "version": "3.6.5"
  }
 },
 "nbformat": 4,
 "nbformat_minor": 2
}
