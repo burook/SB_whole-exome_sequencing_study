{
 "cells": [
  {
   "cell_type": "markdown",
   "metadata": {},
   "source": [
    "# Overview\n",
    "\n",
    "Here we follow the GATK best practices guideline for detecting short variants (SNP’s and indels). Note that this pipeline is not meant to CNV or other complex structural variants. \n"
   ]
  },
  {
   "cell_type": "code",
   "execution_count": 1,
   "metadata": {},
   "outputs": [
    {
     "name": "stdout",
     "output_type": "stream",
     "text": [
      "612\r\n"
     ]
    }
   ],
   "source": [
    "# number of fastq files\n",
    "! find /data/humgen/guffantilab/exome/SystemsBio/input/Exome/EXOME -type f -name '*.fastq.gz' | sort | uniq | wc -l"
   ]
  },
  {
   "cell_type": "code",
   "execution_count": 2,
   "metadata": {},
   "outputs": [
    {
     "name": "stdout",
     "output_type": "stream",
     "text": [
      "576\r\n"
     ]
    }
   ],
   "source": [
    "# there are some duplicate file names. Let's find unique file names\n",
    "! find /data/humgen/guffantilab/exome/SystemsBio/input/Exome/EXOME -type f -name '*.fastq.gz' -printf '%f\\n' | sort | uniq | wc -l\n"
   ]
  },
  {
   "cell_type": "markdown",
   "metadata": {},
   "source": [
    "Since they are paired reads, there are 288 unique fastq files. Hence, there are 36 (=612-576) duplicate files."
   ]
  },
  {
   "cell_type": "code",
   "execution_count": 4,
   "metadata": {},
   "outputs": [],
   "source": [
    "%%bash\n",
    "# copy the vcf files into one folder\n",
    "cd /data/humgen/burook/sysbio_exome\n",
    "find /data/humgen/guffantilab/exome/SystemsBio/input/Exome/EXOME -type f -name '*.fastq.*' -exec cp -t /data/humgen/burook/sysbio_exome/raw/ {} +\n"
   ]
  },
  {
   "cell_type": "markdown",
   "metadata": {},
   "source": [
    "\n",
    "# Quality Control and Pre-processing\n",
    "\n",
    "We start from raw reads obtained from the sequencer as FASTQ files.\n",
    "\n",
    "### Quality assessment of raw reads (using FastQC)\n",
    "\n",
    "The first crucial step in WES analysis is to check the quality of the raw reads. There are many sources of errors of sequence reads (including ...).\n",
    "FastQC (https://www.bioinformatics.babraham.ac.uk/projects/fastqc/) was used to evaluate quality of the raw sequencing reads (fastq files obtained from the sequencer). Per base quality scores, per sequence quality scores, per sequence GC content, per base nucleotide content, sequence length distribution, sequence duplication levels, and overrepresented sequences were evaluated."
   ]
  },
  {
   "cell_type": "markdown",
   "metadata": {},
   "source": [
    "Save the following into a file (~/WES_analysis/fastqc_analysis1.sh)."
   ]
  },
  {
   "cell_type": "code",
   "execution_count": null,
   "metadata": {},
   "outputs": [],
   "source": [
    "#!/bin/sh\n",
    "\n",
    "# FastQC is aleady available on erisone\n",
    "module load FastQC/0.11.8-Java-1.8\n",
    "\n",
    "# directory where raw data is saved\n",
    "dir1=/data/humgen/burook/sysbio_exome/raw/\n",
    "# directory where results will be saved\n",
    "dir2=/data/humgen/burook/sysbio_exome/fastq_result1\n",
    "\n",
    "cd ${dir1}\n",
    "\n",
    "for file in $(ls $dir1)\n",
    "do\n",
    "    fastqc $file -o $dir2\n",
    "done"
   ]
  },
  {
   "cell_type": "markdown",
   "metadata": {},
   "source": [
    "Now run this file on bash. (by opening a terminal on Jupyter)"
   ]
  },
  {
   "cell_type": "code",
   "execution_count": null,
   "metadata": {},
   "outputs": [],
   "source": [
    "! ~/WES_analysis/notebooks/fastqc_analysis1.sh"
   ]
  },
  {
   "cell_type": "markdown",
   "metadata": {},
   "source": [
    "A single result file for each individual fastq file is saved. Now, let's use MultiQC for aggregating the results into one file.\n",
    "Note: Only 540 (out of 614) fastq files could be read/processed by fastQC."
   ]
  },
  {
   "cell_type": "markdown",
   "metadata": {},
   "source": [
    "### Aggregating and summarizing quality assessments (using MultiQC)\n",
    "The results of FastQC quality assessment are saved for individual fastq files. These need to be aggregated into a single file (for readability). This can be done with MultiQC."
   ]
  },
  {
   "cell_type": "markdown",
   "metadata": {},
   "source": [
    "Run the following in a Terminal."
   ]
  },
  {
   "cell_type": "code",
   "execution_count": null,
   "metadata": {},
   "outputs": [],
   "source": [
    "%%bash\n",
    "\n",
    "# let's install MultiQC in conda\n",
    "module load anaconda2\n",
    "conda create --name conda_multiqc python=2.7\n",
    "source activate conda_multiqc\n",
    "conda install -c bioconda multiqc\n",
    "\n",
    "# cd to the folder where multiqc results should be saved\n",
    "cd /data/humgen/burook/sysbio_exome/fastq_result1_multiqc/\n",
    "multiqc /data/humgen/burook/sysbio_exome/fastq_result1"
   ]
  },
  {
   "cell_type": "markdown",
   "metadata": {},
   "source": [
    "### Filtering problematic bases and reads (using Trimmomatic)\n",
    "\n",
    "Problematic bases and reads need to be trimmed or filtered. We use Trimmomatic (http://www.usadellab.org/cms/?page=trimmomatic) for trimming and cropping (removing low quality bases, clipping adapter sequences…).\n"
   ]
  },
  {
   "cell_type": "markdown",
   "metadata": {},
   "source": [
    "Save the following in a text file (~/WES_analysis/trimmomatic_analysis.sh)."
   ]
  },
  {
   "cell_type": "code",
   "execution_count": null,
   "metadata": {},
   "outputs": [],
   "source": [
    "#!/bin/bash\n",
    "\n",
    "# directory where raw data is saved\n",
    "dir1=/data/humgen/burook/sysbio_exome/raw/\n",
    "# directory where results will be saved\n",
    "dir2=/data/humgen/burook/sysbio_exome/trimmomatic_results1\n",
    "\n",
    "cd ${dir1}\n",
    "\n",
    "for f1 in *R1_001.fastq.gz\n",
    "do\n",
    "    # f1 and f2 are inpute files for forward and reverse reads\n",
    "    f2=$(basename $f1 _R1_001.fastq.gz)_R2_001.fastq.gz\n",
    "    # the following four are output files (forward and revers for paired and single)\n",
    "    f1p=$(basename $f1 _R1_001.fastq.gz)_R1_001.pe.fastq.gz \n",
    "    f1s=$(basename $f1 _R1_001.fastq.gz)_R1_001.se.fastq.gz\n",
    "    f2p=$(basename $f1 _R1_001.fastq.gz)_R2_001.pe.fastq.gz\n",
    "    f2s=$(basename $f1 _R1_001.fastq.gz)_R2_001.se.fastq.gz\n",
    "    \n",
    "    java -jar /PHShome/bm363/bin/trimmomatic/trimmomatic-0.39.jar PE -threads 24 \\\n",
    "        ${f1} ${f2} \\\n",
    "        ${dir2}/${f1p} ${dir2}/${f1s} ${dir2}/${f2p} ${dir2}/${f2s} \\\n",
    "        ILLUMINACLIP:/PHShome/bm363/bin/trimmomatic/adapters/TruSeq3-PE.fa:2:30:10:2:keepBothReads \\\n",
    "        LEADING:3 TRAILING:3 MINLEN:36\n",
    "done\n"
   ]
  },
  {
   "cell_type": "markdown",
   "metadata": {},
   "source": [
    "Run this file on a terminal (opened on Jupyter). Note that there are four output files. The single-read file is one that would be produced if only the corresponding pair is trimmed but not the read itself.\n",
    "\n",
    "Illumina adapters are removed from the file TruSeq3-PE.fa, leading and trailing bases with quality score below 3 are clipped, and reads shorter than 36 are removed."
   ]
  },
  {
   "cell_type": "markdown",
   "metadata": {},
   "source": [
    "Now rerun FastQC on results of trimmomatic. Run the following on a terminal."
   ]
  },
  {
   "cell_type": "code",
   "execution_count": null,
   "metadata": {},
   "outputs": [],
   "source": [
    "#!/bin/sh\n",
    "\n",
    "module load FastQC/0.11.8-Java-1.8\n",
    "\n",
    "dir1=/data/humgen/burook/sysbio_exome/trimmomatic_results2/\n",
    "dir2=/data/humgen/burook/sysbio_exome/fastq_result2\n",
    "\n",
    "cd ${dir1}\n",
    "\n",
    "for file in $(ls $dir1)\n",
    "do\n",
    "    fastqc $file -o $dir2\n",
    "done\n"
   ]
  },
  {
   "cell_type": "markdown",
   "metadata": {},
   "source": [
    "Now run MultiQC on this new FastQC outputs (by running the following on terminal)."
   ]
  },
  {
   "cell_type": "code",
   "execution_count": null,
   "metadata": {},
   "outputs": [],
   "source": [
    "%%bash\n",
    "\n",
    "# let's use our node to use more resource\n",
    "ssh bm363@10.129.8.96\n",
    "# we already have an environment with MultiQC installed\n",
    "# conda info --envs\n",
    "source activate conda_multiqc\n",
    "\n",
    "# cd to the folder where multiqc results should be saved\n",
    "cd /data/humgen/burook/sysbio_exome/fastq_result2_multiqc/\n",
    "multiqc /data/humgen/burook/sysbio_exome/fastq_result2/*pe*"
   ]
  },
  {
   "cell_type": "code",
   "execution_count": null,
   "metadata": {},
   "outputs": [],
   "source": []
  },
  {
   "cell_type": "code",
   "execution_count": null,
   "metadata": {},
   "outputs": [],
   "source": []
  },
  {
   "cell_type": "code",
   "execution_count": null,
   "metadata": {},
   "outputs": [],
   "source": []
  }
 ],
 "metadata": {
  "kernelspec": {
   "display_name": "Python3.6 (Anaconda5.2.0)",
   "language": "python",
   "name": "python3.6_anaconda5.2.0"
  },
  "language_info": {
   "codemirror_mode": {
    "name": "ipython",
    "version": 3
   },
   "file_extension": ".py",
   "mimetype": "text/x-python",
   "name": "python",
   "nbconvert_exporter": "python",
   "pygments_lexer": "ipython3",
   "version": "3.6.5"
  }
 },
 "nbformat": 4,
 "nbformat_minor": 2
}
