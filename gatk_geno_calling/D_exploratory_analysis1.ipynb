{
 "cells": [
  {
   "cell_type": "code",
   "execution_count": null,
   "metadata": {},
   "outputs": [],
   "source": []
  },
  {
   "cell_type": "markdown",
   "metadata": {},
   "source": [
    "Install hail"
   ]
  },
  {
   "cell_type": "code",
   "execution_count": null,
   "metadata": {},
   "outputs": [],
   "source": [
    "# run the following on terminal (on hna001)\n",
    "conda create -n hail python'>=3.6,<3.8'\n",
    "conda activate hail\n",
    "pip install hail"
   ]
  },
  {
   "cell_type": "code",
   "execution_count": null,
   "metadata": {},
   "outputs": [],
   "source": [
    "# let's also install rpy2 for R\n",
    "conda install -c r rpy2"
   ]
  },
  {
   "cell_type": "code",
   "execution_count": null,
   "metadata": {},
   "outputs": [],
   "source": []
  },
  {
   "cell_type": "code",
   "execution_count": 2,
   "metadata": {},
   "outputs": [],
   "source": [
    "\n"
   ]
  },
  {
   "cell_type": "code",
   "execution_count": null,
   "metadata": {},
   "outputs": [],
   "source": []
  },
  {
   "cell_type": "code",
   "execution_count": null,
   "metadata": {},
   "outputs": [],
   "source": []
  },
  {
   "cell_type": "code",
   "execution_count": 1,
   "metadata": {},
   "outputs": [],
   "source": []
  },
  {
   "cell_type": "code",
   "execution_count": null,
   "metadata": {},
   "outputs": [],
   "source": []
  },
  {
   "cell_type": "code",
   "execution_count": null,
   "metadata": {},
   "outputs": [],
   "source": [
    "%%bash\n",
    "\n",
    "module load Anaconda2\n",
    "conda activate burook2\n",
    "\n",
    "# vcftools C++ libraries\n",
    "conda install -c bioconda vcftools\n",
    "# vcftools Perl libraties\n",
    "conda install -c bioconda perl-vcftools-vcf\n",
    "# also need tabix libraries for vcftools\n",
    "conda install -c bioconda tabix\n",
    "\n",
    "# extract data for some individual samples (the first two are supposed to come from the same patient)\n",
    "bcftools view -s NB501156_54_HG2J7BGXY_1_ACAGTG SysBio_exome_merged2.vcf > smpl1\n",
    "bcftools view -s NB501156_87_HJH32BGXY_1_CGGCTATG SysBio_exome_merged2.vcf > smpl2\n",
    "bcftools view -s NB501156_56_HFWTTBGXY_1_ACAGTG SysBio_exome_merged2.vcf > smpl3\n",
    "\n",
    "\n",
    "vcf-merge smpl1.vcf.gz smpl2.vcf.gz > tmp111\n",
    "vcftools --relatedness --vcf tmp111 --out relatedness\n",
    "\n",
    "\n",
    "bedtools jaccard -a smpl1 -b smpl2"
   ]
  },
  {
   "cell_type": "code",
   "execution_count": null,
   "metadata": {},
   "outputs": [],
   "source": []
  },
  {
   "cell_type": "code",
   "execution_count": null,
   "metadata": {},
   "outputs": [],
   "source": [
    "\n"
   ]
  },
  {
   "cell_type": "code",
   "execution_count": null,
   "metadata": {},
   "outputs": [],
   "source": []
  }
 ],
 "metadata": {
  "kernelspec": {
   "display_name": "Python3.6 (Anaconda5.2.0)",
   "language": "python",
   "name": "python3.6_anaconda5.2.0"
  },
  "language_info": {
   "codemirror_mode": {
    "name": "ipython",
    "version": 3
   },
   "file_extension": ".py",
   "mimetype": "text/x-python",
   "name": "python",
   "nbconvert_exporter": "python",
   "pygments_lexer": "ipython3",
   "version": "3.6.5"
  }
 },
 "nbformat": 4,
 "nbformat_minor": 2
}
