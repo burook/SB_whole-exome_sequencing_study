{
 "cells": [
  {
   "cell_type": "markdown",
   "metadata": {},
   "source": [
    "## Variant filteration\n",
    "Filtering the variants with QC criteria.\n"
   ]
  },
  {
   "cell_type": "code",
   "execution_count": null,
   "metadata": {},
   "outputs": [],
   "source": [
    "%%bash\n",
    "\n",
    "# directory where input files are saved\n",
    "dir1=/data/humgen/burook/sysbio_exome/gatk_merged_vcf\n",
    "\n",
    "cd ${dir1}\n",
    "\n",
    "module load GATK\n",
    "# on erisone the GATK jar is located at $EBROOTGATK\n",
    "# (its full path is /apps/software/GATK/3.8-0-Java-1.8.0_161 )\n",
    "\n",
    "refloc1=/data/humgen/burook/ref\n",
    "\n",
    "\n",
    "java -jar /apps/software/GATK/3.8-0-Java-1.8.0_161/GenomeAnalysisTK.jar \\\n",
    "    -T VariantFiltration \\\n",
    "    --variant SysBio_indels_recalibrated.vcf \\\n",
    "    -R ${refloc1}/genome.fa \\\n",
    "    --out SysBio_indels_recalibrated_filtered.vcf \\\n",
    "\n",
    "\n",
    "\n",
    "\n",
    "--mask $PWDS/variants/${subjectID}.indels.PASS.vcf \\\n",
    "--maskName InDel \\\n",
    " --filterExpression \"QD < 2.0\" \\\n",
    " --filterName \"QDFilter\" \\\n",
    " --filterExpression \"MQ < 40.0\" \\\n",
    " --filterName \"MQFilter\" \\\n",
    " --filterExpression \"FS > 60.0\" \\\n",
    " --filterName \"FSFilter\" \\\n",
    " --filterExpression \"HaplotypeScore > 13.0\" \\\n",
    " --filterName \"HaplotypeScoreFilter\" \\\n",
    " --filterExpression \"MQRankSum < -12.5\" \\\n",
    " --filterName \"MQRankSumFilter\" \\\n",
    " --filterExpression \"ReadPosRankSum < -8.0\" \\\n",
    " --filterName \"ReadPosRankSumFilter\" \\\n",
    " --filterExpression \"QUAL < 30.0 || DP < 6 || DP > 5000 || HRun > 5\" \\\n",
    " --filterName \"StandardFilters\" \\\n",
    " --filterExpression \"MQ0 >= 4 && ((MQ0 / (1.0 * DP)) > 0.1)\" \\\n",
    " --filterName \"HARD_TO_VALIDATE\" \\\n",
    " -l OFF\n",
    "\n",
    " \n",
    "mline=`grep -n \"#CHROM\" $PWDS/${subjectID}.snps.all.vcf | cut -d':' -f 1`\n",
    "head -n $mline $PWDS/${subjectID}.snps.all.vcf > $PWDS/head.vcf\n",
    "cat $PWDS/${subjectID}.snps.all.vcf |   \\\n",
    " grep PASS | cat $PWDS/head.vcf - >   \\\n",
    " $PWDS/${subjectID}.snps.all.PASS.vcf\n"
   ]
  },
  {
   "cell_type": "code",
   "execution_count": null,
   "metadata": {},
   "outputs": [],
   "source": []
  }
 ],
 "metadata": {
  "kernelspec": {
   "display_name": "Python3.6 (Anaconda5.2.0)",
   "language": "python",
   "name": "python3.6_anaconda5.2.0"
  },
  "language_info": {
   "codemirror_mode": {
    "name": "ipython",
    "version": 3
   },
   "file_extension": ".py",
   "mimetype": "text/x-python",
   "name": "python",
   "nbconvert_exporter": "python",
   "pygments_lexer": "ipython3",
   "version": "3.6.5"
  }
 },
 "nbformat": 4,
 "nbformat_minor": 2
}
