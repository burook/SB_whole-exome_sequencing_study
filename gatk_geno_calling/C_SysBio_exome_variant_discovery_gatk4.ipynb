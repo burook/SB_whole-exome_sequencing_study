{
 "cells": [
  {
   "cell_type": "markdown",
   "metadata": {},
   "source": []
  },
  {
   "cell_type": "code",
   "execution_count": null,
   "metadata": {},
   "outputs": [],
   "source": []
  },
  {
   "cell_type": "markdown",
   "metadata": {},
   "source": []
  },
  {
   "cell_type": "code",
   "execution_count": null,
   "metadata": {},
   "outputs": [],
   "source": []
  },
  {
   "cell_type": "code",
   "execution_count": null,
   "metadata": {},
   "outputs": [],
   "source": []
  },
  {
   "cell_type": "markdown",
   "metadata": {},
   "source": [
    "## Consolidating GVCFs\n",
    "\n",
    "create sample list name"
   ]
  },
  {
   "cell_type": "code",
   "execution_count": null,
   "metadata": {},
   "outputs": [],
   "source": [
    "%%R\n",
    "list_VCF2.sample_map <- read_delim(\"/data/humgen/guffantilab/exome/SystemsBio/gatk_indiv_vcf/list_VCF1.list\", col_names = FALSE, delim = \"\\t\")\n",
    "\n",
    "list_VCF2.sample_map %>% \n",
    "  mutate(filename1 = str_remove(X1 , \"_recal3.vcf\")) %>% \n",
    "  subset(select=c(\"filename1\", \"X1\")) \n",
    "\n",
    "write.table(list_VCF2.sample_map, \"/data/humgen/guffantilab/exome/SystemsBio/gatk_indiv_vcf/list_VCF2.sample_map\", row.names = FALSE, col.names = FALSE, quote = FALSE, sep = \"\\t\")\n"
   ]
  },
  {
   "cell_type": "markdown",
   "metadata": {},
   "source": [
    "create exome interval file"
   ]
  },
  {
   "cell_type": "code",
   "execution_count": null,
   "metadata": {},
   "outputs": [],
   "source": [
    "%%bash\n",
    "curl -s \"http://hgdownload.cse.ucsc.edu/goldenpath/hg19/database/refGene.txt.gz\" |\\\n",
    "    gunzip -c | cut -f 3,5,6 | sort -t $'\\t' -k1,1 -k2,2n | bedtools merge -i - > exome.bed\n",
    "# There are some entries that are problamatic. Let's get rid of them.\n",
    "grep $'chr[1-9,X,Y]\\t\\|chr[1-9][0-9]\\t' exome.bed > exome2.bed\n",
    "\n",
    "# this option is not working.\n",
    "# Let's work on the whole genome and subset it to the exome list later.\n"
   ]
  },
  {
   "cell_type": "markdown",
   "metadata": {},
   "source": [
    "Write the following in a file named consolidate_gvcf.sh."
   ]
  },
  {
   "cell_type": "code",
   "execution_count": null,
   "metadata": {},
   "outputs": [],
   "source": [
    "#!/bin/bash\n",
    "\n",
    "# directory where input files are saved\n",
    "dir1=$1\n",
    "\n",
    "cd ${dir1}\n",
    "\n",
    "refloc1=/data/humgen/burook/ref\n",
    "\n",
    "/PHShome/bm363/bin/gatk-4.1.7.0/gatk GenomicsDBImport \\\n",
    "    --genomicsdb-workspace-path ${dir1}/SB_gdb \\\n",
    "    -L ${dir1}/exome2.bed \\\n",
    "    --sample-name-map ${dir1}/list_VCF2.sample_map"
   ]
  },
  {
   "cell_type": "code",
   "execution_count": null,
   "metadata": {},
   "outputs": [],
   "source": [
    "# input data directory\n",
    "dir1=/data/humgen/guffantilab/exome/SystemsBio/gatk_indiv_vcf\n",
    "\n",
    "bsub -m \"hna001\" -n 24 -M 128000 -o \"tmpc4.out\" -e \"tmpc4.err\" \"sh /PHShome/bm363/WES_analysis/notebooks/consolidate_gvcf.sh  ${dir1}\"\n"
   ]
  },
  {
   "cell_type": "markdown",
   "metadata": {},
   "source": [
    "## Joint Genotyping\n"
   ]
  },
  {
   "cell_type": "code",
   "execution_count": null,
   "metadata": {},
   "outputs": [],
   "source": []
  },
  {
   "cell_type": "markdown",
   "metadata": {},
   "source": [
    "Save the following joint genotying scrintp in a file named joint_variant_calling.sh"
   ]
  },
  {
   "cell_type": "code",
   "execution_count": null,
   "metadata": {},
   "outputs": [],
   "source": [
    "#!/bin/bash\n",
    "\n",
    "# directory where input files are saved\n",
    "dir1=$1\n",
    "\n",
    "cd ${dir1}\n",
    "\n",
    "refloc1=/data/humgen/burook/ref\n",
    "refloc2=/pub/genome_references/gatk-bundle/1.5/hg19\n",
    "\n",
    "# Joint variant calling\n",
    "\n",
    "#java -jar /PHShome/bm363/bin/gatk-4.1.7.0/gatk-package-4.1.7.0-local.jar \\\n",
    "#java -jar /PHShome/bm363/bin/gatk-4.1.7.0/gatk-package-4.1.7.0-spark.jar \\\n",
    "/PHShome/bm363/bin/gatk-4.1.7.0/gatk \\\n",
    "    GenotypeGVCFs \\\n",
    "    -R ${refloc1}/genome.fa \\\n",
    "    -V ${dir1}/SB_gdb \\\n",
    "    --dbsnp ${refloc1}/dbsnp_135.hg19.vcf \\\n",
    "    -O SysBio_exome_merged3.vcf"
   ]
  },
  {
   "cell_type": "markdown",
   "metadata": {},
   "source": [
    "Now call this script from bash"
   ]
  },
  {
   "cell_type": "code",
   "execution_count": null,
   "metadata": {},
   "outputs": [],
   "source": [
    "%%bash\n",
    "\n",
    "# input data directory\n",
    "dir1=/data/humgen/burook/sysbio_exome/gatk_indiv_vcf\n",
    "# output data directory\n",
    "dir2=/data/humgen/burook/sysbio_exome/gatk_merged_vcf\n",
    "\n",
    "bsub -m \"hna001\" -n 24 -M 64000 -o \"tmp52.out\" -e \"tmp52.err\" \"sh joint_variant_calling.sh  ${dir1}\"\n",
    "\n",
    "# now let's move the output to the desired directory\n",
    "mv ${dir1}/SysBio_exome_merged1.vcf ${dir2}/"
   ]
  },
  {
   "cell_type": "markdown",
   "metadata": {},
   "source": []
  },
  {
   "cell_type": "code",
   "execution_count": null,
   "metadata": {},
   "outputs": [],
   "source": []
  },
  {
   "cell_type": "markdown",
   "metadata": {},
   "source": [
    "## Variant Recalibration"
   ]
  },
  {
   "cell_type": "code",
   "execution_count": null,
   "metadata": {},
   "outputs": [],
   "source": []
  },
  {
   "cell_type": "markdown",
   "metadata": {},
   "source": []
  },
  {
   "cell_type": "code",
   "execution_count": null,
   "metadata": {},
   "outputs": [],
   "source": []
  },
  {
   "cell_type": "code",
   "execution_count": null,
   "metadata": {},
   "outputs": [],
   "source": []
  },
  {
   "cell_type": "markdown",
   "metadata": {},
   "source": [
    "## Subset final VCF to the target exome list"
   ]
  },
  {
   "cell_type": "code",
   "execution_count": null,
   "metadata": {},
   "outputs": [],
   "source": []
  }
 ],
 "metadata": {
  "kernelspec": {
   "display_name": "Python3.6 (Anaconda5.2.0)",
   "language": "python",
   "name": "python3.6_anaconda5.2.0"
  },
  "language_info": {
   "codemirror_mode": {
    "name": "ipython",
    "version": 3
   },
   "file_extension": ".py",
   "mimetype": "text/x-python",
   "name": "python",
   "nbconvert_exporter": "python",
   "pygments_lexer": "ipython3",
   "version": "3.6.5"
  }
 },
 "nbformat": 4,
 "nbformat_minor": 2
}
